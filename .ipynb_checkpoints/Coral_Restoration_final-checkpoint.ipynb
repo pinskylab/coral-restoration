{
 "cells": [
  {
   "cell_type": "markdown",
   "metadata": {},
   "source": [
    "# CORAL RESTORATION NOTEBOOK"
   ]
  },
  {
   "cell_type": "markdown",
   "metadata": {},
   "source": [
    "## Load packages"
   ]
  },
  {
   "cell_type": "code",
   "execution_count": 1,
   "metadata": {},
   "outputs": [],
   "source": [
    "import numpy as np\n",
    "import seaborn as sns\n",
    "sns.set(style='ticks', palette='Paired')\n",
    "import matplotlib as mpl\n",
    "import matplotlib.pyplot as plt\n",
    "from matplotlib.colors import NoNorm\n",
    "import time\n",
    "import random\n",
    "from __future__ import division\n",
    "from scipy.linalg import circulant\n",
    "import networkx as nx\n",
    "\n",
    "%matplotlib inline"
   ]
  },
  {
   "cell_type": "markdown",
   "metadata": {},
   "source": [
    "# FUNCTIONS"
   ]
  },
  {
   "cell_type": "markdown",
   "metadata": {},
   "source": [
    "## Growth rate function: growth_fun()\n",
    "\n",
    "#### Function: \n",
    "Growth rate function (Equation (3) from supplemental material to Norberg et al. 2012). <br> \n",
    "\n",
    "#### Description: \n",
    "Calculate growth rate as a function of species trait (optimum temperature) and local environmental condition (reef temperature).\n",
    "\n",
    "#### Parameters:\n",
    "*r_max*:    Maximum growth rate for species <br> \n",
    "*T*:        Current temperature of reef <br> \n",
    "*z*:        Current optimum temperature for species <br> \n",
    "*w*:        Temperature tolerance <br> \n",
    "*species_type*: Species type ID that determines type of growth <br>"
   ]
  },
  {
   "cell_type": "code",
   "execution_count": 2,
   "metadata": {},
   "outputs": [],
   "source": [
    "def growth_fun(r_max,T,z,w,species_type):\n",
    "    if z.shape[0] > 1: # If there is more than one reef\n",
    "        T = np.repeat(T,z.shape[1]).reshape(z.shape[0],z.shape[1])\n",
    "    else: # If there is a single reef\n",
    "        T = np.array([np.repeat(T,z.shape[1])])\n",
    "        \n",
    "    r = np.zeros((z.shape[0],z.shape[1])) #Preallocate growth vector\n",
    "    coral_col = np.where(species_type == 1)[1]\n",
    "    algae_col = np.where(species_type == 2)[1]\n",
    "    r[:,coral_col] =( (r_max[:,coral_col]/np.sqrt(2.*np.pi*pow(w[:,coral_col],2.)))\n",
    "                    *np.exp((-pow((T[:,coral_col]-z[:,coral_col]),2.))/(2*pow(w[:,coral_col],2.))) )\n",
    "    r[:,algae_col] = 0.49 * r_max[:,algae_col]\n",
    "\n",
    "    return r"
   ]
  },
  {
   "cell_type": "markdown",
   "metadata": {},
   "source": [
    "## Mortality function: mortality_fun()\n",
    "\n",
    "Mortality rate function proposed as an alternative to constant mortality rate from Norberg et al. (2012) <br>\n",
    "Determines mortality rate as a function of species trait (optimum temperature) and local environmental condition (reef\n",
    "temperature).\n",
    "\n",
    "Note: MPA status only affects algal mortality rate\n",
    "\n",
    "#### Parameters:\n",
    "\n",
    "*r_max*: Maximum growth rate (potentially used for other mortality functional forms) <br>\n",
    "*T*:   Current temperature of reef <br>\n",
    "*z*:   Current optimum temperature for species <br>\n",
    "*w*:   Temperature tolerance <br>\n",
    "*species_type*: Species type ID that determines type of mortality <br>\n",
    "*mpa_status*:  Protected area status of the reef <br>\n",
    "*alg_mort*: algal mortality rate in non-mpa reefs"
   ]
  },
  {
   "cell_type": "code",
   "execution_count": 3,
   "metadata": {},
   "outputs": [],
   "source": [
    "def mortality_fun(r_max,T,z,w,species_type,mpa_status,alg_mort):\n",
    "    \n",
    "    m = np.zeros((z.shape[0],z.shape[1])) # Preallocate mortality vector\n",
    "    algae_col = np.array([np.where(species_type == 2)[1]]) # Find algae columns\n",
    "    \n",
    "    if z.shape[0] > 1: # If there is more than one reef\n",
    "        T = np.repeat(T,z.shape[1]).reshape(z.shape[0],z.shape[1]) # Reshape T array to correspond with z matrix\n",
    "        \n",
    "        m[z<T] = 1 - np.exp(-pow((T-z),2)/pow(w,2))[z<T]\n",
    "        m[z>=T] = 0\n",
    "        \n",
    "        # Indices of mpa reefs (corresponds to rows in N_all)\n",
    "        is_mpa = np.array([np.where(mpa_status == 1)[1]]) \n",
    "        # Indices of non-mpa reefs (corresponds to rows in N_all)\n",
    "        not_mpa = np.array([np.where(mpa_status != 1)[1]])\n",
    "        \n",
    "        # Create arrays of indices that correspond to is_mpa & algae_col and not_mpa & algae_col\n",
    "        is_mpa_rows = np.array([is_mpa.repeat(algae_col.shape[1])]) \n",
    "        not_mpa_rows = np.array([not_mpa.repeat(algae_col.shape[1])])\n",
    "        algae_col_is_mpa = np.tile(algae_col,is_mpa.shape[1])\n",
    "        algae_col_not_mpa = np.tile(algae_col,not_mpa.shape[1])\n",
    "\n",
    "        # Macroalgae calculations for multiple reefs\n",
    "        m[is_mpa_rows,algae_col_is_mpa] = 0.3\n",
    "        m[not_mpa_rows,algae_col_not_mpa] = alg_mort[not_mpa_rows]\n",
    "        \n",
    "    else: # If there is a single reef\n",
    "        T = np.array([np.repeat(T,z.shape[1])])\n",
    "    \n",
    "        #Coral calculations\n",
    "        m[z<T] = 1 - np.exp(-pow((T-z),2)/pow(w,2))[z<T]\n",
    "        m[z>=T] = 0\n",
    "        \n",
    "        # Macroalgae calculations for a single reef\n",
    "        if mpa_status == 1:\n",
    "             m[0,algae_col] = 0.3\n",
    "        else:\n",
    "            m[0,algae_col] = alg_mort\n",
    "\n",
    "    # Apply a correction such that the minimum amount of mortality experienced is 0.03        \n",
    "    m[m<0.03] = 0.03\n",
    "    \n",
    "    return m"
   ]
  },
  {
   "cell_type": "markdown",
   "metadata": {},
   "source": [
    "## Fitness function: fitness_fun\n",
    "\n",
    "Fitness function (Equation (2) from supplemental material to Norberg et al. 2012). Determines fitness as a \n",
    "function of local growth rate, mortality rate, and species interactions (competition for space).\n",
    "\n",
    "#### Calls:\n",
    "growth_fun( )<br>\n",
    "mortality_fun( )\n",
    "\n",
    "#### Parameters:\n",
    "\n",
    "*r_max*: Maximum growth rate (potentially used for other mortality functional forms) <br>\n",
    "*T*:   Current temperature of reef <br>\n",
    "*z*:   Current optimum temperature for species <br>\n",
    "*w*:   Temperature tolerance <br>\n",
    "*alphas*: Species interaction matrix <br>\n",
    "*species_type*: Species type ID that determines type of mortality <br>\n",
    "*mpa_status*: Protected area status of the reef <br>\n",
    "*N_all*: Matrix of abundance for all species <br>\n",
    "*m_const*: Constant mortality rate <br>\n",
    "*mortality_model*: Use either constant or temperature-varying mortality be used? (\"temp_vary\" or \"constant\") <br>\n",
    "*alg_mort*: algal mortality rate in non-mpa reefs\n",
    "\n",
    "#### Returns:\n",
    "*g*: A matrix containing the fitness of all species at all reefs, or a single vector of species fitness if there is only one reef\n",
    "\n",
    "#### Notes: \n",
    "The functions growth_fun( ) and mortality_fun( ) already adjust the temperature vector so there is no need to do that in this function. "
   ]
  },
  {
   "cell_type": "code",
   "execution_count": 4,
   "metadata": {},
   "outputs": [],
   "source": [
    "def fitness_fun(r_max,T,z,w,alphas,species_type,mpa_status,N_all,m_const,mortality_model,alg_mort):\n",
    "    r = growth_fun(r_max,T,z,w,species_type)\n",
    "    \n",
    "    # If mortality varies with temperature\n",
    "    if mortality_model == \"temp_vary\":\n",
    "        m = mortality_fun(r_max,T,z,w,species_type,mpa_status,alg_mort)    \n",
    "    # If mortality is constant\n",
    "    else: \n",
    "        m = m_const\n",
    "    \n",
    "    #If there is more than one reef\n",
    "    if N_all.shape[0] > 1:\n",
    "        sum_interactions = np.array([np.sum(N_all[index,:] * alphas, axis=1) for index in range(N_all.shape[0])])\n",
    "    else:\n",
    "        sum_interactions = np.sum(alphas * N_all, axis=1)\n",
    "\n",
    "    g = r * (1-sum_interactions) - m\n",
    "    \n",
    "    return g"
   ]
  },
  {
   "cell_type": "markdown",
   "metadata": {},
   "source": [
    "## Function to calculate dg/dz: dGdZ_fun()\n",
    "\n",
    "Function to calculate the partial derivative of growth rate across changes in trait space. This function is used in the directional selection component of equation (1b) in the Norberg et al. 2012 supplemental material. \n",
    "\n",
    "#### Calls:\n",
    "fitness_fun()\n",
    "\n",
    "#### Parameters:\n",
    "\n",
    "*r_max*: Maximum growth rate (potentially used for other mortality functional forms) <br>\n",
    "*T*:   Current temperature of reef <br>\n",
    "*z*:   Current optimum temperature for species <br>\n",
    "*w*:   Temperature tolerance <br>\n",
    "*alphas*: Species interaction matrix <br>\n",
    "*species_type*: Species type ID that determines type of mortality <br>\n",
    "*mpa_status*: Protected area status of the reef <br>\n",
    "*N_all*: Vector of abundance for all species <br>\n",
    "*m_const*: Constant mortality rate <br>\n",
    "*mortality_model*: Use either constant or temperature-varying mortality be used? (\"temp_vary\" or \"constant\") <br>\n",
    "*alg_mort*: algal mortality rate in non-mpa reefs"
   ]
  },
  {
   "cell_type": "code",
   "execution_count": 5,
   "metadata": {},
   "outputs": [],
   "source": [
    "def dGdZ_fun(r_max,T,z,w,alphas,species_type,mpa_status,N_all,m_const,mortality_model,alg_mort):\n",
    "    h = 1e-5\n",
    "    dGdZ = np.zeros(z.shape)\n",
    "    \n",
    "    #If there is more than one reef\n",
    "    if N_all.shape[0] > 1:\n",
    "        # For each reef\n",
    "        for i in np.arange(z.shape[0]): \n",
    "            # For each species\n",
    "            for j in np.arange(z.shape[1]):\n",
    "                h_matrix = np.zeros(z.shape)\n",
    "                h_matrix[i,j] = h\n",
    "                # Take the symmetric difference quotient at point z[i,j]\n",
    "                term1 = fitness_fun(r_max,T,z+h_matrix,w,alphas,species_type,mpa_status,\n",
    "                                     N_all,m_const,mortality_model,alg_mort)\n",
    "                term2 = fitness_fun(r_max,T,z-h_matrix,w,alphas,species_type,mpa_status,\n",
    "                                         N_all,m_const,mortality_model,alg_mort)\n",
    "                delta = (term1-term2)/(2*h)\n",
    "                dGdZ[i,j] = delta[i,j]\n",
    "    else:\n",
    "        for j in np.arange(z.shape[1]):\n",
    "            h_array = np.zeros(z.shape)\n",
    "            h_array[0,j] = h\n",
    "            # Take the symmetric difference quotient at point z[i,j]\n",
    "            term1 = fitness_fun(r_max,T,z+h_array,w,alphas,species_type,mpa_status,\n",
    "                                 N_all,m_const,mortality_model,alg_mort)\n",
    "            term2 = fitness_fun(r_max,T,z-h_array,w,alphas,species_type,mpa_status,\n",
    "                                     N_all,m_const,mortality_model,alg_mort)\n",
    "            delta = (term1-term2)/(2*h)\n",
    "            dGdZ[0,j] = delta[0,j]\n",
    "            \n",
    "    return dGdZ"
   ]
  },
  {
   "cell_type": "markdown",
   "metadata": {},
   "source": [
    "## Function to calculate d2g/dz2: dGdZ2_fun()\n",
    "\n",
    "Function to calculate the second partial derivative of growth rate across changes in trait space. This function is used in the genetic laod component of equation (1a) in the Norberg et al. 2012 supplemental material. \n",
    "\n",
    "Calls: fitness_fun()\n",
    "\n",
    "#### Parameters:\n",
    "\n",
    "*r_max*: Maximum growth rate (potentially used for other mortality functional forms) <br>\n",
    "*T*:   Current temperature of reef <br>\n",
    "*z*:   Current optimum temperature for species <br>\n",
    "*w*:   Temperature tolerance <br>\n",
    "*alphas*: Species interaction matrix <br>\n",
    "*species_type*: Species type ID that determines type of mortality <br>\n",
    "*mpa_status*: Protected area status of the reef <br>\n",
    "*N_all*: Matrix of abundance for all species <br>\n",
    "*m_const*: Constant mortality rate <br>\n",
    "*mortality_model*: Use either constant or temperature-varying mortality be used? (\"temp_vary\" or \"constant\") <br>\n",
    "*alg_mort*: algal mortality rate in non-mpa reefs\n"
   ]
  },
  {
   "cell_type": "code",
   "execution_count": 6,
   "metadata": {},
   "outputs": [],
   "source": [
    "def dGdZ2_fun(r_max,T,z,w,alphas,species_type,mpa_status,N_all,m_const,mortality_model,alg_mort):\n",
    "    h = 1e-5\n",
    "    dGdZ2 = np.zeros(z.shape)\n",
    "    \n",
    "    #If there is more than one reef\n",
    "    if N_all.shape[0] > 1:\n",
    "        # For each reef\n",
    "        for i in np.arange(z.shape[0]): \n",
    "            # For each species\n",
    "            for j in np.arange(z.shape[1]):\n",
    "                h_matrix = np.zeros(z.shape)\n",
    "                h_matrix[i,j] = h\n",
    "                # Take the symmetric difference quotient at point z[i,j]\n",
    "                term1 = fitness_fun(r_max,T,z+h_matrix,w,alphas,species_type,mpa_status,\n",
    "                                     N_all,m_const,mortality_model,alg_mort)\n",
    "                term2 = fitness_fun(r_max,T,z-h_matrix,w,alphas,species_type,mpa_status,\n",
    "                                         N_all,m_const,mortality_model,alg_mort)\n",
    "                term3 = fitness_fun(r_max,T,z,w,alphas,species_type,mpa_status,\n",
    "                                         N_all,m_const,mortality_model,alg_mort)\n",
    "                delta = (term1+term2-2*term3)/pow(h,2)\n",
    "                dGdZ2[i,j] = delta[i,j]\n",
    "                \n",
    "    else:\n",
    "        for j in np.arange(z.shape[1]):\n",
    "            h_array = np.zeros(z.shape)\n",
    "            h_array[0,j] = h\n",
    "            # Take the symmetric difference quotient at point z[i,j]\n",
    "            term1 = fitness_fun(r_max,T,z+h_array,w,alphas,species_type,mpa_status,\n",
    "                                 N_all,m_const,mortality_model,alg_mort)\n",
    "            term2 = fitness_fun(r_max,T,z-h_array,w,alphas,species_type,mpa_status,\n",
    "                                     N_all,m_const,mortality_model,alg_mort)\n",
    "            term3 = fitness_fun(r_max,T,z,w,alphas,species_type,mpa_status,\n",
    "                                     N_all,m_const,mortality_model,alg_mort)\n",
    "            delta = (term1+term2-2*term3)/pow(h,2)\n",
    "            dGdZ2[0,j] = delta[0,j]\n",
    "            \n",
    "    return dGdZ2"
   ]
  },
  {
   "cell_type": "markdown",
   "metadata": {},
   "source": [
    "## Function to calculate dN/dt: dNdt_fun()\n",
    "\n",
    "Function to calculate the derivative of percent cover across time. Based on equation (1a) in the Norberg et al. 2012 supplemental material. \n",
    "\n",
    "#### Calls: \n",
    "fitness_fun()\n",
    "\n",
    "#### Parameters:\n",
    "\n",
    "*r_max*: Maximum growth rate (potentially used for other mortality functional forms) <br>\n",
    "*T*:   Current temperature of reef <br>\n",
    "*z*:   Current optimum temperature for species <br>\n",
    "*w*:   Temperature tolerance <br>\n",
    "*alphas*: Species interaction matrix <br>\n",
    "*species_type*: Species type ID that determines type of mortality <br>\n",
    "*mpa_status*: Protected area status of the reef <br>\n",
    "*N_all*: Matrix of abundance for all species <br>\n",
    "*m_const*: Constant mortality rate <br>\n",
    "*mortality_model*: Use either constant or temperature-varying mortality be used? (\"temp_vary\" or \"constant\") <br>\n",
    "*alg_mort*: Algal mortality rate in non-mpa reefs <br>\n",
    "*V*: Genetic variation <br>\n",
    "*D*: Dispersal matrix (same for all species) <br>\n",
    "*beta*: Vector of combined dipsersal and effective fecundity rate"
   ]
  },
  {
   "cell_type": "code",
   "execution_count": 7,
   "metadata": {},
   "outputs": [],
   "source": [
    "def dNdt_fun(r_max,T,z,w,alphas,species_type,mpa_status,N_all,m_const,mortality_model,alg_mort,V,D,beta):    \n",
    "    \n",
    "    if N_all.shape[0] > 1:\n",
    "        V = np.tile(V, N_all.shape[0]).reshape(N_all.shape[0],N_all.shape[1])\n",
    "    \n",
    "    g = fitness_fun(r_max,T,z,w,alphas,species_type,mpa_status,N_all,m_const,mortality_model,alg_mort)\n",
    "    dGdZ2 = dGdZ2_fun(r_max,T,z,w,alphas,species_type,mpa_status,N_all,m_const,mortality_model,alg_mort)      \n",
    "    popdy = np.multiply(N_all,g)\n",
    "    genload = 0.5 * V * dGdZ2 * N_all\n",
    "    \n",
    "    dispersal = beta * np.dot(D,N_all)\n",
    "    free_space = 1 - N_all.sum(axis=1)\n",
    "    larval_input = np.array([dispersal[index,:] * x for index, x in enumerate(free_space)])\n",
    "    \n",
    "    # Algae don't experience recruitment from other reefs\n",
    "    algae_ID = np.where(species_type==2)[1] #find algae columns\n",
    "    larval_input[:,algae_ID] = 0\n",
    "    \n",
    "    dNdt = popdy + genload + larval_input\n",
    "    \n",
    "    #! Prevent NaN or population values below 1e-6 in output\n",
    "    if np.isnan(dNdt).any():\n",
    "        ID = np.where(np.isnan(dNdt))\n",
    "        dNdt[ID] = 1e-6\n",
    "    if (dNdt+N_all < 1e-6).any():\n",
    "        ID = np.where(dNdt+N_all < 1e-6)\n",
    "        dNdt[ID] = 1e-6\n",
    "\n",
    "    return dNdt"
   ]
  },
  {
   "cell_type": "markdown",
   "metadata": {},
   "source": [
    "## Function to calculate q: q_fun()\n",
    "\n",
    "Function to prevent directional selection of virtually extinct populations and enhance numerical stability. Described in supplemental material of Norberg et al (2012).\n",
    "\n",
    "#### Parameters:\n",
    "*N_all*: Matrix of abundance for all species <br>\n",
    "*N_min*: Minimum value for percent cover at any given location"
   ]
  },
  {
   "cell_type": "code",
   "execution_count": 8,
   "metadata": {},
   "outputs": [],
   "source": [
    "def q_fun(N_all, N_min=1e-6):\n",
    "    q = np.maximum(0, 1- N_min/(np.maximum(N_min,2*N_all)))\n",
    "    return q"
   ]
  },
  {
   "cell_type": "markdown",
   "metadata": {},
   "source": [
    "## Function to calculate dZ/dt: dZdt_fun()\n",
    "\n",
    "Function to calculate the derivative of average trait value across time. Based on equation (1b) in the Norberg et al. 2012 supplemental material. \n",
    "\n",
    "#### Calls: \n",
    "fitness_fun() <br>\n",
    "dGdZ_fun()\n",
    "\n",
    "#### Parameters:\n",
    "\n",
    "*r_max*: Maximum growth rate (potentially used for other mortality functional forms) <br>\n",
    "*T*:   Current temperature of reef <br>\n",
    "*z*:   Current optimum temperature for species <br>\n",
    "*w*:   Temperature tolerance <br>\n",
    "*alphas*: Species interaction matrix <br>\n",
    "*species_type*: Species type ID that determines type of mortality <br>\n",
    "*mpa_status*: Protected area status of the reef <br>\n",
    "*N_all*: Matrix of abundance for all species <br>\n",
    "*m_const*: Constant mortality rate <br>\n",
    "*mortality_model*: Use either constant or temperature-varying mortality be used? (\"temp_vary\" or \"constant\") <br>\n",
    "*alg_mort*: Algal mortality rate in non-mpa reefs <br>\n",
    "*V*: Genetic variation <br>\n",
    "*D*: Dispersal matrix (same for all species) <br>\n",
    "*beta*: Vector of combined dipsersal and effective fecundity rate <br>"
   ]
  },
  {
   "cell_type": "code",
   "execution_count": 9,
   "metadata": {},
   "outputs": [],
   "source": [
    "def dZdt_fun(r_max,T,z,w,alphas,species_type,mpa_status,N_all,m_const,mortality_model,alg_mort,V,D,beta):\n",
    "        \n",
    "    if N_all.shape[0] > 1:\n",
    "        V = np.tile(V, N_all.shape[0]).reshape(N_all.shape[0],N_all.shape[1])\n",
    "    \n",
    "    q = q_fun(N_all)\n",
    "    dGdZ = dGdZ_fun(r_max,T,z,w,alphas,species_type,mpa_status,N_all,m_const,mortality_model,alg_mort)\n",
    "    directional_selection = q * V * dGdZ\n",
    "    gene_flow_term1 = (np.dot(D, N_all * z) / np.dot(D, N_all)) - z\n",
    "    gene_flow_term2 = (beta * np.dot(D, N_all)) / (beta * np.dot(D, N_all) + N_all)\n",
    "    free_space = 1 - N_all.sum(axis=1)\n",
    "    gene_flow = np.array([(gene_flow_term1*gene_flow_term2)[index,:] * x for index, x in enumerate(free_space)])\n",
    "    \n",
    "    algae_ID = np.where(species_type==2)[1] #find algae columns\n",
    "    gene_flow[:,algae_ID] = 0\n",
    "    \n",
    "    dZdt = directional_selection + gene_flow\n",
    "    \n",
    "    return dZdt"
   ]
  },
  {
   "cell_type": "markdown",
   "metadata": {},
   "source": [
    "## Function to generate initial temperatures across the reef: generate_temps()\n",
    "\n",
    "Function to generate temperatures across the reef. Temperatures can take on several patterns, including uniform, linear increase, or randomized\n",
    "\n",
    "#### Parameters:\n",
    "\n",
    "*size*: Number of patches in the network <br>\n",
    "*mid*: Mean of the temperature range on reef <br>\n",
    "*range*: Range of temperatures across reef <br>\n",
    "*temp_scenario*: Temperature scenario. **Uniform** has same (mid value) temperature at all locations. \n",
    "**Linear** has a linearly increasing temperature centered on mid value. \n",
    "**Random** draws a random temperature for each patch from a normal distribution with mean equal to mid value, and sd equal to half of range value."
   ]
  },
  {
   "cell_type": "code",
   "execution_count": 10,
   "metadata": {},
   "outputs": [],
   "source": [
    "def generate_temps_fun(size,mid=25,temp_range=2.5,temp_scenario='linear'):\n",
    "    if temp_scenario == 'uniform':\n",
    "        temps = np.repeat(mid,size)\n",
    "    if temp_scenario == 'linear':\n",
    "        temps = np.linspace(mid-temp_range, mid+temp_range, size)\n",
    "    elif temp_scenario == 'random':\n",
    "        a = np.linspace(mid-temp_range, mid+temp_range, size)\n",
    "        temps = np.random.choice(a, size, replace=False, p=None)\n",
    "    return temps"
   ]
  },
  {
   "cell_type": "markdown",
   "metadata": {},
   "source": [
    "## Function to generate a gradient of temperatures based on a cosine function: generate_temps_cos_fun()\n",
    "\n",
    "Function to generate temperatures across the reef. Temperatures can take on several patterns, including uniform, linear increase, or randomized\n",
    "\n",
    "#### Parameters:\n",
    "\n",
    "*size*: Number of patches in the network <br>\n",
    "*min_SST*: lowest temperature in network <br>\n",
    "*max_SST*: highest temperature in network <br>\n",
    "*mid*: Mean of the temperature range on reef <br>"
   ]
  },
  {
   "cell_type": "code",
   "execution_count": 11,
   "metadata": {},
   "outputs": [],
   "source": [
    "def generate_temps_cos_fun(size,min_SST=20,max_SST=30):\n",
    "    range_SST = max_SST - min_SST\n",
    "    mid = range_SST/2\n",
    "    mid_SST = (max_SST + min_SST)/2\n",
    "    x_vals = np.linspace(0,2,size)\n",
    "    cos_vals = mid * np.cos(np.pi*x_vals) + mid_SST\n",
    "    return cos_vals"
   ]
  },
  {
   "cell_type": "markdown",
   "metadata": {},
   "source": [
    "## Function to generate initial traits across the reef: generate_traits_fun()\n",
    "\n",
    "Function to generate traits across the reef. Traits can take on several patterns including uniform, linear increase or randomized. Traits represent the optimum temperature for species i at each location.\n",
    "\n",
    "#### Parameters:\n",
    "*nsp*: Number of species in the model <br>\n",
    "*size*: Number of patches in the network <br>\n",
    "*mid*: Mean of the temperature range on reef <br>\n",
    "*range*: Range of temperatures across reef <br>\n",
    "*temps*: Temperatures at each reef location <br>\n",
    "*trait_scenario*: Trait scenario. **u_constant** has unique traits for each species, which are constant across the network. **perfect_adapt** has perfectly adapted organisms, whose traits are equal to the temperature on the reef patch. **same_constant** produces the same trait for all species at all patches."
   ]
  },
  {
   "cell_type": "code",
   "execution_count": 12,
   "metadata": {},
   "outputs": [],
   "source": [
    "def generate_traits_fun(nsp,size,temps,mid=25,temp_range=2.5,trait_scenario='perfect_adapt'):\n",
    "    if trait_scenario == 'u_constant':\n",
    "        a = np.linspace(mid-(temp_range/4), mid+(temp_range/4), nsp+2)[1:-nsp+2]\n",
    "        b = np.repeat(a,size)\n",
    "        traits = np.reshape(b,(nsp,\n",
    "                               size))\n",
    "    if trait_scenario == 'same_constant':\n",
    "        traits = np.full((nsp,size),mid)\n",
    "    elif trait_scenario == 'perfect_adapt':\n",
    "        a = np.tile(temps,nsp)\n",
    "        traits = np.reshape(a,(nsp,size))\n",
    "    return traits.T"
   ]
  },
  {
   "cell_type": "markdown",
   "metadata": {},
   "source": [
    "## Function to generate starting percent covers for all species at each patch: generate_state_fun()"
   ]
  },
  {
   "cell_type": "code",
   "execution_count": 13,
   "metadata": {},
   "outputs": [],
   "source": [
    "def generate_state_fun(size, nsp, cover=0.01,random=False):\n",
    "    state = np.full((size,nsp),cover)\n",
    "    if random:\n",
    "        state = np.full(nsp*size,np.random.uniform(1e-6,.33,nsp*size)).reshape(size,nsp)\n",
    "    return state"
   ]
  },
  {
   "cell_type": "markdown",
   "metadata": {},
   "source": [
    "## Function to set MPA design relative to protection strategy: set_MPA_fun()"
   ]
  },
  {
   "cell_type": "code",
   "execution_count": 14,
   "metadata": {},
   "outputs": [],
   "source": [
    "def set_MPA_fun(temps,N_all,species_type,size,amount=0.2,strategy='random'):\n",
    "    mpa = np.zeros(size)\n",
    "    ID = np.where(species_type==1)[1]\n",
    "    corals = N_all[:,ID].sum(axis=1) # Get the subset of N_all that corresponds to coral cover per reef\n",
    "    #The following line applies to the 'portfolio' strategy that I haven't coded here\n",
    "    ncoral = np.asarray(np.where(species_type==1)).sum() # How many coral species?\n",
    "    \n",
    "    if strategy == 'none':\n",
    "        index = np.asarray([])\n",
    "    elif strategy=='hot':\n",
    "        index = (-temps).argsort()[0:np.int(amount*size)]\n",
    "    elif strategy=='cold':\n",
    "        index = temps.argsort()[0:np.int(amount*size)]\n",
    "    elif strategy=='hotcold':\n",
    "        index = np.r_[0:np.int(amount*size/2),np.int(size-(amount*size/2)):np.int(size)]\n",
    "    elif strategy=='space':\n",
    "        index = np.round(np.linspace(0,size-1,np.int(amount*size)))\n",
    "    elif strategy=='highcoral':\n",
    "        index = (-corals).argsort()[0:np.int(amount*size)]\n",
    "    elif strategy=='lowcoral':\n",
    "        index = corals.argsort()[0:np.int(amount*size)]\n",
    "    elif strategy=='random':\n",
    "        index = np.random.choice(np.arange(0,size),np.int(amount*size), replace=False)\n",
    "    \n",
    "    mpa[index.astype(int)]=1\n",
    "    return np.array([mpa])    "
   ]
  },
  {
   "cell_type": "markdown",
   "metadata": {},
   "source": [
    "## Function to set restoration strategy: set_restore_fun()\n",
    "\n",
    "Function to assign restoration sites on the network. Restoration site assignment can be assigned to hot reefs, cold reefs, low coral, high coral, random, etc.\n",
    "\n",
    "#### Parameters:\n",
    "*temps*: Temperatures at each reef location <br>\n",
    "*N_all*: Number of species in the model <br>\n",
    "*species_type*: Species type ID, coral=1, macroalgae=2 <br>\n",
    "*size*: Number of patches in the network <br>\n",
    "*amount*: Percentage of reefs on network where restoration is active <br>\n",
    "*strategy*: Strategy that describes placement of restoration sites. **hot** chooses the hottest reefs. **cold** chooses the coldest reefs. **hotcold** chooses the hottest and coldest reefs. **highcoral** chooses the reefs with high coral cover. **lowcoral** chooses the reefs with low coral cover. **random** chooses sites at random."
   ]
  },
  {
   "cell_type": "code",
   "execution_count": 15,
   "metadata": {},
   "outputs": [],
   "source": [
    "def set_restore_fun(temps,N_all,species_type,size,amount=1.0,strategy='random'):\n",
    "    restore_sites = np.zeros(size)\n",
    "    ID = np.where(species_type==1)[1]\n",
    "    corals = N_all[:,ID].sum(axis=1) # Get the subset of N_all that corresponds to coral cover per reef\n",
    "    #The following line applies to the 'portfolio' strategy that I haven't coded here\n",
    "    ncoral = np.asarray(np.where(species_type==1)).sum() # How many coral species?\n",
    "    \n",
    "    if strategy == 'none':\n",
    "        index = np.asarray([])\n",
    "    elif strategy=='hot':\n",
    "        index = (-temps).argsort()[0:np.int(amount*size)]\n",
    "    elif strategy=='cold':\n",
    "        index = temps.argsort()[0:np.int(amount*size)]\n",
    "    elif strategy=='hotcold':\n",
    "        index = np.r_[0:np.int(amount*size/2),np.int(size-(amount*size/2)):np.int(size)]\n",
    "    elif strategy=='space':\n",
    "        index = np.round(np.linspace(0,size-1,np.int(amount*size)))\n",
    "    elif strategy=='highcoral':\n",
    "        index = (-corals).argsort()[0:np.int(amount*size)]\n",
    "    elif strategy=='lowcoral':\n",
    "        index = corals.argsort()[0:np.int(amount*size)]\n",
    "    elif strategy=='random':\n",
    "        index = np.random.choice(np.arange(0,size),np.int(amount*size), replace=False)\n",
    "    \n",
    "    restore_sites[index.astype(int)]=1\n",
    "    return np.array([restore_sites])    "
   ]
  },
  {
   "cell_type": "markdown",
   "metadata": {},
   "source": [
    "## Function to calculate partial derivatives of pop growth, trait change and temperature change: coral_trait_stoch_fun()"
   ]
  },
  {
   "cell_type": "code",
   "execution_count": 16,
   "metadata": {},
   "outputs": [],
   "source": [
    "def coral_trait_stoch_fun0(param,spp_state,trait_state,temps,anomalies,algaemort_full,temp_change=\"constant\"):\n",
    "   \n",
    "    nsp = param['nsp']\n",
    "    size = param['size']\n",
    "    time_steps = param['time_steps']\n",
    "    species_type = param['species_type']\n",
    "    r_max = param['r_max']\n",
    "    V = param['V']\n",
    "    D = param['D']\n",
    "    beta = param['beta']\n",
    "    m_const = param['m_const']\n",
    "    w = param['w']\n",
    "    alphas = param['alphas']\n",
    "    mpa_status = param['mpa_status']\n",
    "    mortality_model = param['mortality_model']\n",
    "    maxtemp = param['maxtemp']\n",
    "    annual_temp_change = param['annual_temp_change']\n",
    "    timemod = param['timemod']\n",
    "\n",
    "    SST_matrix = np.zeros([size,time_steps])\n",
    "    SST_matrix[:,0] = temps + anomalies[:,0]\n",
    "    dtemp_array = np.zeros([time_steps])\n",
    "    \n",
    "    for i in np.arange(1, time_steps):\n",
    "        temps =  SST_matrix[:,i-1] + anomalies[:,i-1]\n",
    "        if temp_change == \"sigmoid\":\n",
    "            dtemp1 = annual_temp_change*temps.mean()\n",
    "            dtemp2 = 1-(temps.mean()/maxtemp)\n",
    "            dtemp = np.repeat(dtemp1*dtemp2, size)\n",
    "        elif temp_change == \"constant\":\n",
    "            dtemp = np.repeat(0, size)\n",
    "        else: #if temp_change == linear\n",
    "            dtemp = np.repeat(annual_temp_change, size)\n",
    "        SST_matrix[:,i] = SST_matrix[:,i-1] + dtemp\n",
    "    \n",
    "    N_ALL = np.zeros((size,nsp,time_steps))\n",
    "    Z_ALL = np.zeros((size,nsp,time_steps))\n",
    "    N_ALL[:,:,0] = spp_state\n",
    "    Z_ALL[:,:,0] = trait_state\n",
    "\n",
    "    algaemort_sub = algaemort_full[:,timemod:timemod+time_steps]\n",
    "    tick = 0\n",
    "    \n",
    "    # Second-order Runge Kutta solver\n",
    "    for i in np.arange(0,time_steps-1):\n",
    "        alg_mort = algaemort_sub[:,i]\n",
    "        dN1 = dNdt_fun(r_max,SST_matrix[:,tick],Z_ALL[:,:,tick],w,alphas,species_type,mpa_status,\n",
    "                         N_ALL[:,:,tick],m_const,mortality_model,alg_mort,V,D,beta)\n",
    "        dZ1 = dZdt_fun(r_max,SST_matrix[:,tick],Z_ALL[:,:,tick],w,alphas,species_type,mpa_status,\n",
    "                        N_ALL[:,:,tick],m_const,mortality_model,alg_mort,V,D,beta)\n",
    "\n",
    "        N_ALL_1 = N_ALL[:,:,tick] + dN1*0.5\n",
    "        Z_ALL_1 = Z_ALL[:,:,tick]  + dZ1*0.5\n",
    "\n",
    "        dN2 = dNdt_fun(r_max,SST_matrix[:,tick],Z_ALL_1,w,alphas,species_type,mpa_status,\n",
    "                         N_ALL_1,m_const,mortality_model,alg_mort,V,D,beta)\n",
    "        dZ2 = dZdt_fun(r_max,SST_matrix[:,tick],Z_ALL_1,w,alphas,species_type,mpa_status,\n",
    "                        N_ALL_1,m_const,mortality_model,alg_mort,V,D,beta)\n",
    "\n",
    "        N_ALL[:,:,tick+1] = N_ALL[:,:,tick] + (dN1 + dN2)/2\n",
    "        Z_ALL[:,:,tick+1] = Z_ALL[:,:,tick] + (dZ1 + dZ2)/2\n",
    "\n",
    "        tick += 1\n",
    "    \n",
    "    return N_ALL, Z_ALL, SST_matrix"
   ]
  },
  {
   "cell_type": "markdown",
   "metadata": {},
   "source": [
    "## Function to set the value of the restoration trait: set_trait_fun()"
   ]
  },
  {
   "cell_type": "code",
   "execution_count": 17,
   "metadata": {},
   "outputs": [],
   "source": [
    "def set_trait_fun(Z_all, V, num_restore, restore_array, trait_strategy='value',value=25, scaling_frac=0.5, percentile=50):\n",
    "    Z_rest = np.zeros((num_restore,Z_all.shape[1]))\n",
    "    \n",
    "    if trait_strategy == 'value':\n",
    "        Z_rest = Z_rest + value\n",
    "    elif trait_strategy == 'variance':\n",
    "        Z_rest = Z_all[restore_array,:] + scaling_frac * np.sqrt(V)\n",
    "    elif trait_strategy == 'percentile':\n",
    "        for i in np.arange(0,Z_all.shape[1]):\n",
    "            Z_rest[i] = np.percentile(Z_all[:-num_restore,i], percentile)\n",
    "\n",
    "    return Z_rest"
   ]
  },
  {
   "cell_type": "markdown",
   "metadata": {},
   "source": [
    "## Function to calculate partial derivatives of pop growth, trait change and temperature change with restoration: coral_restore_fun()"
   ]
  },
  {
   "cell_type": "code",
   "execution_count": 22,
   "metadata": {},
   "outputs": [],
   "source": [
    "def coral_restore_fun(param,spp_state,trait_state,temps,anomalies,algaemort_full,\n",
    "                      temp_change=\"constant\",trait_restore=30,burnin=True):\n",
    "   \n",
    "    nsp = param['nsp']\n",
    "    size0 = param['size']\n",
    "    time_steps = param['time_steps']\n",
    "    species_type = param['species_type']\n",
    "    r_max = param['r_max']\n",
    "    V = param['V']\n",
    "    D0 = param['D0']\n",
    "    D1 = param['D1']\n",
    "    beta = param['beta']\n",
    "    m_const = param['m_const']\n",
    "    w = param['w']\n",
    "    alphas = param['alphas']\n",
    "    mpa_status = param['mpa_status']\n",
    "    mortality_model = param['mortality_model']\n",
    "    maxtemp = param['maxtemp']\n",
    "    annual_temp_change = param['annual_temp_change']\n",
    "    timemod = param['timemod']\n",
    "    restoration_years = param['restoration_years']\n",
    "    source_cover = param['source_cover']\n",
    "    num_restore = param['num_restore']\n",
    "        \n",
    "    size = size0 + num_restore #to account for restoration reef\n",
    "    #size = size0 + 1 #to account for restoration reef\n",
    "    \n",
    "    SST_matrix = np.zeros([size,time_steps])\n",
    "    SST_matrix[:,0] = temps + anomalies[:,0]\n",
    "    \n",
    "    dtemp_array = np.zeros([time_steps])\n",
    "    \n",
    "    for i in np.arange(1, time_steps):\n",
    "        if temp_change == \"sigmoid\":\n",
    "            temps =  SST_matrix[:,i-1] \n",
    "            dtemp1 = annual_temp_change*temps.mean()\n",
    "            dtemp2 = 1-(temps.mean()/maxtemp)\n",
    "            dtemp = np.repeat(dtemp1*dtemp2, size)\n",
    "            SST_matrix[:,i] = SST_matrix[:,i-1] + dtemp\n",
    "            \n",
    "        if temp_change == \"constant\":\n",
    "            dtemp = np.repeat(0, size)\n",
    "            SST_matrix[:,i] = SST_matrix[:,i-1] + dtemp\n",
    "            \n",
    "        if temp_change == \"linear\":\n",
    "            dtemp = np.repeat(annual_temp_change, size)\n",
    "            SST_matrix[:,i] = SST_matrix[:,i-1] + dtemp\n",
    "        \n",
    "    SST_matrix =  SST_matrix + anomalies\n",
    "    \n",
    "    N_ALL = np.zeros((size,nsp,time_steps))\n",
    "    Z_ALL = np.zeros((size,nsp,time_steps))\n",
    "    N_ALL[:,:,0] = spp_state\n",
    "    Z_ALL[:,:,0] = trait_state\n",
    "\n",
    "    algaemort_sub = algaemort_full[:,timemod:timemod+time_steps]\n",
    "    tick = 0\n",
    "    \n",
    "    if burnin:\n",
    "        print \"BURNIN\"\n",
    "        D = D0 #No restoration, always use baseline connectivity matrix\n",
    "        # Second-order Runge Kutta solver\n",
    "        for i in np.arange(0,time_steps-1):\n",
    "            alg_mort = algaemort_sub[:,i]\n",
    "            dN1 = dNdt_fun(r_max,SST_matrix[:,tick],Z_ALL[:,:,tick],w,alphas,species_type,mpa_status,\n",
    "                             N_ALL[:,:,tick],m_const,mortality_model,alg_mort,V,D,beta)\n",
    "            dZ1 = dZdt_fun(r_max,SST_matrix[:,tick],Z_ALL[:,:,tick],w,alphas,species_type,mpa_status,\n",
    "                            N_ALL[:,:,tick],m_const,mortality_model,alg_mort,V,D,beta)\n",
    "\n",
    "            N_ALL_1 = N_ALL[:,:,tick] + dN1*0.5\n",
    "            Z_ALL_1 = Z_ALL[:,:,tick]  + dZ1*0.5\n",
    "\n",
    "            dN2 = dNdt_fun(r_max,SST_matrix[:,tick],Z_ALL_1,w,alphas,species_type,mpa_status,\n",
    "                             N_ALL_1,m_const,mortality_model,alg_mort,V,D,beta)\n",
    "            dZ2 = dZdt_fun(r_max,SST_matrix[:,tick],Z_ALL_1,w,alphas,species_type,mpa_status,\n",
    "                            N_ALL_1,m_const,mortality_model,alg_mort,V,D,beta)\n",
    "\n",
    "            N_ALL[:,:,tick+1] = N_ALL[:,:,tick] + (dN1 + dN2)/2\n",
    "            Z_ALL[:,:,tick+1] = Z_ALL[:,:,tick] + (dZ1 + dZ2)/2\n",
    "\n",
    "            # Keep restoration reef (last reef) at constant N with 100% of all species:\n",
    "            N_ALL[-1,:,tick+1] = source_cover\n",
    "            Z_ALL[-1,:,tick+1] = np.repeat(trait_restore,nsp)\n",
    "            \n",
    "            tick += 1\n",
    "            \n",
    "    else: #For future/restoration scenarios\n",
    "        print \"RUNTIME\"\n",
    "        # Second-order Runge Kutta solver\n",
    "        for i in np.arange(0,time_steps-1):\n",
    "            alg_mort = algaemort_sub[:,i]\n",
    "            \n",
    "            if tick in restoration_years:\n",
    "                D=D1\n",
    "            else:\n",
    "                D=D0\n",
    "            \n",
    "            dN1 = dNdt_fun(r_max,SST_matrix[:,tick],Z_ALL[:,:,tick],w,alphas,species_type,mpa_status,\n",
    "                             N_ALL[:,:,tick],m_const,mortality_model,alg_mort,V,D,beta)\n",
    "            dZ1 = dZdt_fun(r_max,SST_matrix[:,tick],Z_ALL[:,:,tick],w,alphas,species_type,mpa_status,\n",
    "                            N_ALL[:,:,tick],m_const,mortality_model,alg_mort,V,D,beta)\n",
    "\n",
    "            N_ALL_1 = N_ALL[:,:,tick] + dN1*0.5\n",
    "            Z_ALL_1 = Z_ALL[:,:,tick]  + dZ1*0.5\n",
    "\n",
    "            dN2 = dNdt_fun(r_max,SST_matrix[:,tick],Z_ALL_1,w,alphas,species_type,mpa_status,\n",
    "                             N_ALL_1,m_const,mortality_model,alg_mort,V,D,beta)\n",
    "            dZ2 = dZdt_fun(r_max,SST_matrix[:,tick],Z_ALL_1,w,alphas,species_type,mpa_status,\n",
    "                            N_ALL_1,m_const,mortality_model,alg_mort,V,D,beta)\n",
    "\n",
    "            N_ALL[:,:,tick+1] = N_ALL[:,:,tick] + (dN1 + dN2)/2\n",
    "            Z_ALL[:,:,tick+1] = Z_ALL[:,:,tick] + (dZ1 + dZ2)/2\n",
    "\n",
    "            # Keep restoration reef (last reef) at constant N with 100% of all species:\n",
    "            N_ALL[-1,:,tick+1] = source_cover\n",
    "            Z_ALL[-1,:,tick+1] = np.repeat(trait_restore,nsp)\n",
    "\n",
    "            tick += 1\n",
    "    return N_ALL, Z_ALL, SST_matrix\n"
   ]
  },
  {
   "cell_type": "code",
   "execution_count": 23,
   "metadata": {},
   "outputs": [],
   "source": [
    "def coral_restore_fun2(param,spp_state,trait_state,temps,anomalies,algaemort_full, temp_change=\"constant\",\n",
    "                       burnin=True):\n",
    "\n",
    "    nsp = param['nsp']\n",
    "    size0 = param['size']\n",
    "    time_steps = param['time_steps']\n",
    "    species_type = param['species_type']\n",
    "    r_max = param['r_max']\n",
    "    V = param['V']\n",
    "    D0 = param['D0']\n",
    "    D1 = param['D1']\n",
    "    beta = param['beta']\n",
    "    m_const = param['m_const']\n",
    "    w = param['w']\n",
    "    alphas = param['alphas']\n",
    "    mpa_status = param['mpa_status']\n",
    "    mortality_model = param['mortality_model']\n",
    "    maxtemp = param['maxtemp']\n",
    "    annual_temp_change = param['annual_temp_change']\n",
    "    timemod = param['timemod']\n",
    "    restoration_years = param['restoration_years']\n",
    "    source_cover = param['source_cover']\n",
    "    trait_strategy = param['trait_strategy']\n",
    "    value = param['value']\n",
    "    scaling_frac = param['scaling_frac']\n",
    "    percentile = param['percentile']\n",
    "    num_restore = param['num_restore']\n",
    "    restore_array = param['restore_array']\n",
    "        \n",
    "    size = size0 + num_restore #to account for restoration reef\n",
    "    \n",
    "    SST_matrix = np.zeros([size,time_steps])\n",
    "    SST_matrix[:,0] = temps + anomalies[:,0]\n",
    "    dtemp_array = np.zeros([time_steps])\n",
    "    \n",
    "    for i in np.arange(1, time_steps):\n",
    "        if temp_change == \"sigmoid\":\n",
    "            temps =  SST_matrix[:,i-1] \n",
    "            dtemp1 = annual_temp_change*temps.mean()\n",
    "            dtemp2 = 1-(temps.mean()/maxtemp)\n",
    "            dtemp = np.repeat(dtemp1*dtemp2, size)\n",
    "            SST_matrix[:,i] = SST_matrix[:,i-1] + dtemp\n",
    "            \n",
    "        if temp_change == \"constant\":\n",
    "            dtemp = np.repeat(0, size)\n",
    "            SST_matrix[:,i] = SST_matrix[:,i-1] + dtemp\n",
    "            \n",
    "        if temp_change == \"linear\":\n",
    "            dtemp = np.repeat(annual_temp_change, size)\n",
    "            SST_matrix[:,i] = SST_matrix[:,i-1] + dtemp\n",
    "        \n",
    "    SST_matrix =  SST_matrix + anomalies\n",
    "    \n",
    "    N_ALL = np.zeros((size,nsp,time_steps))\n",
    "    Z_ALL = np.zeros((size,nsp,time_steps))\n",
    "    N_ALL[:,:,0] = spp_state\n",
    "    Z_ALL[:,:,0] = trait_state\n",
    "\n",
    "    algaemort_sub = algaemort_full[:,timemod:timemod+time_steps]\n",
    "    tick = 0\n",
    "    \n",
    "    if burnin:\n",
    "        print \"BURNIN\"\n",
    "        D = D0 #No restoration, always use baseline connectivity matrix\n",
    "        # Second-order Runge Kutta solver\n",
    "        for i in np.arange(0,time_steps-1):\n",
    "            alg_mort = algaemort_sub[:,i]\n",
    "            dN1 = dNdt_fun(r_max,SST_matrix[:,tick],Z_ALL[:,:,tick],w,alphas,species_type,mpa_status,\n",
    "                             N_ALL[:,:,tick],m_const,mortality_model,alg_mort,V,D,beta)\n",
    "            dZ1 = dZdt_fun(r_max,SST_matrix[:,tick],Z_ALL[:,:,tick],w,alphas,species_type,mpa_status,\n",
    "                            N_ALL[:,:,tick],m_const,mortality_model,alg_mort,V,D,beta)\n",
    "\n",
    "            N_ALL_1 = N_ALL[:,:,tick] + dN1*0.5\n",
    "            Z_ALL_1 = Z_ALL[:,:,tick]  + dZ1*0.5\n",
    "\n",
    "            dN2 = dNdt_fun(r_max,SST_matrix[:,tick],Z_ALL_1,w,alphas,species_type,mpa_status,\n",
    "                             N_ALL_1,m_const,mortality_model,alg_mort,V,D,beta)\n",
    "            dZ2 = dZdt_fun(r_max,SST_matrix[:,tick],Z_ALL_1,w,alphas,species_type,mpa_status,\n",
    "                            N_ALL_1,m_const,mortality_model,alg_mort,V,D,beta)\n",
    " \n",
    "            N_ALL[:,:,tick+1] = N_ALL[:,:,tick] + (dN1 + dN2)/2\n",
    "            Z_ALL[:,:,tick+1] = Z_ALL[:,:,tick] + (dZ1 + dZ2)/2\n",
    "            \n",
    "            #! CURRENTLY WORKING ON THE FOLLOWING LINES:\n",
    "            #! Calls the function that sets trait restoration\n",
    "            trait_restore = set_trait_fun(Z_ALL[:,:,tick+1], V, num_restore, restore_array, trait_strategy, value, scaling_frac, percentile)\n",
    "\n",
    "            # Keep restoration reef (last reef) at constant N with 100% of all species:\n",
    "            N_ALL[-num_restore:,:,tick+1] = source_cover\n",
    "            Z_ALL[-num_restore:,:,tick+1] = trait_restore\n",
    "            \n",
    "            tick += 1\n",
    "            \n",
    "    else: #For future/restoration scenarios\n",
    "        print \"RUNTIME\"\n",
    "        # Second-order Runge Kutta solver\n",
    "        for i in np.arange(0,time_steps-1):\n",
    "            alg_mort = algaemort_sub[:,i]\n",
    "            \n",
    "            if tick in restoration_years:\n",
    "                D=D1\n",
    "            else:\n",
    "                D=D0\n",
    "            \n",
    "            dN1 = dNdt_fun(r_max,SST_matrix[:,tick],Z_ALL[:,:,tick],w,alphas,species_type,mpa_status,\n",
    "                             N_ALL[:,:,tick],m_const,mortality_model,alg_mort,V,D,beta)\n",
    "            dZ1 = dZdt_fun(r_max,SST_matrix[:,tick],Z_ALL[:,:,tick],w,alphas,species_type,mpa_status,\n",
    "                            N_ALL[:,:,tick],m_const,mortality_model,alg_mort,V,D,beta)\n",
    "\n",
    "            N_ALL_1 = N_ALL[:,:,tick] + dN1*0.5\n",
    "            Z_ALL_1 = Z_ALL[:,:,tick]  + dZ1*0.5\n",
    "\n",
    "            dN2 = dNdt_fun(r_max,SST_matrix[:,tick],Z_ALL_1,w,alphas,species_type,mpa_status,\n",
    "                             N_ALL_1,m_const,mortality_model,alg_mort,V,D,beta)\n",
    "            dZ2 = dZdt_fun(r_max,SST_matrix[:,tick],Z_ALL_1,w,alphas,species_type,mpa_status,\n",
    "                            N_ALL_1,m_const,mortality_model,alg_mort,V,D,beta)\n",
    "\n",
    "            N_ALL[:,:,tick+1] = N_ALL[:,:,tick] + (dN1 + dN2)/2\n",
    "            Z_ALL[:,:,tick+1] = Z_ALL[:,:,tick] + (dZ1 + dZ2)/2\n",
    "            \n",
    "            #! CURRENTLY WORKING ON THE FOLLOWING LINES:\n",
    "            #! Calls the function that sets trait restoration\n",
    "            trait_restore = set_trait_fun(Z_ALL[:,:,tick+1], V, num_restore, restore_array, trait_strategy, value, scaling_frac, percentile)\n",
    "            # Keep restoration reef (last reef) at constant N with 100% of all species:\n",
    "            N_ALL[-num_restore:,:,tick+1] = source_cover\n",
    "            Z_ALL[-num_restore:,:,tick+1] = trait_restore\n",
    "\n",
    "            tick += 1\n",
    "    \n",
    "    return N_ALL, Z_ALL, SST_matrix"
   ]
  },
  {
   "cell_type": "code",
   "execution_count": 19,
   "metadata": {},
   "outputs": [
    {
     "name": "stdout",
     "output_type": "stream",
     "text": [
      "[0 1 2 3 4 5 6 7 8 9]\n",
      "[5 6 7 8 9]\n",
      "[0 1 2 3 4]\n"
     ]
    }
   ],
   "source": [
    "test = np.arange(0,10)\n",
    "print test\n",
    "print test[-5:]\n",
    "print test[:-5]"
   ]
  },
  {
   "cell_type": "markdown",
   "metadata": {},
   "source": [
    "# Parameters"
   ]
  },
  {
   "cell_type": "code",
   "execution_count": 49,
   "metadata": {},
   "outputs": [],
   "source": [
    "nsp = 2 # Number of species in model\n",
    "size = 20 # Number of reefs in model \n",
    "burnin = 1000 # Length of burn-in period\n",
    "runtime = 500 # Length of environmental change period\n",
    "mid = 27. # Mean temperature across all reefs at start of simulation\n",
    "temp_range = 3. # Range of temperatures across reefs at start of simulation\n",
    "species_type = np.array([[1,2]]) # Species type ID\n",
    "species = [\"C1\",\"M1\"] # Species labels\n",
    "iterations = 1 # Number of stochastic iterations\n",
    "temp_stoch = 0.6\n",
    "r_max = np.array([[1.5,1.]])\n",
    "w = np.array([[1.5,2.]])\n",
    "beta = np.array([[.1,.1]])\n",
    "alphas = np.array([[1.,1.2],[1.,1.]]) \n",
    "m_const = 0.1 # Value used for constant mortality case\n",
    "mortality_model = \"temp_vary\"\n",
    "alg_mort = 0.15\n",
    "V = np.array([[0.05,0.05]])\n",
    "annual_temp_change = 0.011\n",
    "maxtemp = 32 #for sigmoid temperature increase scenario"
   ]
  },
  {
   "cell_type": "markdown",
   "metadata": {},
   "source": [
    "# Restoration parameters"
   ]
  },
  {
   "cell_type": "code",
   "execution_count": 50,
   "metadata": {},
   "outputs": [],
   "source": [
    "trait_strategy = 'value' #Options: 'value', 'variance', 'percentile'\n",
    "value = 27 #For value strategy\n",
    "scaling_frac = 0.5 #For variance strategy\n",
    "percentile = 50 #For percentile strategy"
   ]
  },
  {
   "cell_type": "markdown",
   "metadata": {},
   "source": [
    "## Create Multivariate normal covariance matrix for temperature anomalies"
   ]
  },
  {
   "cell_type": "code",
   "execution_count": 26,
   "metadata": {},
   "outputs": [
    {
     "name": "stdout",
     "output_type": "stream",
     "text": [
      "True\n"
     ]
    }
   ],
   "source": [
    "mdim = size \n",
    "lindec = np.exp(np.linspace(0,-5,num=mdim)) # Decrease the second value to reduce the range of correlation\n",
    "ma = np.zeros((mdim,mdim))\n",
    "ma[:,0] = lindec\n",
    "\n",
    "for i in np.arange(1,mdim):\n",
    "    ma[i:,i] = lindec[0:-i]\n",
    "    \n",
    "ma_temp = ma + ma.T\n",
    "np.fill_diagonal(ma_temp,np.diagonal(ma))\n",
    "ma = ma_temp    \n",
    "\n",
    "print np.all(np.linalg.eigvals(ma) > 0 & np.all(ma-ma.T==0)) # Check if the matrix is positive definite\n",
    "sds = np.array([np.repeat(.2*temp_stoch,size)])\n",
    "b = np.multiply(sds,sds.T)\n",
    "spatial_temp = b*ma"
   ]
  },
  {
   "cell_type": "code",
   "execution_count": 27,
   "metadata": {},
   "outputs": [
    {
     "data": {
      "text/plain": [
       "Text(0.5,1,'Temperature anomaly covariance matrix')"
      ]
     },
     "execution_count": 27,
     "metadata": {},
     "output_type": "execute_result"
    },
    {
     "data": {
      "image/png": "[encoded data removed]",
      "text/plain": [
       "<Figure size 432x288 with 2 Axes>"
      ]
     },
     "metadata": {
      "needs_background": "light"
     },
     "output_type": "display_data"
    }
   ],
   "source": [
    "plt.imshow(spatial_temp, cmap='coolwarm')#, vmin=0., vmax=1.)\n",
    "plt.xticks(fontsize=14)\n",
    "plt.yticks(fontsize=14)\n",
    "plt.colorbar()\n",
    "plt.title(\"Temperature anomaly covariance matrix\", fontsize=14)"
   ]
  },
  {
   "cell_type": "markdown",
   "metadata": {},
   "source": [
    "## Function that modifies a connectivity matrix to \"bias\" the diagonal: bias_diagonal()"
   ]
  },
  {
   "cell_type": "code",
   "execution_count": 28,
   "metadata": {},
   "outputs": [],
   "source": [
    "def bias_diagonal(A, alpha):\n",
    "    I = np.identity(A.shape[0])\n",
    "    A_bias = (1-alpha)*A + alpha*I\n",
    "    return A_bias"
   ]
  },
  {
   "cell_type": "markdown",
   "metadata": {},
   "source": [
    "## Set of functions to generate random and regular matrices"
   ]
  },
  {
   "cell_type": "code",
   "execution_count": 29,
   "metadata": {},
   "outputs": [],
   "source": [
    "def _distance_matrix(L):\n",
    "    Dmax = L//2\n",
    " \n",
    "    D  = range(Dmax+1)\n",
    "    D += D[-2+(L%2):0:-1]\n",
    " \n",
    "    return circulant(D)/Dmax\n",
    "    \n",
    "def _pd(d, p0, beta):\n",
    "    return beta*p0 + (d <= p0)*(1-beta)\n",
    "    \n",
    "def watts_strogatz(L, p0, beta, directed=False, rngseed=1):\n",
    "    rng = np.random.RandomState(rngseed)\n",
    " \n",
    "    d = _distance_matrix(L)\n",
    "    p = _pd(d, p0, beta)\n",
    " \n",
    "    if directed:\n",
    "        A = 1*(rng.random_sample(p.shape) < p)\n",
    "        np.fill_diagonal(A, 0)\n",
    "    else:\n",
    "        upper = np.triu_indices(L, 1)\n",
    " \n",
    "        A          = np.zeros_like(p, dtype=int)\n",
    "        A[upper]   = 1*(rng.rand(len(upper[0])) < p[upper])\n",
    "        A.T[upper] = A[upper]\n",
    " \n",
    "    return A\n",
    "\n",
    "def preserve_self_loops(matrix0, edges):\n",
    "    # matrix0 needs to have 1's in the diagonal for this to work\n",
    "    matrix1=matrix0\n",
    "    for i in np.arange(0,matrix0.shape[0]):\n",
    "        deg_dist = np.count_nonzero(matrix0[i,:])\n",
    "        if deg_dist > edges:\n",
    "            for k in np.arange(0,deg_dist-edges):\n",
    "                non_zeros = (np.where(matrix0[i,:]>0)[0]).tolist()\n",
    "                non_zeros.remove(i)\n",
    "                random_index = non_zeros[np.random.randint(0,len(non_zeros))]\n",
    "                matrix1[i,random_index] = 0\n",
    "    return matrix1\n",
    "\n",
    "def D_norm(D0):\n",
    "    size = D0.shape[0]\n",
    "    D1  = np.zeros((size,size)) # Preallocate matrix\n",
    "    for i in np.arange(size):\n",
    "        D1[:,i]  = (D0[:,i] / D0[:,i].sum()).T\n",
    "    return D1"
   ]
  },
  {
   "cell_type": "markdown",
   "metadata": {},
   "source": [
    "# Function to generate random matrix"
   ]
  },
  {
   "cell_type": "code",
   "execution_count": 30,
   "metadata": {},
   "outputs": [],
   "source": [
    "def gen_rand_matrix(size, seed, connections=4):    \n",
    "    # Network size = 20\n",
    "    #! Note: directed = False produces a symmetric matrix\n",
    "    random.seed(seed)\n",
    "\n",
    "    L = size\n",
    "    K = connections\n",
    "    p0 = K/(L-1)\n",
    "    regular = watts_strogatz(beta=0,directed=False,L=L,p0=p0)\n",
    "\n",
    "    G = nx.Graph()\n",
    "    G.add_nodes_from(np.arange(0,size))\n",
    "\n",
    "    for i in np.arange(0,size):\n",
    "        for j in np.arange(0,size):\n",
    "            if regular[i,j] == 1:\n",
    "                G.add_edge(i,j)\n",
    "            \n",
    "    reg_G = nx.to_numpy_matrix(G)\n",
    "    di = np.diag_indices(size)\n",
    "\n",
    "    random_G = nx.double_edge_swap(nx.from_numpy_matrix(reg_G), nswap=size, max_tries=1000)\n",
    "    random_G2 = nx.to_numpy_matrix(random_G)\n",
    "\n",
    "    di = np.diag_indices(size)\n",
    "    random_G2[di]=1\n",
    "\n",
    "    edges = connections+1\n",
    "    random_G2_revised = np.asarray(preserve_self_loops(random_G2,edges=edges))\n",
    "    \n",
    "    random_G2_norm = D_norm(random_G2_revised)\n",
    "    \n",
    "    return random_G2_norm"
   ]
  },
  {
   "cell_type": "code",
   "execution_count": 31,
   "metadata": {},
   "outputs": [
    {
     "data": {
      "text/plain": [
       "<matplotlib.colorbar.Colorbar at 0x11b72c510>"
      ]
     },
     "execution_count": 31,
     "metadata": {},
     "output_type": "execute_result"
    },
    {
     "data": {
      "image/png": "[encoded data removed]",
      "text/plain": [
       "<Figure size 432x288 with 2 Axes>"
      ]
     },
     "metadata": {
      "needs_background": "light"
     },
     "output_type": "display_data"
    }
   ],
   "source": [
    "connections=4\n",
    "seed=np.random.randint(0,1000)\n",
    "D = gen_rand_matrix(size=size,seed=seed,connections=connections)\n",
    "plt.imshow(D)\n",
    "plt.colorbar()"
   ]
  },
  {
   "cell_type": "code",
   "execution_count": 32,
   "metadata": {},
   "outputs": [
    {
     "data": {
      "text/plain": [
       "<matplotlib.colorbar.Colorbar at 0x11b853350>"
      ]
     },
     "execution_count": 32,
     "metadata": {},
     "output_type": "execute_result"
    },
    {
     "data": {
      "image/png": "[encoded data removed]",
      "text/plain": [
       "<Figure size 432x288 with 2 Axes>"
      ]
     },
     "metadata": {
      "needs_background": "light"
     },
     "output_type": "display_data"
    }
   ],
   "source": [
    "D_rand_bias = bias_diagonal(D, alpha=0.3)\n",
    "plt.imshow(D_rand_bias)\n",
    "plt.colorbar()"
   ]
  },
  {
   "cell_type": "markdown",
   "metadata": {},
   "source": [
    "# Function to generate regular matrix"
   ]
  },
  {
   "cell_type": "code",
   "execution_count": 33,
   "metadata": {},
   "outputs": [],
   "source": [
    "def gen_reg_matrix(size, connections=4):    \n",
    "    #! Note: directed = False produces a symmetric matrix\n",
    "    L = size\n",
    "    K = connections\n",
    "    p0 = K/(L-1)\n",
    "    regular = watts_strogatz(beta=0,directed=False,L=L,p0=p0)\n",
    "    \n",
    "    G = nx.Graph()\n",
    "    G.add_nodes_from(np.arange(0,size))\n",
    "\n",
    "    for i in np.arange(0,size):\n",
    "        for j in np.arange(0,size):\n",
    "            if regular[i,j] == 1:\n",
    "                G.add_edge(i,j)\n",
    "            \n",
    "    reg_G = nx.to_numpy_matrix(G)\n",
    "    di = np.diag_indices(size)\n",
    "    reg_G[di]=1\n",
    "    \n",
    "    reg_G_norm = D_norm(reg_G)\n",
    "\n",
    "    return reg_G_norm"
   ]
  },
  {
   "cell_type": "code",
   "execution_count": 41,
   "metadata": {},
   "outputs": [
    {
     "data": {
      "text/plain": [
       "<matplotlib.colorbar.Colorbar at 0x11bebbc90>"
      ]
     },
     "execution_count": 41,
     "metadata": {},
     "output_type": "execute_result"
    },
    {
     "data": {
      "image/png": "[encoded data removed]",
      "text/plain": [
       "<Figure size 432x288 with 2 Axes>"
      ]
     },
     "metadata": {
      "needs_background": "light"
     },
     "output_type": "display_data"
    }
   ],
   "source": [
    "connections=4\n",
    "D = gen_reg_matrix(size=size, connections=connections)\n",
    "plt.imshow(D)\n",
    "plt.colorbar()"
   ]
  },
  {
   "cell_type": "code",
   "execution_count": 42,
   "metadata": {},
   "outputs": [
    {
     "data": {
      "text/plain": [
       "<matplotlib.colorbar.Colorbar at 0x11bfdfb90>"
      ]
     },
     "execution_count": 42,
     "metadata": {},
     "output_type": "execute_result"
    },
    {
     "data": {
      "image/png": "[encoded data removed]",
      "text/plain": [
       "<Figure size 432x288 with 2 Axes>"
      ]
     },
     "metadata": {
      "needs_background": "light"
     },
     "output_type": "display_data"
    }
   ],
   "source": [
    "D_reg_bias = bias_diagonal(D, alpha=0.30)\n",
    "plt.imshow(D_reg_bias)\n",
    "plt.colorbar()"
   ]
  },
  {
   "cell_type": "markdown",
   "metadata": {},
   "source": [
    "## Function that generates a matrix that approximates a linear configuration such that each patch can only send larvae to its two adjacent patches: D_linear()"
   ]
  },
  {
   "cell_type": "code",
   "execution_count": 36,
   "metadata": {},
   "outputs": [],
   "source": [
    "def D_linear(size, p_dispersal):\n",
    "    D_linear = np.zeros((size,size))\n",
    "    \n",
    "    for i in np.arange(0,size):\n",
    "        D_linear[i,i]= 1-p_dispersal*2\n",
    "        if i != 0 and i != size-1:\n",
    "            D_linear[i,i-1] = p_dispersal\n",
    "            D_linear[i,i+1] = p_dispersal\n",
    "        if i != 0 and i == size-1:\n",
    "            D_linear[i,i-1] = p_dispersal\n",
    "        if i == 0 and i != size-1:\n",
    "            D_linear[i,i+1] = p_dispersal\n",
    "            \n",
    "    return D_linear  "
   ]
  },
  {
   "cell_type": "markdown",
   "metadata": {},
   "source": [
    "# MAIN ROUTINE"
   ]
  },
  {
   "cell_type": "code",
   "execution_count": 37,
   "metadata": {},
   "outputs": [],
   "source": [
    "np.random.seed(0)"
   ]
  },
  {
   "cell_type": "code",
   "execution_count": 38,
   "metadata": {},
   "outputs": [
    {
     "name": "stdout",
     "output_type": "stream",
     "text": [
      "[30.         29.72908621 28.94570255 27.73474079 26.22742744 24.58710327\n",
      " 22.99152288 21.61359214 20.60263124 20.06819348 20.06819348 20.60263124\n",
      " 21.61359214 22.99152288 24.58710327 26.22742744 27.73474079 28.94570255\n",
      " 29.72908621 30.        ]\n"
     ]
    }
   ],
   "source": [
    "SST0 = generate_temps_cos_fun(size,min_SST=20,max_SST=30) \n",
    "spp_state = generate_state_fun(size, nsp, cover=0.25,random=False) \n",
    "print(SST0)"
   ]
  },
  {
   "cell_type": "markdown",
   "metadata": {},
   "source": [
    "# Choose the connectivity matrix"
   ]
  },
  {
   "cell_type": "code",
   "execution_count": 43,
   "metadata": {},
   "outputs": [],
   "source": [
    "#! Choose the baseline connectivity matrix (source reef does not contribute anything):\n",
    "connections=4 # Number of patches (NOT including itself) that a patch is connected to\n",
    "\n",
    "#Set the seed to a constant if you want to generate the same random matrix\n",
    "#seed = np.random.randint(0,1000) \n",
    "seed=11\n",
    "#! REGULAR MATRIX\n",
    "D0 = gen_reg_matrix(size=size, connections=connections)\n",
    "#! Choose sites to restore\n",
    "amount = 0.2\n",
    "strategy = 'hot'\n",
    "restore_status = set_restore_fun(SST0,spp_state,species_type,size,amount,strategy)\n",
    "num_restore = np.count_nonzero(restore_status)\n",
    "\n",
    "# Matrix with restoration site row and column\n",
    "D1 = np.zeros((D0.shape[0]+num_restore,D0.shape[1]+num_restore))\n",
    "D1[:-num_restore,:-num_restore] = D0\n",
    "D_no_restore = np.zeros(D1.shape)\n",
    "D_no_restore[:,:] = D1\n",
    "\n",
    "#Set the 'no restore' matrix such that extra source reefs are self_recruiting\n",
    "for i in np.arange(size,size+num_restore):\n",
    "    D_no_restore[i,i] = 1.0\n",
    "\n",
    "D_restore = np.zeros(D_no_restore.shape)\n",
    "D_restore[:,:] = D_no_restore\n",
    "\n",
    "restore_array = np.where(restore_status == 1)[1]\n",
    "\n",
    "i=size\n",
    "for site in restore_array:\n",
    "    D_restore[site,i] = 1.0\n",
    "    i += 1"
   ]
  },
  {
   "cell_type": "code",
   "execution_count": 44,
   "metadata": {},
   "outputs": [
    {
     "data": {
      "text/plain": [
       "<matplotlib.colorbar.Colorbar at 0x11c1bdb10>"
      ]
     },
     "execution_count": 44,
     "metadata": {},
     "output_type": "execute_result"
    },
    {
     "data": {
      "image/png": "[encoded data removed]",
      "text/plain": [
       "<Figure size 432x288 with 2 Axes>"
      ]
     },
     "metadata": {
      "needs_background": "light"
     },
     "output_type": "display_data"
    }
   ],
   "source": [
    "plt.imshow(D_no_restore, cmap='RdYlBu_r')\n",
    "plt.colorbar()"
   ]
  },
  {
   "cell_type": "code",
   "execution_count": 45,
   "metadata": {},
   "outputs": [
    {
     "data": {
      "text/plain": [
       "<matplotlib.colorbar.Colorbar at 0x11c2d91d0>"
      ]
     },
     "execution_count": 45,
     "metadata": {},
     "output_type": "execute_result"
    },
    {
     "data": {
      "image/png": "[encoded data removed]",
      "text/plain": [
       "<Figure size 432x288 with 2 Axes>"
      ]
     },
     "metadata": {
      "needs_background": "light"
     },
     "output_type": "display_data"
    }
   ],
   "source": [
    "plt.imshow(D_restore, cmap='RdYlBu_r')\n",
    "plt.colorbar()"
   ]
  },
  {
   "cell_type": "code",
   "execution_count": 46,
   "metadata": {},
   "outputs": [],
   "source": [
    "anomalies_burn = np.tile(np.random.normal(0,temp_stoch,burnin),size).reshape((size,burnin)) \n",
    "anomalies_burn_restore = np.ones((anomalies_burn.shape[0]+num_restore,anomalies_burn.shape[1]))\n",
    "anomalies_burn_restore[:-num_restore,:] = anomalies_burn\n",
    "anomalies_burn_restore[-num_restore:,:] = anomalies_burn[-1,:]\n",
    "#shape: number of reefs x time steps \n",
    "\n",
    "anomalies_run = np.tile(np.random.normal(0,temp_stoch,runtime),size).reshape((size,runtime)) \n",
    "anomalies_run_restore = np.ones((anomalies_run.shape[0]+num_restore,anomalies_run.shape[1]))\n",
    "anomalies_run_restore[:-num_restore,:] = anomalies_run\n",
    "anomalies_run_restore[-num_restore:,:] = anomalies_run[-1,:]\n",
    "#shape: number of reefs x time steps \n",
    "\n",
    "algaemort = np.random.uniform(alg_mort,alg_mort,(runtime+burnin)*size).reshape((size,runtime+burnin))\n",
    "algaemort_restore = np.ones((algaemort.shape[0]+num_restore, algaemort.shape[1]))\n",
    "algaemort_restore[:-num_restore,:] = algaemort\n",
    "algaemort_restore[-num_restore:,:] = algaemort[-1,:]\n",
    "#shape: number of reefs x time steps \n",
    "\n",
    "SST0 = generate_temps_cos_fun(size,min_SST=20,max_SST=30) \n",
    "SST0_restore = np.ones((SST0.shape[0]+num_restore))\n",
    "SST0_restore[:-num_restore] = SST0\n",
    "SST0_restore[-num_restore:] = SST0[-1]\n",
    "#shape: number of reefs\n",
    "\n",
    "spp_state = generate_state_fun(size, nsp, cover=0.25,random=False) \n",
    "spp_state_restore = np.ones((spp_state.shape[0]+num_restore, spp_state.shape[1]))\n",
    "spp_state_restore[:-num_restore,:] = spp_state\n",
    "spp_state_restore[-num_restore:,:] = 1.0\n",
    "#shape: number of reefs x number of species\n",
    "\n",
    "trait_state = generate_traits_fun(nsp,size,SST0,mid,temp_range,trait_scenario='perfect_adapt') \n",
    "trait_state_restore = np.ones((trait_state.shape[0]+num_restore, trait_state.shape[1]))\n",
    "trait_state_restore[:-num_restore,:] = trait_state\n",
    "trait_state_restore[-num_restore:,:] = 35\n",
    "#shape: number of reefs x number of species\n",
    "\n",
    "mpa_status = set_MPA_fun(SST0,spp_state,species_type,size,amount=0.2,strategy='none')\n",
    "mpa_status_restore = np.ones((mpa_status.shape[0],mpa_status.shape[1]+num_restore))\n",
    "mpa_status_restore[:,:-num_restore] = mpa_status\n",
    "mpa_status_restore[:,-num_restore:] = mpa_status[:,-1]\n",
    "#shape: 1 x number of reefs"
   ]
  },
  {
   "cell_type": "markdown",
   "metadata": {},
   "source": [
    "# BURNIN "
   ]
  },
  {
   "cell_type": "code",
   "execution_count": 51,
   "metadata": {},
   "outputs": [],
   "source": [
    "# Alter the baseline percent cover on the source reef in order to set the amount of coral cover to send to \n",
    "# restoration reefs. The amount in the third column doesn't matter since macroalgae don't experience recruitment\n",
    "# from other sites\n",
    "# This does NOT matter for the burnin\n",
    "#source_cover = np.ones((num_restore,nsp)) #this sets every source reef at 1, can set with another array to change values\n",
    "source_cover = np.array([1.0,1.0])\n",
    "\n",
    "#Start (and keep) restoration source reefs at the baseline amount with specified trait value\n",
    "trait_restore_val = 33\n",
    "spp_state_restore[-num_restore:,:] = source_cover\n",
    "trait_state_restore[-num_restore,:] = np.repeat(trait_restore_val,nsp)\n",
    "\n",
    "# This is where you tell the model when to use the restoration matrix; we can write something more sophisticated to\n",
    "# generate this later on. For example, something that takes in a \"frequency\" instead of having to manually input years\n",
    "restoration_years = []\n",
    "\n",
    "trait_strategy = 'variance'\n",
    "\n",
    "#burnin \n",
    "time_steps=burnin\n",
    "timemod = 0 #to offset algae mortality index\n",
    "parameters_dict = {'nsp': nsp, \n",
    "                    'size': size, \n",
    "                    'time_steps': burnin, \n",
    "                    'species_type': species_type, \n",
    "                    'V': V, \n",
    "                    'D0': D_no_restore, \n",
    "                    'D1': D_restore,\n",
    "                    'beta': beta,\n",
    "                    'r_max': r_max,\n",
    "                    'alphas': alphas,\n",
    "                    'mortality_model': mortality_model,\n",
    "                    'mpa_status': mpa_status,\n",
    "                    'w': w,\n",
    "                    'm_const': m_const,\n",
    "                    'maxtemp': maxtemp,\n",
    "                    'annual_temp_change': annual_temp_change,\n",
    "                    'timemod': timemod,\n",
    "                    'restoration_years': restoration_years,\n",
    "                    'source_cover': source_cover,\n",
    "                    'trait_strategy': trait_strategy,\n",
    "                    'value': value,\n",
    "                    'scaling_frac': scaling_frac,\n",
    "                    'percentile': percentile,\n",
    "                    'num_restore':num_restore,\n",
    "                    'restore_array':restore_array\n",
    "                    }"
   ]
  },
  {
   "cell_type": "code",
   "execution_count": 48,
   "metadata": {},
   "outputs": [
    {
     "name": "stdout",
     "output_type": "stream",
     "text": [
      "BURNIN\n"
     ]
    }
   ],
   "source": [
    "#Calls original coral_restore_fun() that does NOT set trait value using the percentile method\n",
    "#time0 = time.time()\n",
    "N0, Z0, SST_burnin = coral_restore_fun(parameters_dict,spp_state_restore,trait_state_restore,\n",
    "                                                   SST0_restore,anomalies_burn_restore,\n",
    "                                                   algaemort_restore,temp_change=\"constant\",\n",
    "                                                   trait_restore=trait_restore_val,\n",
    "                                                   burnin=True)\n",
    "#time1 = time.time()\n",
    "#total = (time1-time0)/60\n",
    "#print total"
   ]
  },
  {
   "cell_type": "code",
   "execution_count": 83,
   "metadata": {},
   "outputs": [],
   "source": [
    "#for i in np.arange(0,20):\n",
    "#    plt.plot(SST_burnin[i,:])"
   ]
  },
  {
   "cell_type": "code",
   "execution_count": 84,
   "metadata": {},
   "outputs": [],
   "source": [
    "#Calls NEW coral_restore_fun2() that sets trait value using the method with various restoration trait strategies\n",
    "#time0 = time.time()\n",
    "#N0, Z0, SST_burnin = coral_restore_fun2(parameters_dict,spp_state_restore,trait_state_restore,\n",
    "#                                                   SST0_restore,anomalies_burn_restore,\n",
    "#                                                   algaemort_restore,temp_change=\"constant\",\n",
    "#                                                   burnin=True)\n",
    "\n",
    "\n",
    "#time1 = time.time()\n",
    "#total = (time1-time0)/60\n",
    "#print total"
   ]
  },
  {
   "cell_type": "code",
   "execution_count": 85,
   "metadata": {},
   "outputs": [
    {
     "data": {
      "image/png": "[encoded data removed]",
      "text/plain": [
       "<Figure size 432x288 with 1 Axes>"
      ]
     },
     "metadata": {
      "needs_background": "light"
     },
     "output_type": "display_data"
    }
   ],
   "source": [
    "for i in np.arange(0,20):\n",
    "    plt.plot(N0[i,0,:])"
   ]
  },
  {
   "cell_type": "code",
   "execution_count": 86,
   "metadata": {},
   "outputs": [
    {
     "data": {
      "image/png": "[encoded data removed]",
      "text/plain": [
       "<Figure size 432x288 with 1 Axes>"
      ]
     },
     "metadata": {
      "needs_background": "light"
     },
     "output_type": "display_data"
    }
   ],
   "source": [
    "for i in np.arange(0,20):\n",
    "    plt.plot(Z0[i,0,:])"
   ]
  },
  {
   "cell_type": "markdown",
   "metadata": {},
   "source": [
    "# Convert npy to CSV\n",
    "## Save a time series for each species separately"
   ]
  },
  {
   "cell_type": "code",
   "execution_count": 87,
   "metadata": {},
   "outputs": [],
   "source": [
    "burnin_N_sp1 = N0[:,0,:]\n",
    "burnin_N_sp2 = N0[:,1,:]\n",
    "#burnin_N_sp3 = N0[:,2,:]\n",
    "\n",
    "burnin_Z_sp1 = Z0[:,0,:]\n",
    "burnin_Z_sp2 = Z0[:,1,:]\n",
    "#burnin_Z_sp3 = Z0[:,2,:]\n",
    "\n",
    "#! Save each species as a separate file: species percent cover\n",
    "np.savetxt(\"burnin_N_sp1.csv\", burnin_N_sp1, delimiter=',')\n",
    "np.savetxt(\"burnin_N_sp2.csv\", burnin_N_sp2, delimiter=',')\n",
    "#np.savetxt(\"burnin_N_sp3.csv\", burnin_N_sp3, delimiter=',')\n",
    "\n",
    "#! Save each species as a separate file: species trait value\n",
    "np.savetxt(\"burnin_Z_sp1.csv\", burnin_Z_sp1, delimiter=',')\n",
    "np.savetxt(\"burnin_Z_sp2.csv\", burnin_Z_sp2, delimiter=',')\n",
    "#np.savetxt(\"burnin_Z_sp3.csv\", burnin_Z_sp3, delimiter=',')"
   ]
  },
  {
   "cell_type": "code",
   "execution_count": 88,
   "metadata": {},
   "outputs": [
    {
     "data": {
      "text/plain": [
       "<matplotlib.collections.PolyCollection at 0x1a2600d9d0>"
      ]
     },
     "execution_count": 88,
     "metadata": {},
     "output_type": "execute_result"
    },
    {
     "data": {
      "image/png": "[encoded data removed]",
      "text/plain": [
       "<Figure size 432x288 with 1 Axes>"
      ]
     },
     "metadata": {
      "needs_background": "light"
     },
     "output_type": "display_data"
    }
   ],
   "source": [
    "#! BURNIN PLOTS: Species percent cover\n",
    "# Plot species 1 trajectory (averaged across all reefs - except for restoration reef)\n",
    "species1_mean = N0[:-num_restore,0,:].mean(axis=0)\n",
    "species1_std = N0[:-num_restore,0,:].std(axis=0)\n",
    "plt.plot(species1_mean ,color='b')\n",
    "plt.fill_between(np.arange(0,burnin),species1_mean-species1_std,species1_mean+species1_std, alpha=0.2, \n",
    "                 edgecolor='b', facecolor='b')\n",
    "\n",
    "# Plot species 2 trajectory (averaged across all reefs)\n",
    "species2_mean = N0[:-num_restore,1,:].mean(axis=0)\n",
    "species2_std = N0[:-num_restore,1,:].std(axis=0)\n",
    "plt.plot(species2_mean ,color='r')\n",
    "plt.fill_between(np.arange(0,burnin),species2_mean-species2_std,species2_mean+species2_std, alpha=0.2, \n",
    "                 edgecolor='r', facecolor='r')\n",
    "\n",
    "# Plot species 3 trajectory (averaged across all reefs)\n",
    "#species3_mean = N0[:-1,2,:].mean(axis=0)\n",
    "#species3_std = N0[:-1,2,:].std(axis=0)\n",
    "#plt.plot(species3_mean ,color='g')\n",
    "#plt.fill_between(np.arange(0,burnin),species3_mean-species3_std,species3_mean+species3_std, alpha=0.2, \n",
    "#                 edgecolor='g', facecolor='g')"
   ]
  },
  {
   "cell_type": "code",
   "execution_count": 89,
   "metadata": {},
   "outputs": [
    {
     "data": {
      "text/plain": [
       "<matplotlib.collections.PolyCollection at 0x1a25fb4090>"
      ]
     },
     "execution_count": 89,
     "metadata": {},
     "output_type": "execute_result"
    },
    {
     "data": {
      "image/png": "[encoded data removed]",
      "text/plain": [
       "<Figure size 432x288 with 1 Axes>"
      ]
     },
     "metadata": {
      "needs_background": "light"
     },
     "output_type": "display_data"
    }
   ],
   "source": [
    "#! BURNIN PLOTS: Trait values\n",
    "# Plot species 1 trajectory (averaged across all reefs)\n",
    "species1_mean = Z0[:-num_restore,0,:].mean(axis=0)\n",
    "species1_std = Z0[:-num_restore,0,:].std(axis=0)\n",
    "plt.plot(species1_mean ,color='b')\n",
    "plt.fill_between(np.arange(0,burnin),species1_mean-species1_std,species1_mean+species1_std, alpha=0.2, \n",
    "                 edgecolor='b', facecolor='b')\n",
    "\n",
    "# Plot species 2 trajectory (averaged across all reefs)\n",
    "#species2_mean = Z0[:-1,1,:].mean(axis=0)\n",
    "#species2_std = Z0[:-1,1,:].std(axis=0)\n",
    "#plt.plot(species2_mean ,color='r')\n",
    "#plt.fill_between(np.arange(0,burnin),species2_mean-species2_std,species2_mean+species2_std, alpha=0.2, \n",
    "#                 edgecolor='r', facecolor='r')\n",
    "\n",
    "# Plot species 3 trajectory (averaged across all reefs)\n",
    "#species3_mean = Z0[:-1,2,:].mean(axis=0)\n",
    "#species3_std = Z0[:-1,2,:].std(axis=0)\n",
    "#plt.plot(species3_mean ,color='g')\n",
    "#plt.fill_between(np.arange(0,burnin),species3_mean-species3_std,species3_mean+species3_std, alpha=0.2, \n",
    "#                edgecolor='g', facecolor='g')"
   ]
  },
  {
   "cell_type": "code",
   "execution_count": 90,
   "metadata": {},
   "outputs": [
    {
     "data": {
      "image/png": "[encoded data removed]",
      "text/plain": [
       "<Figure size 432x288 with 1 Axes>"
      ]
     },
     "metadata": {
      "needs_background": "light"
     },
     "output_type": "display_data"
    }
   ],
   "source": [
    "#! Plot species 1 trajectories\n",
    "species = 0\n",
    "for i in np.arange(0,20):\n",
    "    plt.plot(N0[i,species,:])"
   ]
  },
  {
   "cell_type": "code",
   "execution_count": 91,
   "metadata": {},
   "outputs": [
    {
     "data": {
      "image/png": "[encoded data removed]",
      "text/plain": [
       "<Figure size 432x288 with 1 Axes>"
      ]
     },
     "metadata": {
      "needs_background": "light"
     },
     "output_type": "display_data"
    }
   ],
   "source": [
    "#! Plot species 2 trajectories\n",
    "species = 1\n",
    "for i in np.arange(0,20):\n",
    "    plt.plot(N0[i,species,:])"
   ]
  },
  {
   "cell_type": "markdown",
   "metadata": {},
   "source": [
    "## RUNTIME: restoration happening every year"
   ]
  },
  {
   "cell_type": "code",
   "execution_count": 92,
   "metadata": {},
   "outputs": [],
   "source": [
    "# Alter the baseline percent cover on the source reef in order to set the amount of coral cover to send to \n",
    "# restoration reefs. The amount in the third column doesn't matter since macroalgae don't experience recruitment\n",
    "# from other sites\n",
    "source_cover = np.array([0.001,1.0])\n",
    "# Note: the code does NOT like having a zero value in one of these; use 1e-6 to approximate zero\n",
    "\n",
    "#runtime parameters: all restoration years\n",
    "mpa_status = set_MPA_fun(SST0,spp_state,species_type,size,amount=0.2,strategy='none')\n",
    "time_steps = runtime\n",
    "\n",
    "# This is where you tell the model when to use the restoration matrix; we can write something more sophisticated to\n",
    "# generate this later on. For example, something that takes in a \"frequency\" instead of having to manually input years\n",
    "\n",
    "#restoration_years = [1,5,20]\n",
    "restoration_years = list(range(runtime)) #restoration occurs during all years in runtime\n",
    "#restoration_years = []\n",
    "\n",
    "timemod = burnin #to offset algae mortality index\n",
    "\n",
    "parameters_dict = {'nsp': nsp, \n",
    "                    'size': size, \n",
    "                    'time_steps': runtime, \n",
    "                    'species_type': species_type, \n",
    "                    'V': V, \n",
    "                    'D0': D_no_restore, \n",
    "                    'D1': D_restore,\n",
    "                    'beta': beta,\n",
    "                    'r_max': r_max,\n",
    "                    'alphas': alphas,\n",
    "                    'mortality_model': mortality_model,\n",
    "                    'mpa_status': mpa_status,\n",
    "                    'w': w,\n",
    "                    'm_const': m_const,\n",
    "                    'maxtemp': maxtemp,\n",
    "                    'annual_temp_change': annual_temp_change,\n",
    "                    'timemod': timemod,\n",
    "                    'restoration_years': restoration_years,\n",
    "                    'source_cover': source_cover,\n",
    "                    'trait_strategy': trait_strategy,\n",
    "                    'value': value,\n",
    "                    'scaling_frac': scaling_frac,\n",
    "                    'percentile': percentile,\n",
    "                    'num_restore':num_restore,\n",
    "                    'restore_array':restore_array\n",
    "                    }"
   ]
  },
  {
   "cell_type": "code",
   "execution_count": 93,
   "metadata": {},
   "outputs": [
    {
     "name": "stdout",
     "output_type": "stream",
     "text": [
      "RUNTIME\n"
     ]
    }
   ],
   "source": [
    "#Calls original coral_restore_fun() that does NOT set trait value using the percentile method\n",
    "#time0 = time.time()\n",
    "\n",
    "N1, Z1, SST_runtime = coral_restore_fun(parameters_dict,N0[:,:,-1],Z0[:,:,-1],\n",
    "                                        SST_burnin[:,-1],anomalies_run_restore,algaemort_restore,\n",
    "                                        temp_change=\"sigmoid\", trait_restore=trait_restore_val,\n",
    "                                        burnin=False)\n",
    "\n",
    "#time1 = time.time()\n",
    "#total = (time1-time0)/60\n",
    "#print total"
   ]
  },
  {
   "cell_type": "code",
   "execution_count": 94,
   "metadata": {},
   "outputs": [],
   "source": [
    "#Calls NEW coral_restore_fun2()\n",
    "#time0 = time.time()\n",
    "#N1, Z1, SST_runtime = coral_restore_fun2(parameters_dict,N0[:,:,-1],Z0[:,:,-1],\n",
    "                                                   #SST_burnin[:,-1],anomalies_run_restore,\n",
    "                                                   #algaemort_restore,temp_change=\"sigmoid\",\n",
    "                                                   #burnin=False)\n",
    "#time1 = time.time()\n",
    "#total = (time1-time0)/60\n",
    "#print total"
   ]
  },
  {
   "cell_type": "code",
   "execution_count": 95,
   "metadata": {},
   "outputs": [
    {
     "data": {
      "image/png": "[encoded data removed]",
      "text/plain": [
       "<Figure size 432x288 with 1 Axes>"
      ]
     },
     "metadata": {
      "needs_background": "light"
     },
     "output_type": "display_data"
    }
   ],
   "source": [
    "for i in np.arange(0,20):\n",
    "    plt.plot(SST_runtime[i,:])"
   ]
  },
  {
   "cell_type": "markdown",
   "metadata": {},
   "source": [
    "# Convert npy to CSV\n",
    "## Save a time series for each species separately"
   ]
  },
  {
   "cell_type": "code",
   "execution_count": 96,
   "metadata": {},
   "outputs": [],
   "source": [
    "runtime_N_sp1 = N1[:,0,:]\n",
    "runtime_N_sp2 = N1[:,1,:]\n",
    "#runtime_N_sp3 = N1[:,2,:]\n",
    "\n",
    "runtime_Z_sp1 = Z1[:,0,:]\n",
    "runtime_Z_sp2 = Z1[:,1,:]\n",
    "#runtime_Z_sp3 = Z1[:,2,:]\n",
    "\n",
    "#! Save each species as a separate file: species percent cover\n",
    "np.savetxt(\"runtime_N_sp1.csv\", runtime_N_sp1, delimiter=',')\n",
    "np.savetxt(\"runtime_N_sp2.csv\", runtime_N_sp2, delimiter=',')\n",
    "#np.savetxt(\"runtime_N_sp3.csv\", runtime_N_sp3, delimiter=',')\n",
    "\n",
    "#! Save each species as a separate file: species trait value\n",
    "np.savetxt(\"runtime_Z_sp1.csv\", runtime_Z_sp1, delimiter=',')\n",
    "np.savetxt(\"runtime_Z_sp2.csv\", runtime_Z_sp2, delimiter=',')\n",
    "#np.savetxt(\"runtime_Z_sp3.csv\", runtime_Z_sp3, delimiter=',')"
   ]
  },
  {
   "cell_type": "code",
   "execution_count": 97,
   "metadata": {},
   "outputs": [
    {
     "data": {
      "text/plain": [
       "<matplotlib.collections.PolyCollection at 0x1a25f75b50>"
      ]
     },
     "execution_count": 97,
     "metadata": {},
     "output_type": "execute_result"
    },
    {
     "data": {
      "image/png": "[encoded data removed]",
      "text/plain": [
       "<Figure size 432x288 with 1 Axes>"
      ]
     },
     "metadata": {
      "needs_background": "light"
     },
     "output_type": "display_data"
    }
   ],
   "source": [
    "#! RUNTIME PLOTS: species percent cover\n",
    "# Plot species 1 trajectory (averaged across all reefs)\n",
    "species1_mean = N1[:-num_restore,0,:].mean(axis=0)\n",
    "species1_std = N1[:-num_restore,0,:].std(axis=0)\n",
    "plt.plot(species1_mean ,color='b')\n",
    "plt.fill_between(np.arange(0,runtime),species1_mean-species1_std,species1_mean+species1_std, alpha=0.2, \n",
    "                 edgecolor='b', facecolor='b')\n",
    "\n",
    "# Plot species 2 trajectory (averaged across all reefs)\n",
    "species2_mean = N1[:-num_restore,1,:].mean(axis=0)\n",
    "species2_std = N1[:-num_restore,1,:].std(axis=0)\n",
    "plt.plot(species2_mean ,color='r')\n",
    "plt.fill_between(np.arange(0,runtime),species2_mean-species2_std,species2_mean+species2_std, alpha=0.2, \n",
    "                 edgecolor='r', facecolor='r')\n",
    "\n",
    "# Plot species 3 trajectory (averaged across all reefs)\n",
    "#species3_mean = N1[:-1,2,:].mean(axis=0)\n",
    "#species3_std = N1[:-1,2,:].std(axis=0)\n",
    "#plt.plot(species3_mean ,color='g')\n",
    "#plt.fill_between(np.arange(0,runtime),species3_mean-species3_std,species3_mean+species3_std, alpha=0.2, \n",
    "#                 edgecolor='g', facecolor='g')"
   ]
  },
  {
   "cell_type": "code",
   "execution_count": 98,
   "metadata": {},
   "outputs": [
    {
     "data": {
      "text/plain": [
       "<matplotlib.collections.PolyCollection at 0x1a263f3fd0>"
      ]
     },
     "execution_count": 98,
     "metadata": {},
     "output_type": "execute_result"
    },
    {
     "data": {
      "image/png": "[encoded data removed]",
      "text/plain": [
       "<Figure size 432x288 with 1 Axes>"
      ]
     },
     "metadata": {
      "needs_background": "light"
     },
     "output_type": "display_data"
    }
   ],
   "source": [
    "#! BURNIN PLOTS: Trait values\n",
    "# Plot species 1 trajectory (averaged across all reefs)\n",
    "species1_mean = Z1[:-num_restore,0,:].mean(axis=0)\n",
    "species1_std = Z1[:-num_restore,0,:].std(axis=0)\n",
    "plt.plot(species1_mean ,color='b')\n",
    "plt.fill_between(np.arange(0,runtime),species1_mean-species1_std,species1_mean+species1_std, alpha=0.2, \n",
    "                 edgecolor='b', facecolor='b')\n",
    "\n",
    "# Plot species 2 trajectory (averaged across all reefs)\n",
    "species2_mean = Z1[:-num_restore,1,:].mean(axis=0)\n",
    "species2_std = Z1[:-num_restore,1,:].std(axis=0)\n",
    "plt.plot(species2_mean ,color='r')\n",
    "plt.fill_between(np.arange(0,runtime),species2_mean-species2_std,species2_mean+species2_std, alpha=0.2, \n",
    "                 edgecolor='r', facecolor='r')\n",
    "\n",
    "# Plot species 3 trajectory (averaged across all reefs)\n",
    "#species3_mean = Z1[:-1,2,:].mean(axis=0)\n",
    "#species3_std = Z1[:-1,2,:].std(axis=0)\n",
    "#plt.plot(species3_mean ,color='g')\n",
    "#plt.fill_between(np.arange(0,runtime),species3_mean-species3_std,species3_mean+species3_std, alpha=0.2, \n",
    "#                 edgecolor='g', facecolor='g')"
   ]
  },
  {
   "cell_type": "code",
   "execution_count": 99,
   "metadata": {},
   "outputs": [
    {
     "data": {
      "text/plain": [
       "<matplotlib.collections.PolyCollection at 0x1a26416090>"
      ]
     },
     "execution_count": 99,
     "metadata": {},
     "output_type": "execute_result"
    },
    {
     "data": {
      "image/png": "[encoded data removed]",
      "text/plain": [
       "<Figure size 432x288 with 1 Axes>"
      ]
     },
     "metadata": {
      "needs_background": "light"
     },
     "output_type": "display_data"
    }
   ],
   "source": [
    "SST = SST_runtime\n",
    "SST_mean = SST.mean(axis=0)\n",
    "SST_std = SST.std(axis=0)\n",
    "plt.plot(SST_mean ,color='k')\n",
    "plt.fill_between(np.arange(0,runtime),SST_mean-SST_std,SST_mean+SST_std, \n",
    "                 alpha=0.2, edgecolor='k', facecolor='k')"
   ]
  },
  {
   "cell_type": "code",
   "execution_count": 100,
   "metadata": {},
   "outputs": [
    {
     "data": {
      "image/png": "[encoded data removed]",
      "text/plain": [
       "<Figure size 432x288 with 1 Axes>"
      ]
     },
     "metadata": {
      "needs_background": "light"
     },
     "output_type": "display_data"
    }
   ],
   "source": [
    "#! Plot species 1 trajectories\n",
    "species = 0\n",
    "for i in np.arange(0,20):\n",
    "    plt.plot(N1[i,species,:])"
   ]
  },
  {
   "cell_type": "code",
   "execution_count": 101,
   "metadata": {},
   "outputs": [
    {
     "data": {
      "image/png": "[encoded data removed]",
      "text/plain": [
       "<Figure size 432x288 with 1 Axes>"
      ]
     },
     "metadata": {
      "needs_background": "light"
     },
     "output_type": "display_data"
    }
   ],
   "source": [
    "#! Plot species 2 trajectories\n",
    "species = 1\n",
    "for i in np.arange(0,20):\n",
    "    plt.plot(N1[i,species,:])"
   ]
  },
  {
   "cell_type": "code",
   "execution_count": 102,
   "metadata": {},
   "outputs": [],
   "source": [
    "#! Plot species 3 trajectories\n",
    "#species = 2\n",
    "#for i in np.arange(0,20):\n",
    "   # plt.plot(N1[i,species,:])"
   ]
  },
  {
   "cell_type": "markdown",
   "metadata": {},
   "source": [
    "# RUNTIME: no restoration"
   ]
  },
  {
   "cell_type": "code",
   "execution_count": 103,
   "metadata": {},
   "outputs": [
    {
     "ename": "KeyError",
     "evalue": "'num_restore'",
     "output_type": "error",
     "traceback": [
      "\u001b[0;31m---------------------------------------------------------------------------\u001b[0m",
      "\u001b[0;31mKeyError\u001b[0m                                  Traceback (most recent call last)",
      "\u001b[0;32m<ipython-input-103-a8e4f263597f>\u001b[0m in \u001b[0;36m<module>\u001b[0;34m()\u001b[0m\n\u001b[1;32m     37\u001b[0m                                         \u001b[0mSST_burnin\u001b[0m\u001b[0;34m[\u001b[0m\u001b[0;34m:\u001b[0m\u001b[0;34m,\u001b[0m\u001b[0;34m-\u001b[0m\u001b[0;36m1\u001b[0m\u001b[0;34m]\u001b[0m\u001b[0;34m,\u001b[0m\u001b[0manomalies_burn_restore\u001b[0m\u001b[0;34m,\u001b[0m\u001b[0malgaemort_restore\u001b[0m\u001b[0;34m,\u001b[0m\u001b[0;34m\u001b[0m\u001b[0m\n\u001b[1;32m     38\u001b[0m                                         \u001b[0mtemp_change\u001b[0m\u001b[0;34m=\u001b[0m\u001b[0;34m\"sigmoid\"\u001b[0m\u001b[0;34m,\u001b[0m \u001b[0mtrait_restore\u001b[0m\u001b[0;34m=\u001b[0m\u001b[0mtrait_restore_val\u001b[0m\u001b[0;34m,\u001b[0m\u001b[0;34m\u001b[0m\u001b[0m\n\u001b[0;32m---> 39\u001b[0;31m                                         burnin=False)\n\u001b[0m\u001b[1;32m     40\u001b[0m \u001b[0;34m\u001b[0m\u001b[0m\n\u001b[1;32m     41\u001b[0m \u001b[0mtime1\u001b[0m \u001b[0;34m=\u001b[0m \u001b[0mtime\u001b[0m\u001b[0;34m.\u001b[0m\u001b[0mtime\u001b[0m\u001b[0;34m(\u001b[0m\u001b[0;34m)\u001b[0m\u001b[0;34m\u001b[0m\u001b[0m\n",
      "\u001b[0;32m<ipython-input-59-2f11fd68f6ad>\u001b[0m in \u001b[0;36mcoral_restore_fun\u001b[0;34m(param, spp_state, trait_state, temps, anomalies, algaemort_full, temp_change, trait_restore, burnin)\u001b[0m\n\u001b[1;32m     21\u001b[0m     \u001b[0mrestoration_years\u001b[0m \u001b[0;34m=\u001b[0m \u001b[0mparam\u001b[0m\u001b[0;34m[\u001b[0m\u001b[0;34m'restoration_years'\u001b[0m\u001b[0;34m]\u001b[0m\u001b[0;34m\u001b[0m\u001b[0m\n\u001b[1;32m     22\u001b[0m     \u001b[0msource_cover\u001b[0m \u001b[0;34m=\u001b[0m \u001b[0mparam\u001b[0m\u001b[0;34m[\u001b[0m\u001b[0;34m'source_cover'\u001b[0m\u001b[0;34m]\u001b[0m\u001b[0;34m\u001b[0m\u001b[0m\n\u001b[0;32m---> 23\u001b[0;31m     \u001b[0mnum_restore\u001b[0m \u001b[0;34m=\u001b[0m \u001b[0mparam\u001b[0m\u001b[0;34m[\u001b[0m\u001b[0;34m'num_restore'\u001b[0m\u001b[0;34m]\u001b[0m\u001b[0;34m\u001b[0m\u001b[0m\n\u001b[0m\u001b[1;32m     24\u001b[0m \u001b[0;34m\u001b[0m\u001b[0m\n\u001b[1;32m     25\u001b[0m     \u001b[0msize\u001b[0m \u001b[0;34m=\u001b[0m \u001b[0msize0\u001b[0m \u001b[0;34m+\u001b[0m \u001b[0mnum_restore\u001b[0m \u001b[0;31m#to account for restoration reef\u001b[0m\u001b[0;34m\u001b[0m\u001b[0m\n",
      "\u001b[0;31mKeyError\u001b[0m: 'num_restore'"
     ]
    }
   ],
   "source": [
    "#runtime parameters\n",
    "mpa_status = set_MPA_fun(SST0,spp_state,species_type,size,amount=0.2,strategy='none')\n",
    "time_steps = runtime\n",
    "# This is where you tell the model when to use the restoration matrix; we can write something more sophisticated to\n",
    "# generate this later on. For example, something that takes in a \"frequency\" instead of having to manually input years\n",
    "#restoration_years = [1,5,20]\n",
    "#restoration_years = list(range(runtime))\n",
    "restoration_years = []\n",
    "\n",
    "timemod = burnin #to offset algae mortality index\n",
    "parameters_dict = {'nsp': nsp, \n",
    "                    'size': size, \n",
    "                    'time_steps': runtime, \n",
    "                    'species_type': species_type, \n",
    "                    'V': V, \n",
    "                    'D0': D_no_restore, \n",
    "                    'D1': D_restore,\n",
    "                    'beta': beta,\n",
    "                    'r_max': r_max,\n",
    "                    'alphas': alphas,\n",
    "                    'mortality_model': mortality_model,\n",
    "                    'mpa_status': mpa_status,\n",
    "                    'w': w,\n",
    "                    'm_const': m_const,\n",
    "                    'maxtemp': maxtemp,\n",
    "                    'annual_temp_change': annual_temp_change,\n",
    "                    'timemod':timemod,\n",
    "                    'restoration_years':restoration_years,\n",
    "                    'source_cover':source_cover\n",
    "                    }\n",
    "\n",
    "\n",
    "\n",
    "time0 = time.time()\n",
    "\n",
    "N2, Z2, SST_runtime2 = coral_restore_fun(parameters_dict,N0[:,:,-1],Z0[:,:,-1],\n",
    "                                        SST_burnin[:,-1],anomalies_burn_restore,algaemort_restore,\n",
    "                                        temp_change=\"sigmoid\", trait_restore=trait_restore_val,\n",
    "                                        burnin=False)\n",
    "\n",
    "time1 = time.time()\n",
    "total = (time1-time0)/60\n",
    "print total"
   ]
  },
  {
   "cell_type": "markdown",
   "metadata": {},
   "source": [
    "# Convert npy to CSV\n",
    "## Save a time series for each species separately"
   ]
  },
  {
   "cell_type": "code",
   "execution_count": 269,
   "metadata": {},
   "outputs": [
    {
     "ename": "NameError",
     "evalue": "name 'N2' is not defined",
     "output_type": "error",
     "traceback": [
      "\u001b[0;31m---------------------------------------------------------------------------\u001b[0m",
      "\u001b[0;31mNameError\u001b[0m                                 Traceback (most recent call last)",
      "\u001b[0;32m<ipython-input-269-7c9096b219f7>\u001b[0m in \u001b[0;36m<module>\u001b[0;34m()\u001b[0m\n\u001b[0;32m----> 1\u001b[0;31m \u001b[0mruntime_N_sp1\u001b[0m \u001b[0;34m=\u001b[0m \u001b[0mN2\u001b[0m\u001b[0;34m[\u001b[0m\u001b[0;34m:\u001b[0m\u001b[0;34m,\u001b[0m\u001b[0;36m0\u001b[0m\u001b[0;34m,\u001b[0m\u001b[0;34m:\u001b[0m\u001b[0;34m]\u001b[0m\u001b[0;34m\u001b[0m\u001b[0m\n\u001b[0m\u001b[1;32m      2\u001b[0m \u001b[0mruntime_N_sp2\u001b[0m \u001b[0;34m=\u001b[0m \u001b[0mN2\u001b[0m\u001b[0;34m[\u001b[0m\u001b[0;34m:\u001b[0m\u001b[0;34m,\u001b[0m\u001b[0;36m1\u001b[0m\u001b[0;34m,\u001b[0m\u001b[0;34m:\u001b[0m\u001b[0;34m]\u001b[0m\u001b[0;34m\u001b[0m\u001b[0m\n\u001b[1;32m      3\u001b[0m \u001b[0mruntime_N_sp3\u001b[0m \u001b[0;34m=\u001b[0m \u001b[0mN2\u001b[0m\u001b[0;34m[\u001b[0m\u001b[0;34m:\u001b[0m\u001b[0;34m,\u001b[0m\u001b[0;36m2\u001b[0m\u001b[0;34m,\u001b[0m\u001b[0;34m:\u001b[0m\u001b[0;34m]\u001b[0m\u001b[0;34m\u001b[0m\u001b[0m\n\u001b[1;32m      4\u001b[0m \u001b[0;34m\u001b[0m\u001b[0m\n\u001b[1;32m      5\u001b[0m \u001b[0mruntime_Z_sp1\u001b[0m \u001b[0;34m=\u001b[0m \u001b[0mZ2\u001b[0m\u001b[0;34m[\u001b[0m\u001b[0;34m:\u001b[0m\u001b[0;34m,\u001b[0m\u001b[0;36m0\u001b[0m\u001b[0;34m,\u001b[0m\u001b[0;34m:\u001b[0m\u001b[0;34m]\u001b[0m\u001b[0;34m\u001b[0m\u001b[0m\n",
      "\u001b[0;31mNameError\u001b[0m: name 'N2' is not defined"
     ]
    }
   ],
   "source": [
    "runtime_N_sp1 = N2[:,0,:]\n",
    "runtime_N_sp2 = N2[:,1,:]\n",
    "runtime_N_sp3 = N2[:,2,:]\n",
    "\n",
    "runtime_Z_sp1 = Z2[:,0,:]\n",
    "runtime_Z_sp2 = Z2[:,1,:]\n",
    "runtime_Z_sp3 = Z2[:,2,:]\n",
    "\n",
    "#! Save each species as a separate file: species percent cover\n",
    "np.savetxt(\"runtime_N_sp1.csv\", runtime_N_sp1, delimiter=',')\n",
    "np.savetxt(\"runtime_N_sp2.csv\", runtime_N_sp2, delimiter=',')\n",
    "np.savetxt(\"runtime_N_sp3.csv\", runtime_N_sp3, delimiter=',')\n",
    "\n",
    "#! Save each species as a separate file: species trait value\n",
    "np.savetxt(\"runtime_Z_sp1.csv\", runtime_Z_sp1, delimiter=',')\n",
    "np.savetxt(\"runtime_Z_sp2.csv\", runtime_Z_sp2, delimiter=',')\n",
    "np.savetxt(\"runtime_Z_sp3.csv\", runtime_Z_sp3, delimiter=',')"
   ]
  },
  {
   "cell_type": "code",
   "execution_count": 270,
   "metadata": {},
   "outputs": [
    {
     "ename": "NameError",
     "evalue": "name 'N2' is not defined",
     "output_type": "error",
     "traceback": [
      "\u001b[0;31m---------------------------------------------------------------------------\u001b[0m",
      "\u001b[0;31mNameError\u001b[0m                                 Traceback (most recent call last)",
      "\u001b[0;32m<ipython-input-270-160d52cf65ed>\u001b[0m in \u001b[0;36m<module>\u001b[0;34m()\u001b[0m\n\u001b[1;32m      1\u001b[0m \u001b[0;31m#! RUNTIME PLOTS\u001b[0m\u001b[0;34m\u001b[0m\u001b[0;34m\u001b[0m\u001b[0m\n\u001b[1;32m      2\u001b[0m \u001b[0;31m# Plot species 1 trajectory (averaged across all reefs)\u001b[0m\u001b[0;34m\u001b[0m\u001b[0;34m\u001b[0m\u001b[0m\n\u001b[0;32m----> 3\u001b[0;31m \u001b[0mspecies1_mean\u001b[0m \u001b[0;34m=\u001b[0m \u001b[0mN2\u001b[0m\u001b[0;34m[\u001b[0m\u001b[0;34m:\u001b[0m\u001b[0;34m,\u001b[0m\u001b[0;36m0\u001b[0m\u001b[0;34m,\u001b[0m\u001b[0;34m:\u001b[0m\u001b[0;34m]\u001b[0m\u001b[0;34m.\u001b[0m\u001b[0mmean\u001b[0m\u001b[0;34m(\u001b[0m\u001b[0maxis\u001b[0m\u001b[0;34m=\u001b[0m\u001b[0;36m0\u001b[0m\u001b[0;34m)\u001b[0m\u001b[0;34m\u001b[0m\u001b[0m\n\u001b[0m\u001b[1;32m      4\u001b[0m \u001b[0mspecies1_std\u001b[0m \u001b[0;34m=\u001b[0m \u001b[0mN2\u001b[0m\u001b[0;34m[\u001b[0m\u001b[0;34m:\u001b[0m\u001b[0;34m,\u001b[0m\u001b[0;36m0\u001b[0m\u001b[0;34m,\u001b[0m\u001b[0;34m:\u001b[0m\u001b[0;34m]\u001b[0m\u001b[0;34m.\u001b[0m\u001b[0mstd\u001b[0m\u001b[0;34m(\u001b[0m\u001b[0maxis\u001b[0m\u001b[0;34m=\u001b[0m\u001b[0;36m0\u001b[0m\u001b[0;34m)\u001b[0m\u001b[0;34m\u001b[0m\u001b[0m\n\u001b[1;32m      5\u001b[0m \u001b[0mplt\u001b[0m\u001b[0;34m.\u001b[0m\u001b[0mplot\u001b[0m\u001b[0;34m(\u001b[0m\u001b[0mspecies1_mean\u001b[0m \u001b[0;34m,\u001b[0m\u001b[0mcolor\u001b[0m\u001b[0;34m=\u001b[0m\u001b[0;34m'b'\u001b[0m\u001b[0;34m)\u001b[0m\u001b[0;34m\u001b[0m\u001b[0m\n",
      "\u001b[0;31mNameError\u001b[0m: name 'N2' is not defined"
     ]
    }
   ],
   "source": [
    "#! RUNTIME PLOTS\n",
    "# Plot species 1 trajectory (averaged across all reefs)\n",
    "species1_mean = N2[:,0,:].mean(axis=0)\n",
    "species1_std = N2[:,0,:].std(axis=0)\n",
    "plt.plot(species1_mean ,color='b')\n",
    "plt.fill_between(np.arange(0,runtime),species1_mean-species1_std,species1_mean+species1_std, alpha=0.2, \n",
    "                 edgecolor='b', facecolor='b')\n",
    "\n",
    "# Plot species 2 trajectory (averaged across all reefs)\n",
    "species2_mean = N2[:,1,:].mean(axis=0)\n",
    "species2_std = N2[:,1,:].std(axis=0)\n",
    "plt.plot(species2_mean ,color='r')\n",
    "plt.fill_between(np.arange(0,runtime),species2_mean-species2_std,species2_mean+species2_std, alpha=0.2, \n",
    "                 edgecolor='r', facecolor='r')\n",
    "\n",
    "# Plot species 3 trajectory (averaged across all reefs)\n",
    "species3_mean = N2[:,2,:].mean(axis=0)\n",
    "species3_std = N2[:,2,:].std(axis=0)\n",
    "plt.plot(species3_mean ,color='g')\n",
    "plt.fill_between(np.arange(0,runtime),species3_mean-species3_std,species3_mean+species3_std, alpha=0.2, \n",
    "                 edgecolor='g', facecolor='g')"
   ]
  },
  {
   "cell_type": "code",
   "execution_count": 271,
   "metadata": {},
   "outputs": [
    {
     "ename": "NameError",
     "evalue": "name 'Z2' is not defined",
     "output_type": "error",
     "traceback": [
      "\u001b[0;31m---------------------------------------------------------------------------\u001b[0m",
      "\u001b[0;31mNameError\u001b[0m                                 Traceback (most recent call last)",
      "\u001b[0;32m<ipython-input-271-d7ffc22ac802>\u001b[0m in \u001b[0;36m<module>\u001b[0;34m()\u001b[0m\n\u001b[1;32m      1\u001b[0m \u001b[0;31m#! BURNIN PLOTS: Trait values\u001b[0m\u001b[0;34m\u001b[0m\u001b[0;34m\u001b[0m\u001b[0m\n\u001b[1;32m      2\u001b[0m \u001b[0;31m# Plot species 1 trajectory (averaged across all reefs)\u001b[0m\u001b[0;34m\u001b[0m\u001b[0;34m\u001b[0m\u001b[0m\n\u001b[0;32m----> 3\u001b[0;31m \u001b[0mspecies1_mean\u001b[0m \u001b[0;34m=\u001b[0m \u001b[0mZ2\u001b[0m\u001b[0;34m[\u001b[0m\u001b[0;34m:\u001b[0m\u001b[0;34m,\u001b[0m\u001b[0;36m0\u001b[0m\u001b[0;34m,\u001b[0m\u001b[0;34m:\u001b[0m\u001b[0;34m]\u001b[0m\u001b[0;34m.\u001b[0m\u001b[0mmean\u001b[0m\u001b[0;34m(\u001b[0m\u001b[0maxis\u001b[0m\u001b[0;34m=\u001b[0m\u001b[0;36m0\u001b[0m\u001b[0;34m)\u001b[0m\u001b[0;34m\u001b[0m\u001b[0m\n\u001b[0m\u001b[1;32m      4\u001b[0m \u001b[0mspecies1_std\u001b[0m \u001b[0;34m=\u001b[0m \u001b[0mZ2\u001b[0m\u001b[0;34m[\u001b[0m\u001b[0;34m:\u001b[0m\u001b[0;34m,\u001b[0m\u001b[0;36m0\u001b[0m\u001b[0;34m,\u001b[0m\u001b[0;34m:\u001b[0m\u001b[0;34m]\u001b[0m\u001b[0;34m.\u001b[0m\u001b[0mstd\u001b[0m\u001b[0;34m(\u001b[0m\u001b[0maxis\u001b[0m\u001b[0;34m=\u001b[0m\u001b[0;36m0\u001b[0m\u001b[0;34m)\u001b[0m\u001b[0;34m\u001b[0m\u001b[0m\n\u001b[1;32m      5\u001b[0m \u001b[0mplt\u001b[0m\u001b[0;34m.\u001b[0m\u001b[0mplot\u001b[0m\u001b[0;34m(\u001b[0m\u001b[0mspecies1_mean\u001b[0m \u001b[0;34m,\u001b[0m\u001b[0mcolor\u001b[0m\u001b[0;34m=\u001b[0m\u001b[0;34m'b'\u001b[0m\u001b[0;34m)\u001b[0m\u001b[0;34m\u001b[0m\u001b[0m\n",
      "\u001b[0;31mNameError\u001b[0m: name 'Z2' is not defined"
     ]
    }
   ],
   "source": [
    "#! BURNIN PLOTS: Trait values\n",
    "# Plot species 1 trajectory (averaged across all reefs)\n",
    "species1_mean = Z2[:,0,:].mean(axis=0)\n",
    "species1_std = Z2[:,0,:].std(axis=0)\n",
    "plt.plot(species1_mean ,color='b')\n",
    "plt.fill_between(np.arange(0,runtime),species1_mean-species1_std,species1_mean+species1_std, alpha=0.2, \n",
    "                 edgecolor='b', facecolor='b')\n",
    "\n",
    "# Plot species 2 trajectory (averaged across all reefs)\n",
    "species2_mean = Z2[:,1,:].mean(axis=0)\n",
    "species2_std = Z2[:,1,:].std(axis=0)\n",
    "plt.plot(species2_mean ,color='r')\n",
    "plt.fill_between(np.arange(0,runtime),species2_mean-species2_std,species2_mean+species2_std, alpha=0.2, \n",
    "                 edgecolor='r', facecolor='r')\n",
    "\n",
    "# Plot species 3 trajectory (averaged across all reefs)\n",
    "species3_mean = Z2[:,2,:].mean(axis=0)\n",
    "species3_std = Z2[:,2,:].std(axis=0)\n",
    "plt.plot(species3_mean ,color='g')\n",
    "plt.fill_between(np.arange(0,runtime),species3_mean-species3_std,species3_mean+species3_std, alpha=0.2, \n",
    "                 edgecolor='g', facecolor='g')"
   ]
  },
  {
   "cell_type": "code",
   "execution_count": 272,
   "metadata": {},
   "outputs": [
    {
     "ename": "NameError",
     "evalue": "name 'SST_runtime2' is not defined",
     "output_type": "error",
     "traceback": [
      "\u001b[0;31m---------------------------------------------------------------------------\u001b[0m",
      "\u001b[0;31mNameError\u001b[0m                                 Traceback (most recent call last)",
      "\u001b[0;32m<ipython-input-272-868d5891dca6>\u001b[0m in \u001b[0;36m<module>\u001b[0;34m()\u001b[0m\n\u001b[0;32m----> 1\u001b[0;31m \u001b[0mSST\u001b[0m \u001b[0;34m=\u001b[0m \u001b[0mSST_runtime2\u001b[0m\u001b[0;34m\u001b[0m\u001b[0m\n\u001b[0m\u001b[1;32m      2\u001b[0m \u001b[0mSST_mean\u001b[0m \u001b[0;34m=\u001b[0m \u001b[0mSST\u001b[0m\u001b[0;34m.\u001b[0m\u001b[0mmean\u001b[0m\u001b[0;34m(\u001b[0m\u001b[0maxis\u001b[0m\u001b[0;34m=\u001b[0m\u001b[0;36m0\u001b[0m\u001b[0;34m)\u001b[0m\u001b[0;34m\u001b[0m\u001b[0m\n\u001b[1;32m      3\u001b[0m \u001b[0mSST_std\u001b[0m \u001b[0;34m=\u001b[0m \u001b[0mSST\u001b[0m\u001b[0;34m.\u001b[0m\u001b[0mstd\u001b[0m\u001b[0;34m(\u001b[0m\u001b[0maxis\u001b[0m\u001b[0;34m=\u001b[0m\u001b[0;36m0\u001b[0m\u001b[0;34m)\u001b[0m\u001b[0;34m\u001b[0m\u001b[0m\n\u001b[1;32m      4\u001b[0m \u001b[0mplt\u001b[0m\u001b[0;34m.\u001b[0m\u001b[0mplot\u001b[0m\u001b[0;34m(\u001b[0m\u001b[0mSST_mean\u001b[0m \u001b[0;34m,\u001b[0m\u001b[0mcolor\u001b[0m\u001b[0;34m=\u001b[0m\u001b[0;34m'k'\u001b[0m\u001b[0;34m)\u001b[0m\u001b[0;34m\u001b[0m\u001b[0m\n\u001b[1;32m      5\u001b[0m plt.fill_between(np.arange(0,runtime),SST_mean-SST_std,SST_mean+SST_std, \n",
      "\u001b[0;31mNameError\u001b[0m: name 'SST_runtime2' is not defined"
     ]
    }
   ],
   "source": [
    "SST = SST_runtime2\n",
    "SST_mean = SST.mean(axis=0)\n",
    "SST_std = SST.std(axis=0)\n",
    "plt.plot(SST_mean ,color='k')\n",
    "plt.fill_between(np.arange(0,runtime),SST_mean-SST_std,SST_mean+SST_std, \n",
    "                 alpha=0.2, edgecolor='k', facecolor='k')"
   ]
  },
  {
   "cell_type": "code",
   "execution_count": 273,
   "metadata": {},
   "outputs": [
    {
     "ename": "NameError",
     "evalue": "name 'N2' is not defined",
     "output_type": "error",
     "traceback": [
      "\u001b[0;31m---------------------------------------------------------------------------\u001b[0m",
      "\u001b[0;31mNameError\u001b[0m                                 Traceback (most recent call last)",
      "\u001b[0;32m<ipython-input-273-ef9c8ab91aa5>\u001b[0m in \u001b[0;36m<module>\u001b[0;34m()\u001b[0m\n\u001b[1;32m      2\u001b[0m \u001b[0mspecies\u001b[0m \u001b[0;34m=\u001b[0m \u001b[0;36m0\u001b[0m\u001b[0;34m\u001b[0m\u001b[0m\n\u001b[1;32m      3\u001b[0m \u001b[0;32mfor\u001b[0m \u001b[0mi\u001b[0m \u001b[0;32min\u001b[0m \u001b[0mnp\u001b[0m\u001b[0;34m.\u001b[0m\u001b[0marange\u001b[0m\u001b[0;34m(\u001b[0m\u001b[0;36m0\u001b[0m\u001b[0;34m,\u001b[0m\u001b[0;36m20\u001b[0m\u001b[0;34m)\u001b[0m\u001b[0;34m:\u001b[0m\u001b[0;34m\u001b[0m\u001b[0m\n\u001b[0;32m----> 4\u001b[0;31m     \u001b[0mplt\u001b[0m\u001b[0;34m.\u001b[0m\u001b[0mplot\u001b[0m\u001b[0;34m(\u001b[0m\u001b[0mN2\u001b[0m\u001b[0;34m[\u001b[0m\u001b[0mi\u001b[0m\u001b[0;34m,\u001b[0m\u001b[0mspecies\u001b[0m\u001b[0;34m,\u001b[0m\u001b[0;34m:\u001b[0m\u001b[0;34m]\u001b[0m\u001b[0;34m)\u001b[0m\u001b[0;34m\u001b[0m\u001b[0m\n\u001b[0m",
      "\u001b[0;31mNameError\u001b[0m: name 'N2' is not defined"
     ]
    }
   ],
   "source": [
    "#! Plot species 1 trajectories\n",
    "species = 0\n",
    "for i in np.arange(0,20):\n",
    "    plt.plot(N2[i,species,:])"
   ]
  },
  {
   "cell_type": "code",
   "execution_count": 274,
   "metadata": {},
   "outputs": [
    {
     "ename": "NameError",
     "evalue": "name 'N2' is not defined",
     "output_type": "error",
     "traceback": [
      "\u001b[0;31m---------------------------------------------------------------------------\u001b[0m",
      "\u001b[0;31mNameError\u001b[0m                                 Traceback (most recent call last)",
      "\u001b[0;32m<ipython-input-274-e774099b00a0>\u001b[0m in \u001b[0;36m<module>\u001b[0;34m()\u001b[0m\n\u001b[1;32m      2\u001b[0m \u001b[0mspecies\u001b[0m \u001b[0;34m=\u001b[0m \u001b[0;36m1\u001b[0m\u001b[0;34m\u001b[0m\u001b[0m\n\u001b[1;32m      3\u001b[0m \u001b[0;32mfor\u001b[0m \u001b[0mi\u001b[0m \u001b[0;32min\u001b[0m \u001b[0mnp\u001b[0m\u001b[0;34m.\u001b[0m\u001b[0marange\u001b[0m\u001b[0;34m(\u001b[0m\u001b[0;36m0\u001b[0m\u001b[0;34m,\u001b[0m\u001b[0;36m20\u001b[0m\u001b[0;34m)\u001b[0m\u001b[0;34m:\u001b[0m\u001b[0;34m\u001b[0m\u001b[0m\n\u001b[0;32m----> 4\u001b[0;31m     \u001b[0mplt\u001b[0m\u001b[0;34m.\u001b[0m\u001b[0mplot\u001b[0m\u001b[0;34m(\u001b[0m\u001b[0mN2\u001b[0m\u001b[0;34m[\u001b[0m\u001b[0mi\u001b[0m\u001b[0;34m,\u001b[0m\u001b[0mspecies\u001b[0m\u001b[0;34m,\u001b[0m\u001b[0;34m:\u001b[0m\u001b[0;34m]\u001b[0m\u001b[0;34m)\u001b[0m\u001b[0;34m\u001b[0m\u001b[0m\n\u001b[0m",
      "\u001b[0;31mNameError\u001b[0m: name 'N2' is not defined"
     ]
    }
   ],
   "source": [
    "#! Plot species 2 trajectories\n",
    "species = 1\n",
    "for i in np.arange(0,20):\n",
    "    plt.plot(N2[i,species,:])"
   ]
  },
  {
   "cell_type": "code",
   "execution_count": 275,
   "metadata": {},
   "outputs": [
    {
     "ename": "NameError",
     "evalue": "name 'N2' is not defined",
     "output_type": "error",
     "traceback": [
      "\u001b[0;31m---------------------------------------------------------------------------\u001b[0m",
      "\u001b[0;31mNameError\u001b[0m                                 Traceback (most recent call last)",
      "\u001b[0;32m<ipython-input-275-3fe0d4414e8c>\u001b[0m in \u001b[0;36m<module>\u001b[0;34m()\u001b[0m\n\u001b[1;32m      2\u001b[0m \u001b[0mspecies\u001b[0m \u001b[0;34m=\u001b[0m \u001b[0;36m2\u001b[0m\u001b[0;34m\u001b[0m\u001b[0m\n\u001b[1;32m      3\u001b[0m \u001b[0;32mfor\u001b[0m \u001b[0mi\u001b[0m \u001b[0;32min\u001b[0m \u001b[0mnp\u001b[0m\u001b[0;34m.\u001b[0m\u001b[0marange\u001b[0m\u001b[0;34m(\u001b[0m\u001b[0;36m0\u001b[0m\u001b[0;34m,\u001b[0m\u001b[0;36m20\u001b[0m\u001b[0;34m)\u001b[0m\u001b[0;34m:\u001b[0m\u001b[0;34m\u001b[0m\u001b[0m\n\u001b[0;32m----> 4\u001b[0;31m     \u001b[0mplt\u001b[0m\u001b[0;34m.\u001b[0m\u001b[0mplot\u001b[0m\u001b[0;34m(\u001b[0m\u001b[0mN2\u001b[0m\u001b[0;34m[\u001b[0m\u001b[0mi\u001b[0m\u001b[0;34m,\u001b[0m\u001b[0mspecies\u001b[0m\u001b[0;34m,\u001b[0m\u001b[0;34m:\u001b[0m\u001b[0;34m]\u001b[0m\u001b[0;34m)\u001b[0m\u001b[0;34m\u001b[0m\u001b[0m\n\u001b[0m",
      "\u001b[0;31mNameError\u001b[0m: name 'N2' is not defined"
     ]
    }
   ],
   "source": [
    "#! Plot species 3 trajectories\n",
    "species = 2\n",
    "for i in np.arange(0,20):\n",
    "    plt.plot(N2[i,species,:])"
   ]
  },
  {
   "cell_type": "code",
   "execution_count": 276,
   "metadata": {},
   "outputs": [
    {
     "data": {
      "text/plain": [
       "[<matplotlib.lines.Line2D at 0x1a20577f50>]"
      ]
     },
     "execution_count": 276,
     "metadata": {},
     "output_type": "execute_result"
    },
    {
     "data": {
      "image/png": "[encoded data removed]",
      "text/plain": [
       "<Figure size 432x288 with 1 Axes>"
      ]
     },
     "metadata": {
      "needs_background": "light"
     },
     "output_type": "display_data"
    }
   ],
   "source": [
    "plt.plot(SST_burnin[1,:])"
   ]
  },
  {
   "cell_type": "markdown",
   "metadata": {},
   "source": [
    "# Iterative Model Runs (LD Code begins here)"
   ]
  },
  {
   "cell_type": "code",
   "execution_count": 52,
   "metadata": {},
   "outputs": [
    {
     "name": "stdout",
     "output_type": "stream",
     "text": [
      "BURNIN\n"
     ]
    },
    {
     "ename": "KeyboardInterrupt",
     "evalue": "",
     "output_type": "error",
     "traceback": [
      "\u001b[0;31m---------------------------------------------------------------------------\u001b[0m",
      "\u001b[0;31mKeyboardInterrupt\u001b[0m                         Traceback (most recent call last)",
      "\u001b[0;32m<ipython-input-52-1bc577496a75>\u001b[0m in \u001b[0;36m<module>\u001b[0;34m()\u001b[0m\n\u001b[1;32m    148\u001b[0m                                                                    \u001b[0malgaemort_restore\u001b[0m\u001b[0;34m,\u001b[0m\u001b[0mtemp_change\u001b[0m\u001b[0;34m=\u001b[0m\u001b[0;34m\"constant\"\u001b[0m\u001b[0;34m,\u001b[0m\u001b[0;34m\u001b[0m\u001b[0m\n\u001b[1;32m    149\u001b[0m                                                                    \u001b[0mtrait_restore\u001b[0m\u001b[0;34m=\u001b[0m\u001b[0mtrait_restore_val\u001b[0m\u001b[0;34m,\u001b[0m\u001b[0;34m\u001b[0m\u001b[0m\n\u001b[0;32m--> 150\u001b[0;31m                                                                    burnin=True)\n\u001b[0m\u001b[1;32m    151\u001b[0m \u001b[0;31m#Save Burnin as csv ###################################################################################################\u001b[0m\u001b[0;34m\u001b[0m\u001b[0;34m\u001b[0m\u001b[0m\n\u001b[1;32m    152\u001b[0m                     \u001b[0;31m#burnin_N_sp1 = N0[:,0,:]\u001b[0m\u001b[0;34m\u001b[0m\u001b[0;34m\u001b[0m\u001b[0m\n",
      "\u001b[0;32m<ipython-input-22-2f11fd68f6ad>\u001b[0m in \u001b[0;36mcoral_restore_fun\u001b[0;34m(param, spp_state, trait_state, temps, anomalies, algaemort_full, temp_change, trait_restore, burnin)\u001b[0m\n\u001b[1;32m     74\u001b[0m                              N_ALL_1,m_const,mortality_model,alg_mort,V,D,beta)\n\u001b[1;32m     75\u001b[0m             dZ2 = dZdt_fun(r_max,SST_matrix[:,tick],Z_ALL_1,w,alphas,species_type,mpa_status,\n\u001b[0;32m---> 76\u001b[0;31m                             N_ALL_1,m_const,mortality_model,alg_mort,V,D,beta)\n\u001b[0m\u001b[1;32m     77\u001b[0m \u001b[0;34m\u001b[0m\u001b[0m\n\u001b[1;32m     78\u001b[0m             \u001b[0mN_ALL\u001b[0m\u001b[0;34m[\u001b[0m\u001b[0;34m:\u001b[0m\u001b[0;34m,\u001b[0m\u001b[0;34m:\u001b[0m\u001b[0;34m,\u001b[0m\u001b[0mtick\u001b[0m\u001b[0;34m+\u001b[0m\u001b[0;36m1\u001b[0m\u001b[0;34m]\u001b[0m \u001b[0;34m=\u001b[0m \u001b[0mN_ALL\u001b[0m\u001b[0;34m[\u001b[0m\u001b[0;34m:\u001b[0m\u001b[0;34m,\u001b[0m\u001b[0;34m:\u001b[0m\u001b[0;34m,\u001b[0m\u001b[0mtick\u001b[0m\u001b[0;34m]\u001b[0m \u001b[0;34m+\u001b[0m \u001b[0;34m(\u001b[0m\u001b[0mdN1\u001b[0m \u001b[0;34m+\u001b[0m \u001b[0mdN2\u001b[0m\u001b[0;34m)\u001b[0m\u001b[0;34m/\u001b[0m\u001b[0;36m2\u001b[0m\u001b[0;34m\u001b[0m\u001b[0m\n",
      "\u001b[0;32m<ipython-input-9-2f864b4691d4>\u001b[0m in \u001b[0;36mdZdt_fun\u001b[0;34m(r_max, T, z, w, alphas, species_type, mpa_status, N_all, m_const, mortality_model, alg_mort, V, D, beta)\u001b[0m\n\u001b[1;32m      5\u001b[0m \u001b[0;34m\u001b[0m\u001b[0m\n\u001b[1;32m      6\u001b[0m     \u001b[0mq\u001b[0m \u001b[0;34m=\u001b[0m \u001b[0mq_fun\u001b[0m\u001b[0;34m(\u001b[0m\u001b[0mN_all\u001b[0m\u001b[0;34m)\u001b[0m\u001b[0;34m\u001b[0m\u001b[0m\n\u001b[0;32m----> 7\u001b[0;31m     \u001b[0mdGdZ\u001b[0m \u001b[0;34m=\u001b[0m \u001b[0mdGdZ_fun\u001b[0m\u001b[0;34m(\u001b[0m\u001b[0mr_max\u001b[0m\u001b[0;34m,\u001b[0m\u001b[0mT\u001b[0m\u001b[0;34m,\u001b[0m\u001b[0mz\u001b[0m\u001b[0;34m,\u001b[0m\u001b[0mw\u001b[0m\u001b[0;34m,\u001b[0m\u001b[0malphas\u001b[0m\u001b[0;34m,\u001b[0m\u001b[0mspecies_type\u001b[0m\u001b[0;34m,\u001b[0m\u001b[0mmpa_status\u001b[0m\u001b[0;34m,\u001b[0m\u001b[0mN_all\u001b[0m\u001b[0;34m,\u001b[0m\u001b[0mm_const\u001b[0m\u001b[0;34m,\u001b[0m\u001b[0mmortality_model\u001b[0m\u001b[0;34m,\u001b[0m\u001b[0malg_mort\u001b[0m\u001b[0;34m)\u001b[0m\u001b[0;34m\u001b[0m\u001b[0m\n\u001b[0m\u001b[1;32m      8\u001b[0m     \u001b[0mdirectional_selection\u001b[0m \u001b[0;34m=\u001b[0m \u001b[0mq\u001b[0m \u001b[0;34m*\u001b[0m \u001b[0mV\u001b[0m \u001b[0;34m*\u001b[0m \u001b[0mdGdZ\u001b[0m\u001b[0;34m\u001b[0m\u001b[0m\n\u001b[1;32m      9\u001b[0m     \u001b[0mgene_flow_term1\u001b[0m \u001b[0;34m=\u001b[0m \u001b[0;34m(\u001b[0m\u001b[0mnp\u001b[0m\u001b[0;34m.\u001b[0m\u001b[0mdot\u001b[0m\u001b[0;34m(\u001b[0m\u001b[0mD\u001b[0m\u001b[0;34m,\u001b[0m \u001b[0mN_all\u001b[0m \u001b[0;34m*\u001b[0m \u001b[0mz\u001b[0m\u001b[0;34m)\u001b[0m \u001b[0;34m/\u001b[0m \u001b[0mnp\u001b[0m\u001b[0;34m.\u001b[0m\u001b[0mdot\u001b[0m\u001b[0;34m(\u001b[0m\u001b[0mD\u001b[0m\u001b[0;34m,\u001b[0m \u001b[0mN_all\u001b[0m\u001b[0;34m)\u001b[0m\u001b[0;34m)\u001b[0m \u001b[0;34m-\u001b[0m \u001b[0mz\u001b[0m\u001b[0;34m\u001b[0m\u001b[0m\n",
      "\u001b[0;32m<ipython-input-5-94432c321cf9>\u001b[0m in \u001b[0;36mdGdZ_fun\u001b[0;34m(r_max, T, z, w, alphas, species_type, mpa_status, N_all, m_const, mortality_model, alg_mort)\u001b[0m\n\u001b[1;32m     15\u001b[0m                                      N_all,m_const,mortality_model,alg_mort)\n\u001b[1;32m     16\u001b[0m                 term2 = fitness_fun(r_max,T,z-h_matrix,w,alphas,species_type,mpa_status,\n\u001b[0;32m---> 17\u001b[0;31m                                          N_all,m_const,mortality_model,alg_mort)\n\u001b[0m\u001b[1;32m     18\u001b[0m                 \u001b[0mdelta\u001b[0m \u001b[0;34m=\u001b[0m \u001b[0;34m(\u001b[0m\u001b[0mterm1\u001b[0m\u001b[0;34m-\u001b[0m\u001b[0mterm2\u001b[0m\u001b[0;34m)\u001b[0m\u001b[0;34m/\u001b[0m\u001b[0;34m(\u001b[0m\u001b[0;36m2\u001b[0m\u001b[0;34m*\u001b[0m\u001b[0mh\u001b[0m\u001b[0;34m)\u001b[0m\u001b[0;34m\u001b[0m\u001b[0m\n\u001b[1;32m     19\u001b[0m                 \u001b[0mdGdZ\u001b[0m\u001b[0;34m[\u001b[0m\u001b[0mi\u001b[0m\u001b[0;34m,\u001b[0m\u001b[0mj\u001b[0m\u001b[0;34m]\u001b[0m \u001b[0;34m=\u001b[0m \u001b[0mdelta\u001b[0m\u001b[0;34m[\u001b[0m\u001b[0mi\u001b[0m\u001b[0;34m,\u001b[0m\u001b[0mj\u001b[0m\u001b[0;34m]\u001b[0m\u001b[0;34m\u001b[0m\u001b[0m\n",
      "\u001b[0;32m<ipython-input-4-4694e34b75a5>\u001b[0m in \u001b[0;36mfitness_fun\u001b[0;34m(r_max, T, z, w, alphas, species_type, mpa_status, N_all, m_const, mortality_model, alg_mort)\u001b[0m\n\u001b[1;32m     11\u001b[0m     \u001b[0;31m#If there is more than one reef\u001b[0m\u001b[0;34m\u001b[0m\u001b[0;34m\u001b[0m\u001b[0m\n\u001b[1;32m     12\u001b[0m     \u001b[0;32mif\u001b[0m \u001b[0mN_all\u001b[0m\u001b[0;34m.\u001b[0m\u001b[0mshape\u001b[0m\u001b[0;34m[\u001b[0m\u001b[0;36m0\u001b[0m\u001b[0;34m]\u001b[0m \u001b[0;34m>\u001b[0m \u001b[0;36m1\u001b[0m\u001b[0;34m:\u001b[0m\u001b[0;34m\u001b[0m\u001b[0m\n\u001b[0;32m---> 13\u001b[0;31m         \u001b[0msum_interactions\u001b[0m \u001b[0;34m=\u001b[0m \u001b[0mnp\u001b[0m\u001b[0;34m.\u001b[0m\u001b[0marray\u001b[0m\u001b[0;34m(\u001b[0m\u001b[0;34m[\u001b[0m\u001b[0mnp\u001b[0m\u001b[0;34m.\u001b[0m\u001b[0msum\u001b[0m\u001b[0;34m(\u001b[0m\u001b[0mN_all\u001b[0m\u001b[0;34m[\u001b[0m\u001b[0mindex\u001b[0m\u001b[0;34m,\u001b[0m\u001b[0;34m:\u001b[0m\u001b[0;34m]\u001b[0m \u001b[0;34m*\u001b[0m \u001b[0malphas\u001b[0m\u001b[0;34m,\u001b[0m \u001b[0maxis\u001b[0m\u001b[0;34m=\u001b[0m\u001b[0;36m1\u001b[0m\u001b[0;34m)\u001b[0m \u001b[0;32mfor\u001b[0m \u001b[0mindex\u001b[0m \u001b[0;32min\u001b[0m \u001b[0mrange\u001b[0m\u001b[0;34m(\u001b[0m\u001b[0mN_all\u001b[0m\u001b[0;34m.\u001b[0m\u001b[0mshape\u001b[0m\u001b[0;34m[\u001b[0m\u001b[0;36m0\u001b[0m\u001b[0;34m]\u001b[0m\u001b[0;34m)\u001b[0m\u001b[0;34m]\u001b[0m\u001b[0;34m)\u001b[0m\u001b[0;34m\u001b[0m\u001b[0m\n\u001b[0m\u001b[1;32m     14\u001b[0m     \u001b[0;32melse\u001b[0m\u001b[0;34m:\u001b[0m\u001b[0;34m\u001b[0m\u001b[0m\n\u001b[1;32m     15\u001b[0m         \u001b[0msum_interactions\u001b[0m \u001b[0;34m=\u001b[0m \u001b[0mnp\u001b[0m\u001b[0;34m.\u001b[0m\u001b[0msum\u001b[0m\u001b[0;34m(\u001b[0m\u001b[0malphas\u001b[0m \u001b[0;34m*\u001b[0m \u001b[0mN_all\u001b[0m\u001b[0;34m,\u001b[0m \u001b[0maxis\u001b[0m\u001b[0;34m=\u001b[0m\u001b[0;36m1\u001b[0m\u001b[0;34m)\u001b[0m\u001b[0;34m\u001b[0m\u001b[0m\n",
      "\u001b[0;32m/Users/Lisa/anaconda2/lib/python2.7/site-packages/numpy/core/fromnumeric.pyc\u001b[0m in \u001b[0;36msum\u001b[0;34m(a, axis, dtype, out, keepdims, initial)\u001b[0m\n\u001b[1;32m   1928\u001b[0m \u001b[0;34m\u001b[0m\u001b[0m\n\u001b[1;32m   1929\u001b[0m     return _wrapreduction(a, np.add, 'sum', axis, dtype, out, keepdims=keepdims,\n\u001b[0;32m-> 1930\u001b[0;31m                           initial=initial)\n\u001b[0m\u001b[1;32m   1931\u001b[0m \u001b[0;34m\u001b[0m\u001b[0m\n\u001b[1;32m   1932\u001b[0m \u001b[0;34m\u001b[0m\u001b[0m\n",
      "\u001b[0;32m/Users/Lisa/anaconda2/lib/python2.7/site-packages/numpy/core/fromnumeric.pyc\u001b[0m in \u001b[0;36m_wrapreduction\u001b[0;34m(obj, ufunc, method, axis, dtype, out, **kwargs)\u001b[0m\n\u001b[1;32m     81\u001b[0m                 \u001b[0;32mreturn\u001b[0m \u001b[0mreduction\u001b[0m\u001b[0;34m(\u001b[0m\u001b[0maxis\u001b[0m\u001b[0;34m=\u001b[0m\u001b[0maxis\u001b[0m\u001b[0;34m,\u001b[0m \u001b[0mout\u001b[0m\u001b[0;34m=\u001b[0m\u001b[0mout\u001b[0m\u001b[0;34m,\u001b[0m \u001b[0;34m**\u001b[0m\u001b[0mpasskwargs\u001b[0m\u001b[0;34m)\u001b[0m\u001b[0;34m\u001b[0m\u001b[0m\n\u001b[1;32m     82\u001b[0m \u001b[0;34m\u001b[0m\u001b[0m\n\u001b[0;32m---> 83\u001b[0;31m     \u001b[0;32mreturn\u001b[0m \u001b[0mufunc\u001b[0m\u001b[0;34m.\u001b[0m\u001b[0mreduce\u001b[0m\u001b[0;34m(\u001b[0m\u001b[0mobj\u001b[0m\u001b[0;34m,\u001b[0m \u001b[0maxis\u001b[0m\u001b[0;34m,\u001b[0m \u001b[0mdtype\u001b[0m\u001b[0;34m,\u001b[0m \u001b[0mout\u001b[0m\u001b[0;34m,\u001b[0m \u001b[0;34m**\u001b[0m\u001b[0mpasskwargs\u001b[0m\u001b[0;34m)\u001b[0m\u001b[0;34m\u001b[0m\u001b[0m\n\u001b[0m\u001b[1;32m     84\u001b[0m \u001b[0;34m\u001b[0m\u001b[0m\n\u001b[1;32m     85\u001b[0m \u001b[0;34m\u001b[0m\u001b[0m\n",
      "\u001b[0;31mKeyboardInterrupt\u001b[0m: "
     ]
    }
   ],
   "source": [
    "np.random.seed(11)\n",
    "n_sim = 1\n",
    "Strategy = 'random' #or 'hot'\n",
    "restore_vec = [0.0000000000000000000000000000000000000000000000001, \n",
    "              0.00000000001, 0.000000001, 0.0000001, 0.00001, 0.001]\n",
    "restore_val_vec = [27, 30, 33, 36]\n",
    "genetic_v_vec = np.array([[0.01, 0.01], \n",
    "                          [0.05, 0.05],\n",
    "                           [0.1, 0.1]])\n",
    "MPA_vec = ['none']\n",
    "for k in range(0, n_sim):\n",
    "    for j in range(0, len(restore_vec)):\n",
    "        for y in range(0, len(restore_val_vec)):\n",
    "            for l in range(0, len(genetic_v_vec)):\n",
    "                for m in range(0, len(MPA_vec)):\n",
    "                    SST0 = generate_temps_cos_fun(size,min_SST=20,max_SST=30) \n",
    "                    spp_state = generate_state_fun(size, nsp, cover=0.25,random=False) \n",
    "#! Choose the baseline connectivity matrix (source reef does not contribute anything):##################################\n",
    "                    connections=4 # Number of patches (NOT including itself) that a patch is connected to\n",
    "                \n",
    "                    #Set the seed to a constant if you want to generate the same random matrix\n",
    "                    #seed = np.random.randint(0,1000) \n",
    "                    #seed=11\n",
    "                    #! REGULAR MATRIX\n",
    "                    D0 = gen_reg_matrix(size=size, connections=connections)\n",
    "                    #! Choose sites to restore\n",
    "                    amount = 0.2\n",
    "                    strategy = Strategy\n",
    "                    restore_status = set_restore_fun(SST0,spp_state,species_type,size,amount,strategy)\n",
    "                    num_restore = np.count_nonzero(restore_status)\n",
    "                \n",
    "                    # Matrix with restoration site row and column\n",
    "                    D1 = np.zeros((D0.shape[0]+num_restore,D0.shape[1]+num_restore))\n",
    "                    D1[:-num_restore,:-num_restore] = D0\n",
    "                    D_no_restore = np.zeros(D1.shape)\n",
    "                    D_no_restore[:,:] = D1\n",
    "                \n",
    "                #Set the 'no restore' matrix such that extra source reefs are self_recruiting\n",
    "                    for i in np.arange(size,size+num_restore):\n",
    "                        D_no_restore[i,i] = 1.0\n",
    "                    \n",
    "                        D_restore = np.zeros(D_no_restore.shape)\n",
    "                        D_restore[:,:] = D_no_restore\n",
    "                    \n",
    "                    restore_array = np.where(restore_status == 1)[1]\n",
    "                \n",
    "                    i=size\n",
    "                    for site in restore_array:\n",
    "                        D_restore[site,i] = 1.0\n",
    "                        i += 1\n",
    "                \n",
    "#Define initial conditions###########################################################################################        \n",
    "                    anomalies_burn = np.tile(np.random.normal(0,temp_stoch,burnin),size).reshape((size,burnin)) \n",
    "                    anomalies_burn_restore = np.ones((anomalies_burn.shape[0]+num_restore,anomalies_burn.shape[1]))\n",
    "                    anomalies_burn_restore[:-num_restore,:] = anomalies_burn\n",
    "                    anomalies_burn_restore[-num_restore:,:] = anomalies_burn[-1,:]\n",
    "                    #shape: number of reefs x time steps \n",
    "                \n",
    "                    anomalies_run = np.tile(np.random.normal(0,temp_stoch,runtime),size).reshape((size,runtime)) \n",
    "                    anomalies_run_restore = np.ones((anomalies_run.shape[0]+num_restore,anomalies_run.shape[1]))\n",
    "                    anomalies_run_restore[:-num_restore,:] = anomalies_run\n",
    "                    anomalies_run_restore[-num_restore:,:] = anomalies_run[-1,:]\n",
    "                    #shape: number of reefs x time steps \n",
    "                \n",
    "                    algaemort = np.random.uniform(alg_mort,alg_mort,(runtime+burnin)*size).reshape((size,runtime+burnin))\n",
    "                    algaemort_restore = np.ones((algaemort.shape[0]+num_restore, algaemort.shape[1]))\n",
    "                    algaemort_restore[:-num_restore,:] = algaemort\n",
    "                    algaemort_restore[-num_restore:,:] = algaemort[-1,:]\n",
    "                    #shape: number of reefs x time steps \n",
    "                \n",
    "                    SST0 = generate_temps_cos_fun(size,min_SST=20,max_SST=30) \n",
    "                    SST0_restore = np.ones((SST0.shape[0]+num_restore))\n",
    "                    SST0_restore[:-num_restore] = SST0\n",
    "                    SST0_restore[-num_restore:] = SST0[-1]\n",
    "                    #shape: number of reefs\n",
    "                \n",
    "                    spp_state = generate_state_fun(size, nsp, cover=0.25,random=False) \n",
    "                    spp_state_restore = np.ones((spp_state.shape[0]+num_restore, spp_state.shape[1]))\n",
    "                    spp_state_restore[:-num_restore,:] = spp_state\n",
    "                    spp_state_restore[-num_restore:,:] = 1.0\n",
    "                    #shape: number of reefs x number of species\n",
    "                \n",
    "                    trait_state = generate_traits_fun(nsp,size,SST0,mid,temp_range,trait_scenario='perfect_adapt') \n",
    "                    trait_state_restore = np.ones((trait_state.shape[0]+num_restore, trait_state.shape[1]))\n",
    "                    trait_state_restore[:-num_restore,:] = trait_state\n",
    "                    trait_state_restore[-num_restore:,:] = restore_val_vec[y]\n",
    "                    #shape: number of reefs x number of species\n",
    "                \n",
    "                    mpa_status = set_MPA_fun(SST0,spp_state,species_type,size,amount=0.2,strategy=MPA_vec[m])\n",
    "                    mpa_status_restore = np.ones((mpa_status.shape[0],mpa_status.shape[1]+num_restore))\n",
    "                    mpa_status_restore[:,:-num_restore] = mpa_status\n",
    "                    mpa_status_restore[:,-num_restore:] = mpa_status[:,-1]\n",
    "                    #shape: 1 x number of reefs\n",
    "#Burnin#####################################################################################################################################                \n",
    "                    # Alter the baseline percent cover on the source reef in order to set the amount of coral cover to send to \n",
    "                    # restoration reefs. The amount in the third column doesn't matter since macroalgae don't experience recruitment\n",
    "                    # from other sites\n",
    "                    # This does NOT matter for the burnin\n",
    "                    #source_cover = np.ones((num_restore,nsp)) #this sets every source reef at 1, can set with another array to change values\n",
    "                    #source_cover = np.array([1.0,1.0])\n",
    "                    source_cover = np.array([restore_vec[j],0.0000000000000000000000000000000000000000000000001])\n",
    "                    #Start (and keep) restoration source reefs at the baseline amount with specified trait value\n",
    "                    trait_restore_val = restore_val_vec[y]\n",
    "                    spp_state_restore[-num_restore:,:] = source_cover\n",
    "                    trait_state_restore[-num_restore,:] = np.repeat(trait_restore_val,nsp)\n",
    "                \n",
    "                    # This is where you tell the model when to use the restoration matrix; we can write something more sophisticated to\n",
    "                    # generate this later on. For example, something that takes in a \"frequency\" instead of having to manually input years\n",
    "                    restoration_years = []\n",
    "                \n",
    "                    trait_strategy = 'value'\n",
    "                \n",
    "                    #burnin \n",
    "                    time_steps=burnin\n",
    "                    timemod = 0 #to offset algae mortality index\n",
    "                    parameters_dict = {'nsp': nsp, \n",
    "                                        'size': size, \n",
    "                                        'time_steps': burnin, \n",
    "                                        'species_type': species_type, \n",
    "                                        'V': genetic_v_vec[l],  \n",
    "                                        'D0': D_no_restore, \n",
    "                                        'D1': D_restore,\n",
    "                                        'beta': beta,\n",
    "                                        'r_max': r_max,\n",
    "                                        'alphas': alphas,\n",
    "                                        'mortality_model': mortality_model,\n",
    "                                        'mpa_status': mpa_status,\n",
    "                                        'w': w,\n",
    "                                        'm_const': m_const,\n",
    "                                        'maxtemp': maxtemp,\n",
    "                                        'annual_temp_change': annual_temp_change,\n",
    "                                        'timemod': timemod,\n",
    "                                        'restoration_years': restoration_years,\n",
    "                                        'source_cover': source_cover,\n",
    "                                        'trait_strategy': trait_strategy,\n",
    "                                        'value': value,\n",
    "                                        'scaling_frac': scaling_frac,\n",
    "                                        'percentile': percentile,\n",
    "                                        'num_restore':num_restore,\n",
    "                                        'restore_array':restore_array\n",
    "                                        }\n",
    "                    #N0, Z0, SST_burnin = coral_restore_fun2(parameters_dict,spp_state_restore,trait_state_restore,\n",
    "                    #                                   SST0_restore,anomalies_burn_restore,\n",
    "                    #                                   algaemort_restore,temp_change=\"constant\",\n",
    "                    #                                   burnin=True)\n",
    "                    N0, Z0, SST_burnin = coral_restore_fun(parameters_dict,spp_state_restore,trait_state_restore,\n",
    "                                                                   SST0_restore,anomalies_burn_restore,\n",
    "                                                                   algaemort_restore,temp_change=\"constant\",\n",
    "                                                                   trait_restore=trait_restore_val,\n",
    "                                                                   burnin=True)\n",
    "#Save Burnin as csv ###################################################################################################\n",
    "                    #burnin_N_sp1 = N0[:,0,:]\n",
    "                    #burnin_N_sp2 = N0[:,1,:]\n",
    "                \n",
    "                    #burnin_Z_sp1 = Z0[:,0,:]\n",
    "                    #burnin_Z_sp2 = Z0[:,1,:]\n",
    "\n",
    "                    #! Save each species as a separate file: species percent cover\n",
    "                    #np.savetxt(\"burnin_N_sp1.csv\", burnin_N_sp1, delimiter=',')\n",
    "                    #np.savetxt(\"burnin_N_sp2.csv\", burnin_N_sp2, delimiter=',')\n",
    "                \n",
    "                    #! Save each species as a separate file: species trait value\n",
    "                    #np.savetxt(\"burnin_Z_sp1.csv\", burnin_Z_sp1, delimiter=',')\n",
    "                    #np.savetxt(\"burnin_Z_sp2.csv\", burnin_Z_sp2, delimiter=',')\n",
    "                \n",
    "#Runtime##############################################################################################################\n",
    "# Alter the baseline percent cover on the source reef in order to set the amount of coral cover to send to \n",
    "# restoration reefs. The amount in the third column doesn't matter since macroalgae don't experience recruitment\n",
    "# from other sites\n",
    "                    #source_cover = np.array([1.0,1.0])\n",
    "                    source_cover = np.array([restore_vec[j],0.0000000000000000000000000000000000000000000000001])\n",
    "                \n",
    "                    # Note: the code does NOT like having a zero value in one of these; use 1e-6 to approximate zero\n",
    "                \n",
    "                    #runtime parameters: all restoration years\n",
    "                    mpa_status = set_MPA_fun(SST0,spp_state,species_type,size,amount=0.2,strategy=MPA_vec[m])\n",
    "                    time_steps = runtime\n",
    "                \n",
    "                    # This is where you tell the model when to use the restoration matrix; we can write something more sophisticated to\n",
    "                    # generate this later on. For example, something that takes in a \"frequency\" instead of having to manually input years\n",
    "                \n",
    "                    #restoration_years = [1,5,20]\n",
    "                    restoration_years = list(range(runtime)) #restoration occurs during all years in runtime\n",
    "                    #restoration_years = []\n",
    "                \n",
    "                    timemod = burnin #to offset algae mortality index\n",
    "                \n",
    "                    parameters_dict = {'nsp': nsp, \n",
    "                                        'size': size, \n",
    "                                        'time_steps': runtime, \n",
    "                                        'species_type': species_type, \n",
    "                                        'V': genetic_v_vec[l],  \n",
    "                                        'D0': D_no_restore, \n",
    "                                        'D1': D_restore,\n",
    "                                        'beta': beta,\n",
    "                                        'r_max': r_max,\n",
    "                                        'alphas': alphas,\n",
    "                                        'mortality_model': mortality_model,\n",
    "                                        'mpa_status': mpa_status,\n",
    "                                        'w': w,\n",
    "                                        'm_const': m_const,\n",
    "                                        'maxtemp': maxtemp,\n",
    "                                        'annual_temp_change': annual_temp_change,\n",
    "                                        'timemod': timemod,\n",
    "                                        'restoration_years': restoration_years,\n",
    "                                        'source_cover': source_cover,\n",
    "                                        'trait_strategy': trait_strategy,\n",
    "                                        'value': value,\n",
    "                                        'scaling_frac': scaling_frac,\n",
    "                                        'percentile': percentile,\n",
    "                                        'num_restore':num_restore,\n",
    "                                        'restore_array':restore_array\n",
    "                                        }\n",
    "                \n",
    "                    #N1, Z1, SST_runtime = coral_restore_fun2(parameters_dict,N0[:,:,-1],Z0[:,:,-1],\n",
    "                    #                                   SST_burnin[:,-1],anomalies_run_restore,\n",
    "                    #                                   algaemort_restore,temp_change=\"sigmoid\",\n",
    "                    #                                   burnin=False)\n",
    "                    #Calls original coral_restore_fun() that does NOT set trait value using the percentile method\n",
    "                    N1, Z1, SST_runtime = coral_restore_fun(parameters_dict,N0[:,:,-1],Z0[:,:,-1],\n",
    "                                                        SST_burnin[:,-1],anomalies_run_restore,algaemort_restore,\n",
    "                                                        temp_change=\"sigmoid\", trait_restore=trait_restore_val,\n",
    "                                                        burnin=False)\n",
    "                \n",
    "#Save runtime as csv ###################################################################################################\n",
    "                    runtime_N_sp1 = N1[:,0,:]\n",
    "                    runtime_N_sp2 = N1[:,1,:]\n",
    "                \n",
    "                    runtime_Z_sp1 = Z1[:,0,:]\n",
    "                    runtime_Z_sp2 = Z1[:,1,:]\n",
    "                \n",
    "                    #! Save each species as a separate file: species percent cover\n",
    "                    fname_template = \"runtime_N_sp1.{k}.{j}.{y}.{l}.{m}.{strategy}.csv\"\n",
    "                    np.savetxt(fname_template.format(k=k, j=j, y=y, l=l, m=m, strategy=strategy), runtime_N_sp1, delimiter=',')\n",
    "                    fname_template = \"runtime_N_sp2.{k}.{j}.{y}.{l}.{m}.{strategy}.csv\"\n",
    "                    np.savetxt(fname_template.format(k=k, j=j, y=y, l=l, m=m, strategy=strategy), runtime_N_sp2, delimiter=',')\n",
    "                \n",
    "                    #! Save each species as a separate file: species trait value\n",
    "                    fname_template = \"runtime_Z_sp1.{k}.{j}.{y}.{l}.{m}.{strategy}.csv\"\n",
    "                    np.savetxt(fname_template.format(k=k, j=j, y=y, l=l, m=m, strategy=strategy), runtime_Z_sp1, delimiter=',')\n",
    "                    fname_template = \"runtime_Z_sp2.{k}.{j}.{y}.{l}.{m}.{strategy}.csv\"\n",
    "                    np.savetxt(fname_template.format(k=k, j=j, y=y, l=l, m=m, strategy=strategy), runtime_Z_sp2, delimiter=',')\n",
    "                                \n",
    "                    print j\n",
    "                    print k\n",
    "                    print y\n",
    "                    print l\n",
    "                    print m\n",
    "\n",
    "\n"
   ]
  },
  {
   "cell_type": "code",
   "execution_count": 54,
   "metadata": {},
   "outputs": [
    {
     "name": "stdout",
     "output_type": "stream",
     "text": [
      "BURNIN\n",
      "RUNTIME\n",
      "0\n",
      "0\n",
      "0\n",
      "0\n",
      "0\n",
      "BURNIN\n",
      "RUNTIME\n",
      "0\n",
      "0\n",
      "0\n",
      "0\n",
      "1\n",
      "BURNIN\n",
      "RUNTIME\n",
      "0\n",
      "0\n",
      "0\n",
      "1\n",
      "0\n",
      "BURNIN\n",
      "RUNTIME\n",
      "0\n",
      "0\n",
      "0\n",
      "1\n",
      "1\n",
      "BURNIN\n",
      "RUNTIME\n",
      "0\n",
      "0\n",
      "0\n",
      "2\n",
      "0\n",
      "BURNIN\n",
      "RUNTIME\n",
      "0\n",
      "0\n",
      "0\n",
      "2\n",
      "1\n",
      "BURNIN\n",
      "RUNTIME\n",
      "0\n",
      "0\n",
      "1\n",
      "0\n",
      "0\n",
      "BURNIN\n",
      "RUNTIME\n",
      "0\n",
      "0\n",
      "1\n",
      "0\n",
      "1\n",
      "BURNIN\n",
      "RUNTIME\n",
      "0\n",
      "0\n",
      "1\n",
      "1\n",
      "0\n",
      "BURNIN\n",
      "RUNTIME\n",
      "0\n",
      "0\n",
      "1\n",
      "1\n",
      "1\n",
      "BURNIN\n",
      "RUNTIME\n",
      "0\n",
      "0\n",
      "1\n",
      "2\n",
      "0\n",
      "BURNIN\n",
      "RUNTIME\n",
      "0\n",
      "0\n",
      "1\n",
      "2\n",
      "1\n",
      "BURNIN\n",
      "RUNTIME\n",
      "0\n",
      "0\n",
      "2\n",
      "0\n",
      "0\n",
      "BURNIN\n",
      "RUNTIME\n",
      "0\n",
      "0\n",
      "2\n",
      "0\n",
      "1\n",
      "BURNIN\n",
      "RUNTIME\n",
      "0\n",
      "0\n",
      "2\n",
      "1\n",
      "0\n",
      "BURNIN\n",
      "RUNTIME\n",
      "0\n",
      "0\n",
      "2\n",
      "1\n",
      "1\n",
      "BURNIN\n",
      "RUNTIME\n",
      "0\n",
      "0\n",
      "2\n",
      "2\n",
      "0\n",
      "BURNIN\n",
      "RUNTIME\n",
      "0\n",
      "0\n",
      "2\n",
      "2\n",
      "1\n",
      "BURNIN\n",
      "RUNTIME\n",
      "0\n",
      "0\n",
      "3\n",
      "0\n",
      "0\n",
      "BURNIN\n",
      "RUNTIME\n",
      "0\n",
      "0\n",
      "3\n",
      "0\n",
      "1\n",
      "BURNIN\n",
      "RUNTIME\n",
      "0\n",
      "0\n",
      "3\n",
      "1\n",
      "0\n",
      "BURNIN\n",
      "RUNTIME\n",
      "0\n",
      "0\n",
      "3\n",
      "1\n",
      "1\n",
      "BURNIN\n",
      "RUNTIME\n",
      "0\n",
      "0\n",
      "3\n",
      "2\n",
      "0\n",
      "BURNIN\n",
      "RUNTIME\n",
      "0\n",
      "0\n",
      "3\n",
      "2\n",
      "1\n",
      "BURNIN\n"
     ]
    },
    {
     "ename": "KeyboardInterrupt",
     "evalue": "",
     "output_type": "error",
     "traceback": [
      "\u001b[0;31m---------------------------------------------------------------------------\u001b[0m",
      "\u001b[0;31mKeyboardInterrupt\u001b[0m                         Traceback (most recent call last)",
      "\u001b[0;32m<ipython-input-54-de56f52bf744>\u001b[0m in \u001b[0;36m<module>\u001b[0;34m()\u001b[0m\n\u001b[1;32m    147\u001b[0m                                                                    \u001b[0malgaemort_restore\u001b[0m\u001b[0;34m,\u001b[0m\u001b[0mtemp_change\u001b[0m\u001b[0;34m=\u001b[0m\u001b[0;34m\"constant\"\u001b[0m\u001b[0;34m,\u001b[0m\u001b[0;34m\u001b[0m\u001b[0m\n\u001b[1;32m    148\u001b[0m                                                                    \u001b[0mtrait_restore\u001b[0m\u001b[0;34m=\u001b[0m\u001b[0mtrait_restore_val\u001b[0m\u001b[0;34m,\u001b[0m\u001b[0;34m\u001b[0m\u001b[0m\n\u001b[0;32m--> 149\u001b[0;31m                                                                    burnin=True)\n\u001b[0m\u001b[1;32m    150\u001b[0m \u001b[0;31m#Save Burnin as csv ###################################################################################################\u001b[0m\u001b[0;34m\u001b[0m\u001b[0;34m\u001b[0m\u001b[0m\n\u001b[1;32m    151\u001b[0m                     \u001b[0;31m#burnin_N_sp1 = N0[:,0,:]\u001b[0m\u001b[0;34m\u001b[0m\u001b[0;34m\u001b[0m\u001b[0m\n",
      "\u001b[0;32m<ipython-input-22-2f11fd68f6ad>\u001b[0m in \u001b[0;36mcoral_restore_fun\u001b[0;34m(param, spp_state, trait_state, temps, anomalies, algaemort_full, temp_change, trait_restore, burnin)\u001b[0m\n\u001b[1;32m     64\u001b[0m             \u001b[0malg_mort\u001b[0m \u001b[0;34m=\u001b[0m \u001b[0malgaemort_sub\u001b[0m\u001b[0;34m[\u001b[0m\u001b[0;34m:\u001b[0m\u001b[0;34m,\u001b[0m\u001b[0mi\u001b[0m\u001b[0;34m]\u001b[0m\u001b[0;34m\u001b[0m\u001b[0m\n\u001b[1;32m     65\u001b[0m             dN1 = dNdt_fun(r_max,SST_matrix[:,tick],Z_ALL[:,:,tick],w,alphas,species_type,mpa_status,\n\u001b[0;32m---> 66\u001b[0;31m                              N_ALL[:,:,tick],m_const,mortality_model,alg_mort,V,D,beta)\n\u001b[0m\u001b[1;32m     67\u001b[0m             dZ1 = dZdt_fun(r_max,SST_matrix[:,tick],Z_ALL[:,:,tick],w,alphas,species_type,mpa_status,\n\u001b[1;32m     68\u001b[0m                             N_ALL[:,:,tick],m_const,mortality_model,alg_mort,V,D,beta)\n",
      "\u001b[0;32m<ipython-input-7-7aed899339e6>\u001b[0m in \u001b[0;36mdNdt_fun\u001b[0;34m(r_max, T, z, w, alphas, species_type, mpa_status, N_all, m_const, mortality_model, alg_mort, V, D, beta)\u001b[0m\n\u001b[1;32m      5\u001b[0m \u001b[0;34m\u001b[0m\u001b[0m\n\u001b[1;32m      6\u001b[0m     \u001b[0mg\u001b[0m \u001b[0;34m=\u001b[0m \u001b[0mfitness_fun\u001b[0m\u001b[0;34m(\u001b[0m\u001b[0mr_max\u001b[0m\u001b[0;34m,\u001b[0m\u001b[0mT\u001b[0m\u001b[0;34m,\u001b[0m\u001b[0mz\u001b[0m\u001b[0;34m,\u001b[0m\u001b[0mw\u001b[0m\u001b[0;34m,\u001b[0m\u001b[0malphas\u001b[0m\u001b[0;34m,\u001b[0m\u001b[0mspecies_type\u001b[0m\u001b[0;34m,\u001b[0m\u001b[0mmpa_status\u001b[0m\u001b[0;34m,\u001b[0m\u001b[0mN_all\u001b[0m\u001b[0;34m,\u001b[0m\u001b[0mm_const\u001b[0m\u001b[0;34m,\u001b[0m\u001b[0mmortality_model\u001b[0m\u001b[0;34m,\u001b[0m\u001b[0malg_mort\u001b[0m\u001b[0;34m)\u001b[0m\u001b[0;34m\u001b[0m\u001b[0m\n\u001b[0;32m----> 7\u001b[0;31m     \u001b[0mdGdZ2\u001b[0m \u001b[0;34m=\u001b[0m \u001b[0mdGdZ2_fun\u001b[0m\u001b[0;34m(\u001b[0m\u001b[0mr_max\u001b[0m\u001b[0;34m,\u001b[0m\u001b[0mT\u001b[0m\u001b[0;34m,\u001b[0m\u001b[0mz\u001b[0m\u001b[0;34m,\u001b[0m\u001b[0mw\u001b[0m\u001b[0;34m,\u001b[0m\u001b[0malphas\u001b[0m\u001b[0;34m,\u001b[0m\u001b[0mspecies_type\u001b[0m\u001b[0;34m,\u001b[0m\u001b[0mmpa_status\u001b[0m\u001b[0;34m,\u001b[0m\u001b[0mN_all\u001b[0m\u001b[0;34m,\u001b[0m\u001b[0mm_const\u001b[0m\u001b[0;34m,\u001b[0m\u001b[0mmortality_model\u001b[0m\u001b[0;34m,\u001b[0m\u001b[0malg_mort\u001b[0m\u001b[0;34m)\u001b[0m\u001b[0;34m\u001b[0m\u001b[0m\n\u001b[0m\u001b[1;32m      8\u001b[0m     \u001b[0mpopdy\u001b[0m \u001b[0;34m=\u001b[0m \u001b[0mnp\u001b[0m\u001b[0;34m.\u001b[0m\u001b[0mmultiply\u001b[0m\u001b[0;34m(\u001b[0m\u001b[0mN_all\u001b[0m\u001b[0;34m,\u001b[0m\u001b[0mg\u001b[0m\u001b[0;34m)\u001b[0m\u001b[0;34m\u001b[0m\u001b[0m\n\u001b[1;32m      9\u001b[0m     \u001b[0mgenload\u001b[0m \u001b[0;34m=\u001b[0m \u001b[0;36m0.5\u001b[0m \u001b[0;34m*\u001b[0m \u001b[0mV\u001b[0m \u001b[0;34m*\u001b[0m \u001b[0mdGdZ2\u001b[0m \u001b[0;34m*\u001b[0m \u001b[0mN_all\u001b[0m\u001b[0;34m\u001b[0m\u001b[0m\n",
      "\u001b[0;32m<ipython-input-6-b5b9ab765fdd>\u001b[0m in \u001b[0;36mdGdZ2_fun\u001b[0;34m(r_max, T, z, w, alphas, species_type, mpa_status, N_all, m_const, mortality_model, alg_mort)\u001b[0m\n\u001b[1;32m     13\u001b[0m                 \u001b[0;31m# Take the symmetric difference quotient at point z[i,j]\u001b[0m\u001b[0;34m\u001b[0m\u001b[0;34m\u001b[0m\u001b[0m\n\u001b[1;32m     14\u001b[0m                 term1 = fitness_fun(r_max,T,z+h_matrix,w,alphas,species_type,mpa_status,\n\u001b[0;32m---> 15\u001b[0;31m                                      N_all,m_const,mortality_model,alg_mort)\n\u001b[0m\u001b[1;32m     16\u001b[0m                 term2 = fitness_fun(r_max,T,z-h_matrix,w,alphas,species_type,mpa_status,\n\u001b[1;32m     17\u001b[0m                                          N_all,m_const,mortality_model,alg_mort)\n",
      "\u001b[0;32m<ipython-input-4-4694e34b75a5>\u001b[0m in \u001b[0;36mfitness_fun\u001b[0;34m(r_max, T, z, w, alphas, species_type, mpa_status, N_all, m_const, mortality_model, alg_mort)\u001b[0m\n\u001b[1;32m      4\u001b[0m     \u001b[0;31m# If mortality varies with temperature\u001b[0m\u001b[0;34m\u001b[0m\u001b[0;34m\u001b[0m\u001b[0m\n\u001b[1;32m      5\u001b[0m     \u001b[0;32mif\u001b[0m \u001b[0mmortality_model\u001b[0m \u001b[0;34m==\u001b[0m \u001b[0;34m\"temp_vary\"\u001b[0m\u001b[0;34m:\u001b[0m\u001b[0;34m\u001b[0m\u001b[0m\n\u001b[0;32m----> 6\u001b[0;31m         \u001b[0mm\u001b[0m \u001b[0;34m=\u001b[0m \u001b[0mmortality_fun\u001b[0m\u001b[0;34m(\u001b[0m\u001b[0mr_max\u001b[0m\u001b[0;34m,\u001b[0m\u001b[0mT\u001b[0m\u001b[0;34m,\u001b[0m\u001b[0mz\u001b[0m\u001b[0;34m,\u001b[0m\u001b[0mw\u001b[0m\u001b[0;34m,\u001b[0m\u001b[0mspecies_type\u001b[0m\u001b[0;34m,\u001b[0m\u001b[0mmpa_status\u001b[0m\u001b[0;34m,\u001b[0m\u001b[0malg_mort\u001b[0m\u001b[0;34m)\u001b[0m\u001b[0;34m\u001b[0m\u001b[0m\n\u001b[0m\u001b[1;32m      7\u001b[0m     \u001b[0;31m# If mortality is constant\u001b[0m\u001b[0;34m\u001b[0m\u001b[0;34m\u001b[0m\u001b[0m\n\u001b[1;32m      8\u001b[0m     \u001b[0;32melse\u001b[0m\u001b[0;34m:\u001b[0m\u001b[0;34m\u001b[0m\u001b[0m\n",
      "\u001b[0;32m<ipython-input-3-f087067fef09>\u001b[0m in \u001b[0;36mmortality_fun\u001b[0;34m(r_max, T, z, w, species_type, mpa_status, alg_mort)\u001b[0m\n\u001b[1;32m      7\u001b[0m         \u001b[0mT\u001b[0m \u001b[0;34m=\u001b[0m \u001b[0mnp\u001b[0m\u001b[0;34m.\u001b[0m\u001b[0mrepeat\u001b[0m\u001b[0;34m(\u001b[0m\u001b[0mT\u001b[0m\u001b[0;34m,\u001b[0m\u001b[0mz\u001b[0m\u001b[0;34m.\u001b[0m\u001b[0mshape\u001b[0m\u001b[0;34m[\u001b[0m\u001b[0;36m1\u001b[0m\u001b[0;34m]\u001b[0m\u001b[0;34m)\u001b[0m\u001b[0;34m.\u001b[0m\u001b[0mreshape\u001b[0m\u001b[0;34m(\u001b[0m\u001b[0mz\u001b[0m\u001b[0;34m.\u001b[0m\u001b[0mshape\u001b[0m\u001b[0;34m[\u001b[0m\u001b[0;36m0\u001b[0m\u001b[0;34m]\u001b[0m\u001b[0;34m,\u001b[0m\u001b[0mz\u001b[0m\u001b[0;34m.\u001b[0m\u001b[0mshape\u001b[0m\u001b[0;34m[\u001b[0m\u001b[0;36m1\u001b[0m\u001b[0;34m]\u001b[0m\u001b[0;34m)\u001b[0m \u001b[0;31m# Reshape T array to correspond with z matrix\u001b[0m\u001b[0;34m\u001b[0m\u001b[0m\n\u001b[1;32m      8\u001b[0m \u001b[0;34m\u001b[0m\u001b[0m\n\u001b[0;32m----> 9\u001b[0;31m         \u001b[0mm\u001b[0m\u001b[0;34m[\u001b[0m\u001b[0mz\u001b[0m\u001b[0;34m<\u001b[0m\u001b[0mT\u001b[0m\u001b[0;34m]\u001b[0m \u001b[0;34m=\u001b[0m \u001b[0;36m1\u001b[0m \u001b[0;34m-\u001b[0m \u001b[0mnp\u001b[0m\u001b[0;34m.\u001b[0m\u001b[0mexp\u001b[0m\u001b[0;34m(\u001b[0m\u001b[0;34m-\u001b[0m\u001b[0mpow\u001b[0m\u001b[0;34m(\u001b[0m\u001b[0;34m(\u001b[0m\u001b[0mT\u001b[0m\u001b[0;34m-\u001b[0m\u001b[0mz\u001b[0m\u001b[0;34m)\u001b[0m\u001b[0;34m,\u001b[0m\u001b[0;36m2\u001b[0m\u001b[0;34m)\u001b[0m\u001b[0;34m/\u001b[0m\u001b[0mpow\u001b[0m\u001b[0;34m(\u001b[0m\u001b[0mw\u001b[0m\u001b[0;34m,\u001b[0m\u001b[0;36m2\u001b[0m\u001b[0;34m)\u001b[0m\u001b[0;34m)\u001b[0m\u001b[0;34m[\u001b[0m\u001b[0mz\u001b[0m\u001b[0;34m<\u001b[0m\u001b[0mT\u001b[0m\u001b[0;34m]\u001b[0m\u001b[0;34m\u001b[0m\u001b[0m\n\u001b[0m\u001b[1;32m     10\u001b[0m         \u001b[0mm\u001b[0m\u001b[0;34m[\u001b[0m\u001b[0mz\u001b[0m\u001b[0;34m>=\u001b[0m\u001b[0mT\u001b[0m\u001b[0;34m]\u001b[0m \u001b[0;34m=\u001b[0m \u001b[0;36m0\u001b[0m\u001b[0;34m\u001b[0m\u001b[0m\n\u001b[1;32m     11\u001b[0m \u001b[0;34m\u001b[0m\u001b[0m\n",
      "\u001b[0;31mKeyboardInterrupt\u001b[0m: "
     ]
    }
   ],
   "source": [
    "np.random.seed(11)\n",
    "n_sim = 1\n",
    "Strategy = 'random' #or 'hot'\n",
    "restore_vec = [0.0000000000000000000000000000000000000000000000001, 0.001]\n",
    "restore_val_vec = [27, 30, 33, 36]\n",
    "genetic_v_vec = np.array([[0.01, 0.01], \n",
    "                          [0.05, 0.05],\n",
    "                           [0.1, 0.1]])\n",
    "MPA_vec = ['none', 'random']\n",
    "for k in range(0, n_sim):\n",
    "    for j in range(0, len(restore_vec)):\n",
    "        for y in range(0, len(restore_val_vec)):\n",
    "            for l in range(0, len(genetic_v_vec)):\n",
    "                for m in range(0, len(MPA_vec)):\n",
    "                    SST0 = generate_temps_cos_fun(size,min_SST=20,max_SST=30) \n",
    "                    spp_state = generate_state_fun(size, nsp, cover=0.25,random=False) \n",
    "#! Choose the baseline connectivity matrix (source reef does not contribute anything):##################################\n",
    "                    connections=4 # Number of patches (NOT including itself) that a patch is connected to\n",
    "                \n",
    "                    #Set the seed to a constant if you want to generate the same random matrix\n",
    "                    #seed = np.random.randint(0,1000) \n",
    "                    #seed=11\n",
    "                    #! REGULAR MATRIX\n",
    "                    D0 = gen_reg_matrix(size=size, connections=connections)\n",
    "                    #! Choose sites to restore\n",
    "                    amount = 0.2\n",
    "                    strategy = Strategy\n",
    "                    restore_status = set_restore_fun(SST0,spp_state,species_type,size,amount,strategy)\n",
    "                    num_restore = np.count_nonzero(restore_status)\n",
    "                \n",
    "                    # Matrix with restoration site row and column\n",
    "                    D1 = np.zeros((D0.shape[0]+num_restore,D0.shape[1]+num_restore))\n",
    "                    D1[:-num_restore,:-num_restore] = D0\n",
    "                    D_no_restore = np.zeros(D1.shape)\n",
    "                    D_no_restore[:,:] = D1\n",
    "                \n",
    "                #Set the 'no restore' matrix such that extra source reefs are self_recruiting\n",
    "                    for i in np.arange(size,size+num_restore):\n",
    "                        D_no_restore[i,i] = 1.0\n",
    "                    \n",
    "                        D_restore = np.zeros(D_no_restore.shape)\n",
    "                        D_restore[:,:] = D_no_restore\n",
    "                    \n",
    "                    restore_array = np.where(restore_status == 1)[1]\n",
    "                \n",
    "                    i=size\n",
    "                    for site in restore_array:\n",
    "                        D_restore[site,i] = 1.0\n",
    "                        i += 1\n",
    "                \n",
    "#Define initial conditions###########################################################################################        \n",
    "                    anomalies_burn = np.tile(np.random.normal(0,temp_stoch,burnin),size).reshape((size,burnin)) \n",
    "                    anomalies_burn_restore = np.ones((anomalies_burn.shape[0]+num_restore,anomalies_burn.shape[1]))\n",
    "                    anomalies_burn_restore[:-num_restore,:] = anomalies_burn\n",
    "                    anomalies_burn_restore[-num_restore:,:] = anomalies_burn[-1,:]\n",
    "                    #shape: number of reefs x time steps \n",
    "                \n",
    "                    anomalies_run = np.tile(np.random.normal(0,temp_stoch,runtime),size).reshape((size,runtime)) \n",
    "                    anomalies_run_restore = np.ones((anomalies_run.shape[0]+num_restore,anomalies_run.shape[1]))\n",
    "                    anomalies_run_restore[:-num_restore,:] = anomalies_run\n",
    "                    anomalies_run_restore[-num_restore:,:] = anomalies_run[-1,:]\n",
    "                    #shape: number of reefs x time steps \n",
    "                \n",
    "                    algaemort = np.random.uniform(alg_mort,alg_mort,(runtime+burnin)*size).reshape((size,runtime+burnin))\n",
    "                    algaemort_restore = np.ones((algaemort.shape[0]+num_restore, algaemort.shape[1]))\n",
    "                    algaemort_restore[:-num_restore,:] = algaemort\n",
    "                    algaemort_restore[-num_restore:,:] = algaemort[-1,:]\n",
    "                    #shape: number of reefs x time steps \n",
    "                \n",
    "                    SST0 = generate_temps_cos_fun(size,min_SST=20,max_SST=30) \n",
    "                    SST0_restore = np.ones((SST0.shape[0]+num_restore))\n",
    "                    SST0_restore[:-num_restore] = SST0\n",
    "                    SST0_restore[-num_restore:] = SST0[-1]\n",
    "                    #shape: number of reefs\n",
    "                \n",
    "                    spp_state = generate_state_fun(size, nsp, cover=0.25,random=False) \n",
    "                    spp_state_restore = np.ones((spp_state.shape[0]+num_restore, spp_state.shape[1]))\n",
    "                    spp_state_restore[:-num_restore,:] = spp_state\n",
    "                    spp_state_restore[-num_restore:,:] = 1.0\n",
    "                    #shape: number of reefs x number of species\n",
    "                \n",
    "                    trait_state = generate_traits_fun(nsp,size,SST0,mid,temp_range,trait_scenario='perfect_adapt') \n",
    "                    trait_state_restore = np.ones((trait_state.shape[0]+num_restore, trait_state.shape[1]))\n",
    "                    trait_state_restore[:-num_restore,:] = trait_state\n",
    "                    trait_state_restore[-num_restore:,:] = restore_val_vec[y]\n",
    "                    #shape: number of reefs x number of species\n",
    "                \n",
    "                    mpa_status = set_MPA_fun(SST0,spp_state,species_type,size,amount=0.2,strategy=MPA_vec[m])\n",
    "                    mpa_status_restore = np.ones((mpa_status.shape[0],mpa_status.shape[1]+num_restore))\n",
    "                    mpa_status_restore[:,:-num_restore] = mpa_status\n",
    "                    mpa_status_restore[:,-num_restore:] = mpa_status[:,-1]\n",
    "                    #shape: 1 x number of reefs\n",
    "#Burnin#####################################################################################################################################                \n",
    "                    # Alter the baseline percent cover on the source reef in order to set the amount of coral cover to send to \n",
    "                    # restoration reefs. The amount in the third column doesn't matter since macroalgae don't experience recruitment\n",
    "                    # from other sites\n",
    "                    # This does NOT matter for the burnin\n",
    "                    #source_cover = np.ones((num_restore,nsp)) #this sets every source reef at 1, can set with another array to change values\n",
    "                    #source_cover = np.array([1.0,1.0])\n",
    "                    source_cover = np.array([restore_vec[j],0.0000000000000000000000000000000000000000000000001])\n",
    "                    #Start (and keep) restoration source reefs at the baseline amount with specified trait value\n",
    "                    trait_restore_val = restore_val_vec[y]\n",
    "                    spp_state_restore[-num_restore:,:] = source_cover\n",
    "                    trait_state_restore[-num_restore,:] = np.repeat(trait_restore_val,nsp)\n",
    "                \n",
    "                    # This is where you tell the model when to use the restoration matrix; we can write something more sophisticated to\n",
    "                    # generate this later on. For example, something that takes in a \"frequency\" instead of having to manually input years\n",
    "                    restoration_years = []\n",
    "                \n",
    "                    trait_strategy = 'value'\n",
    "                \n",
    "                    #burnin \n",
    "                    time_steps=burnin\n",
    "                    timemod = 0 #to offset algae mortality index\n",
    "                    parameters_dict = {'nsp': nsp, \n",
    "                                        'size': size, \n",
    "                                        'time_steps': burnin, \n",
    "                                        'species_type': species_type, \n",
    "                                        'V': genetic_v_vec[l],  \n",
    "                                        'D0': D_no_restore, \n",
    "                                        'D1': D_restore,\n",
    "                                        'beta': beta,\n",
    "                                        'r_max': r_max,\n",
    "                                        'alphas': alphas,\n",
    "                                        'mortality_model': mortality_model,\n",
    "                                        'mpa_status': mpa_status,\n",
    "                                        'w': w,\n",
    "                                        'm_const': m_const,\n",
    "                                        'maxtemp': maxtemp,\n",
    "                                        'annual_temp_change': annual_temp_change,\n",
    "                                        'timemod': timemod,\n",
    "                                        'restoration_years': restoration_years,\n",
    "                                        'source_cover': source_cover,\n",
    "                                        'trait_strategy': trait_strategy,\n",
    "                                        'value': value,\n",
    "                                        'scaling_frac': scaling_frac,\n",
    "                                        'percentile': percentile,\n",
    "                                        'num_restore':num_restore,\n",
    "                                        'restore_array':restore_array\n",
    "                                        }\n",
    "                    #N0, Z0, SST_burnin = coral_restore_fun2(parameters_dict,spp_state_restore,trait_state_restore,\n",
    "                    #                                   SST0_restore,anomalies_burn_restore,\n",
    "                    #                                   algaemort_restore,temp_change=\"constant\",\n",
    "                    #                                   burnin=True)\n",
    "                    N0, Z0, SST_burnin = coral_restore_fun(parameters_dict,spp_state_restore,trait_state_restore,\n",
    "                                                                   SST0_restore,anomalies_burn_restore,\n",
    "                                                                   algaemort_restore,temp_change=\"constant\",\n",
    "                                                                   trait_restore=trait_restore_val,\n",
    "                                                                   burnin=True)\n",
    "#Save Burnin as csv ###################################################################################################\n",
    "                    #burnin_N_sp1 = N0[:,0,:]\n",
    "                    #burnin_N_sp2 = N0[:,1,:]\n",
    "                \n",
    "                    #burnin_Z_sp1 = Z0[:,0,:]\n",
    "                    #burnin_Z_sp2 = Z0[:,1,:]\n",
    "\n",
    "                    #! Save each species as a separate file: species percent cover\n",
    "                    #np.savetxt(\"burnin_N_sp1.csv\", burnin_N_sp1, delimiter=',')\n",
    "                    #np.savetxt(\"burnin_N_sp2.csv\", burnin_N_sp2, delimiter=',')\n",
    "                \n",
    "                    #! Save each species as a separate file: species trait value\n",
    "                    #np.savetxt(\"burnin_Z_sp1.csv\", burnin_Z_sp1, delimiter=',')\n",
    "                    #np.savetxt(\"burnin_Z_sp2.csv\", burnin_Z_sp2, delimiter=',')\n",
    "                \n",
    "#Runtime##############################################################################################################\n",
    "# Alter the baseline percent cover on the source reef in order to set the amount of coral cover to send to \n",
    "# restoration reefs. The amount in the third column doesn't matter since macroalgae don't experience recruitment\n",
    "# from other sites\n",
    "                    #source_cover = np.array([1.0,1.0])\n",
    "                    source_cover = np.array([restore_vec[j],0.0000000000000000000000000000000000000000000000001])\n",
    "                \n",
    "                    # Note: the code does NOT like having a zero value in one of these; use 1e-6 to approximate zero\n",
    "                \n",
    "                    #runtime parameters: all restoration years\n",
    "                    mpa_status = set_MPA_fun(SST0,spp_state,species_type,size,amount=0.2,strategy=MPA_vec[m])\n",
    "                    time_steps = runtime\n",
    "                \n",
    "                    # This is where you tell the model when to use the restoration matrix; we can write something more sophisticated to\n",
    "                    # generate this later on. For example, something that takes in a \"frequency\" instead of having to manually input years\n",
    "                \n",
    "                    #restoration_years = [1,5,20]\n",
    "                    restoration_years = list(range(runtime)) #restoration occurs during all years in runtime\n",
    "                    #restoration_years = []\n",
    "                \n",
    "                    timemod = burnin #to offset algae mortality index\n",
    "                \n",
    "                    parameters_dict = {'nsp': nsp, \n",
    "                                        'size': size, \n",
    "                                        'time_steps': runtime, \n",
    "                                        'species_type': species_type, \n",
    "                                        'V': genetic_v_vec[l],  \n",
    "                                        'D0': D_no_restore, \n",
    "                                        'D1': D_restore,\n",
    "                                        'beta': beta,\n",
    "                                        'r_max': r_max,\n",
    "                                        'alphas': alphas,\n",
    "                                        'mortality_model': mortality_model,\n",
    "                                        'mpa_status': mpa_status,\n",
    "                                        'w': w,\n",
    "                                        'm_const': m_const,\n",
    "                                        'maxtemp': maxtemp,\n",
    "                                        'annual_temp_change': annual_temp_change,\n",
    "                                        'timemod': timemod,\n",
    "                                        'restoration_years': restoration_years,\n",
    "                                        'source_cover': source_cover,\n",
    "                                        'trait_strategy': trait_strategy,\n",
    "                                        'value': value,\n",
    "                                        'scaling_frac': scaling_frac,\n",
    "                                        'percentile': percentile,\n",
    "                                        'num_restore':num_restore,\n",
    "                                        'restore_array':restore_array\n",
    "                                        }\n",
    "                \n",
    "                    #N1, Z1, SST_runtime = coral_restore_fun2(parameters_dict,N0[:,:,-1],Z0[:,:,-1],\n",
    "                    #                                   SST_burnin[:,-1],anomalies_run_restore,\n",
    "                    #                                   algaemort_restore,temp_change=\"sigmoid\",\n",
    "                    #                                   burnin=False)\n",
    "                    #Calls original coral_restore_fun() that does NOT set trait value using the percentile method\n",
    "                    N1, Z1, SST_runtime = coral_restore_fun(parameters_dict,N0[:,:,-1],Z0[:,:,-1],\n",
    "                                                        SST_burnin[:,-1],anomalies_run_restore,algaemort_restore,\n",
    "                                                        temp_change=\"sigmoid\", trait_restore=trait_restore_val,\n",
    "                                                        burnin=False)\n",
    "                    \n",
    "                    \n",
    "                    fname_template = \"N0.{k}.{j}.{y}.{l}.{m}.{strategy}.npy\"\n",
    "                    np.save(fname_template.format(k=k, j=restore_vec[j], y=restore_val_vec[y], l=genetic_v_vec[l], m=m, strategy=strategy),N0)\n",
    "                    fname_template = \"Z0.{k}.{j}.{y}.{l}.{m}.{strategy}.npy\"\n",
    "                    np.save(fname_template.format(k=k, j=restore_vec[j], y=restore_val_vec[y], l=genetic_v_vec[l], m=m, strategy=strategy),Z0)\n",
    "        \n",
    "                    fname_template = \"N1.{k}.{j}.{y}.{l}.{m}.{strategy}.npy\"\n",
    "                    np.save(fname_template.format(k=k, j=restore_vec[j], y=restore_val_vec[y], l=genetic_v_vec[l], m=m, strategy=strategy),N1)\n",
    "                    fname_template = \"Z1.{k}.{j}.{y}.{l}.{m}.{strategy}.npy\"\n",
    "                    np.save(fname_template.format(k=k, j=restore_vec[j], y=restore_val_vec[y], l=genetic_v_vec[l], m=m, strategy=strategy),Z1)\n",
    "          \n",
    "                    print j\n",
    "                    print k\n",
    "                    print y\n",
    "                    print l\n",
    "                    print m\n",
    "\n",
    "\n"
   ]
  },
  {
   "cell_type": "code",
   "execution_count": null,
   "metadata": {},
   "outputs": [],
   "source": []
  },
  {
   "cell_type": "markdown",
   "metadata": {},
   "source": [
    "# Variance-based approach"
   ]
  },
  {
   "cell_type": "code",
   "execution_count": null,
   "metadata": {},
   "outputs": [
    {
     "name": "stdout",
     "output_type": "stream",
     "text": [
      "BURNIN\n",
      "RUNTIME\n",
      "0\n",
      "0\n",
      "0\n",
      "0\n",
      "0\n",
      "BURNIN\n",
      "RUNTIME\n",
      "0\n",
      "0\n",
      "0\n",
      "0\n",
      "1\n",
      "BURNIN\n",
      "RUNTIME\n",
      "0\n",
      "0\n",
      "0\n",
      "1\n",
      "0\n",
      "BURNIN\n",
      "RUNTIME\n",
      "0\n",
      "0\n",
      "0\n",
      "1\n",
      "1\n",
      "BURNIN\n",
      "RUNTIME\n",
      "0\n",
      "0\n",
      "0\n",
      "2\n",
      "0\n",
      "BURNIN\n",
      "RUNTIME\n",
      "0\n",
      "0\n",
      "0\n",
      "2\n",
      "1\n",
      "BURNIN\n",
      "RUNTIME\n",
      "0\n",
      "0\n",
      "1\n",
      "0\n",
      "0\n",
      "BURNIN\n",
      "RUNTIME\n",
      "0\n",
      "0\n",
      "1\n",
      "0\n",
      "1\n",
      "BURNIN\n",
      "RUNTIME\n",
      "0\n",
      "0\n",
      "1\n",
      "1\n",
      "0\n",
      "BURNIN\n",
      "RUNTIME\n",
      "0\n",
      "0\n",
      "1\n",
      "1\n",
      "1\n",
      "BURNIN\n",
      "RUNTIME\n",
      "0\n",
      "0\n",
      "1\n",
      "2\n",
      "0\n",
      "BURNIN\n",
      "RUNTIME\n",
      "0\n",
      "0\n",
      "1\n",
      "2\n",
      "1\n",
      "BURNIN\n",
      "RUNTIME\n",
      "0\n",
      "0\n",
      "2\n",
      "0\n",
      "0\n",
      "BURNIN\n"
     ]
    }
   ],
   "source": [
    "np.random.seed(11)\n",
    "n_sim = 10\n",
    "Strategy = 'random' #or 'hot'\n",
    "restore_vec = [0.0000000000000000000000000000000000000000000000001, \n",
    "              0.00000000001, 0.000000001, 0.0000001, 0.00001, 0.001]\n",
    "restore_val_vec = [1, 2, 5, 10]\n",
    "genetic_v_vec = np.array([[0.01, 0.01], \n",
    "                          [0.05, 0.05],\n",
    "                           [0.1, 0.1]])\n",
    "MPA_vec = ['none', 'random']\n",
    "for k in range(0, n_sim):\n",
    "    for j in range(0, len(restore_vec)):\n",
    "        for y in range(0, len(restore_val_vec)):\n",
    "            for l in range(0, len(genetic_v_vec)):\n",
    "                for m in range(0, len(MPA_vec)):\n",
    "                    SST0 = generate_temps_cos_fun(size,min_SST=20,max_SST=30) \n",
    "                    spp_state = generate_state_fun(size, nsp, cover=0.25,random=False) \n",
    "#! Choose the baseline connectivity matrix (source reef does not contribute anything):##################################\n",
    "                    connections=4 # Number of patches (NOT including itself) that a patch is connected to\n",
    "                \n",
    "                    #Set the seed to a constant if you want to generate the same random matrix\n",
    "                    #seed = np.random.randint(0,1000) \n",
    "                    #seed=11\n",
    "                    #! REGULAR MATRIX\n",
    "                    D0 = gen_reg_matrix(size=size, connections=connections)\n",
    "                    #! Choose sites to restore\n",
    "                    amount = 0.2\n",
    "                    strategy = Strategy\n",
    "                    restore_status = set_restore_fun(SST0,spp_state,species_type,size,amount,strategy)\n",
    "                    num_restore = np.count_nonzero(restore_status)\n",
    "                \n",
    "                    # Matrix with restoration site row and column\n",
    "                    D1 = np.zeros((D0.shape[0]+num_restore,D0.shape[1]+num_restore))\n",
    "                    D1[:-num_restore,:-num_restore] = D0\n",
    "                    D_no_restore = np.zeros(D1.shape)\n",
    "                    D_no_restore[:,:] = D1\n",
    "                \n",
    "                #Set the 'no restore' matrix such that extra source reefs are self_recruiting\n",
    "                    for i in np.arange(size,size+num_restore):\n",
    "                        D_no_restore[i,i] = 1.0\n",
    "                    \n",
    "                        D_restore = np.zeros(D_no_restore.shape)\n",
    "                        D_restore[:,:] = D_no_restore\n",
    "                    \n",
    "                    restore_array = np.where(restore_status == 1)[1]\n",
    "                \n",
    "                    i=size\n",
    "                    for site in restore_array:\n",
    "                        D_restore[site,i] = 1.0\n",
    "                        i += 1\n",
    "                \n",
    "#Define initial conditions###########################################################################################        \n",
    "                    anomalies_burn = np.tile(np.random.normal(0,temp_stoch,burnin),size).reshape((size,burnin)) \n",
    "                    anomalies_burn_restore = np.ones((anomalies_burn.shape[0]+num_restore,anomalies_burn.shape[1]))\n",
    "                    anomalies_burn_restore[:-num_restore,:] = anomalies_burn\n",
    "                    anomalies_burn_restore[-num_restore:,:] = anomalies_burn[-1,:]\n",
    "                    #shape: number of reefs x time steps \n",
    "                \n",
    "                    anomalies_run = np.tile(np.random.normal(0,temp_stoch,runtime),size).reshape((size,runtime)) \n",
    "                    anomalies_run_restore = np.ones((anomalies_run.shape[0]+num_restore,anomalies_run.shape[1]))\n",
    "                    anomalies_run_restore[:-num_restore,:] = anomalies_run\n",
    "                    anomalies_run_restore[-num_restore:,:] = anomalies_run[-1,:]\n",
    "                    #shape: number of reefs x time steps \n",
    "                \n",
    "                    algaemort = np.random.uniform(alg_mort,alg_mort,(runtime+burnin)*size).reshape((size,runtime+burnin))\n",
    "                    algaemort_restore = np.ones((algaemort.shape[0]+num_restore, algaemort.shape[1]))\n",
    "                    algaemort_restore[:-num_restore,:] = algaemort\n",
    "                    algaemort_restore[-num_restore:,:] = algaemort[-1,:]\n",
    "                    #shape: number of reefs x time steps \n",
    "                \n",
    "                    SST0 = generate_temps_cos_fun(size,min_SST=20,max_SST=30) \n",
    "                    SST0_restore = np.ones((SST0.shape[0]+num_restore))\n",
    "                    SST0_restore[:-num_restore] = SST0\n",
    "                    SST0_restore[-num_restore:] = SST0[-1]\n",
    "                    #shape: number of reefs\n",
    "                \n",
    "                    spp_state = generate_state_fun(size, nsp, cover=0.25,random=False) \n",
    "                    spp_state_restore = np.ones((spp_state.shape[0]+num_restore, spp_state.shape[1]))\n",
    "                    spp_state_restore[:-num_restore,:] = spp_state\n",
    "                    spp_state_restore[-num_restore:,:] = 1.0\n",
    "                    #shape: number of reefs x number of species\n",
    "                \n",
    "                    trait_state = generate_traits_fun(nsp,size,SST0,mid,temp_range,trait_scenario='perfect_adapt') \n",
    "                    trait_state_restore = np.ones((trait_state.shape[0]+num_restore, trait_state.shape[1]))\n",
    "                    trait_state_restore[:-num_restore,:] = trait_state\n",
    "                    trait_state_restore[-num_restore:,:] = restore_val_vec[y]\n",
    "                    #shape: number of reefs x number of species\n",
    "                \n",
    "                    mpa_status = set_MPA_fun(SST0,spp_state,species_type,size,amount=0.2,strategy=MPA_vec[m])\n",
    "                    mpa_status_restore = np.ones((mpa_status.shape[0],mpa_status.shape[1]+num_restore))\n",
    "                    mpa_status_restore[:,:-num_restore] = mpa_status\n",
    "                    mpa_status_restore[:,-num_restore:] = mpa_status[:,-1]\n",
    "                    #shape: 1 x number of reefs\n",
    "#Burnin#####################################################################################################################################                \n",
    "                    # Alter the baseline percent cover on the source reef in order to set the amount of coral cover to send to \n",
    "                    # restoration reefs. The amount in the third column doesn't matter since macroalgae don't experience recruitment\n",
    "                    # from other sites\n",
    "                    # This does NOT matter for the burnin\n",
    "                    #source_cover = np.ones((num_restore,nsp)) #this sets every source reef at 1, can set with another array to change values\n",
    "                    #source_cover = np.array([1.0,1.0])\n",
    "                    source_cover = np.array([restore_vec[j],0.0000000000000000000000000000000000000000000000001])\n",
    "                    #Start (and keep) restoration source reefs at the baseline amount with specified trait value\n",
    "                    #trait_restore_val = restore_val_vec[y]\n",
    "                    spp_state_restore[-num_restore:,:] = source_cover\n",
    "                    trait_state_restore[-num_restore,:] = np.repeat(trait_restore_val,nsp)\n",
    "                \n",
    "                    # This is where you tell the model when to use the restoration matrix; we can write something more sophisticated to\n",
    "                    # generate this later on. For example, something that takes in a \"frequency\" instead of having to manually input years\n",
    "                    restoration_years = []\n",
    "                \n",
    "                    trait_strategy = 'variance'\n",
    "                \n",
    "                    #burnin \n",
    "                    time_steps=burnin\n",
    "                    timemod = 0 #to offset algae mortality index\n",
    "                    parameters_dict = {'nsp': nsp, \n",
    "                                        'size': size, \n",
    "                                        'time_steps': burnin, \n",
    "                                        'species_type': species_type, \n",
    "                                        'V': genetic_v_vec[l],  \n",
    "                                        'D0': D_no_restore, \n",
    "                                        'D1': D_restore,\n",
    "                                        'beta': beta,\n",
    "                                        'r_max': r_max,\n",
    "                                        'alphas': alphas,\n",
    "                                        'mortality_model': mortality_model,\n",
    "                                        'mpa_status': mpa_status,\n",
    "                                        'w': w,\n",
    "                                        'm_const': m_const,\n",
    "                                        'maxtemp': maxtemp,\n",
    "                                        'annual_temp_change': annual_temp_change,\n",
    "                                        'timemod': timemod,\n",
    "                                        'restoration_years': restoration_years,\n",
    "                                        'source_cover': source_cover,\n",
    "                                        'trait_strategy': trait_strategy,\n",
    "                                        'value': value,\n",
    "                                        'scaling_frac': restore_val_vec[y],\n",
    "                                        'percentile': percentile,\n",
    "                                        'num_restore':num_restore,\n",
    "                                        'restore_array':restore_array\n",
    "                                        }\n",
    "                    N0, Z0, SST_burnin = coral_restore_fun2(parameters_dict,spp_state_restore,trait_state_restore,\n",
    "                                                       SST0_restore,anomalies_burn_restore,\n",
    "                                                       algaemort_restore,temp_change=\"constant\",\n",
    "                                                       burnin=True)\n",
    "                    #N0, Z0, SST_burnin = coral_restore_fun(parameters_dict,spp_state_restore,trait_state_restore,\n",
    "                    #                                               SST0_restore,anomalies_burn_restore,\n",
    "                    #                                               algaemort_restore,temp_change=\"constant\",\n",
    "                    #                                               trait_restore=trait_restore_val,\n",
    "                    #                                               burnin=True)\n",
    "#Save Burnin as csv ###################################################################################################\n",
    "                    #burnin_N_sp1 = N0[:,0,:]\n",
    "                    #burnin_N_sp2 = N0[:,1,:]\n",
    "                \n",
    "                    #burnin_Z_sp1 = Z0[:,0,:]\n",
    "                    #burnin_Z_sp2 = Z0[:,1,:]\n",
    "\n",
    "                    #! Save each species as a separate file: species percent cover\n",
    "                    #np.savetxt(\"burnin_N_sp1.csv\", burnin_N_sp1, delimiter=',')\n",
    "                    #np.savetxt(\"burnin_N_sp2.csv\", burnin_N_sp2, delimiter=',')\n",
    "                \n",
    "                    #! Save each species as a separate file: species trait value\n",
    "                    #np.savetxt(\"burnin_Z_sp1.csv\", burnin_Z_sp1, delimiter=',')\n",
    "                    #np.savetxt(\"burnin_Z_sp2.csv\", burnin_Z_sp2, delimiter=',')\n",
    "                \n",
    "#Runtime##############################################################################################################\n",
    "# Alter the baseline percent cover on the source reef in order to set the amount of coral cover to send to \n",
    "# restoration reefs. The amount in the third column doesn't matter since macroalgae don't experience recruitment\n",
    "# from other sites\n",
    "                    #source_cover = np.array([1.0,1.0])\n",
    "                    source_cover = np.array([restore_vec[j],0.0000000000000000000000000000000000000000000000001])\n",
    "                \n",
    "                    # Note: the code does NOT like having a zero value in one of these; use 1e-6 to approximate zero\n",
    "                \n",
    "                    #runtime parameters: all restoration years\n",
    "                    mpa_status = set_MPA_fun(SST0,spp_state,species_type,size,amount=0.2,strategy=MPA_vec[m])\n",
    "                    time_steps = runtime\n",
    "                \n",
    "                    # This is where you tell the model when to use the restoration matrix; we can write something more sophisticated to\n",
    "                    # generate this later on. For example, something that takes in a \"frequency\" instead of having to manually input years\n",
    "                \n",
    "                    #restoration_years = [1,5,20]\n",
    "                    restoration_years = list(range(runtime)) #restoration occurs during all years in runtime\n",
    "                    #restoration_years = []\n",
    "                \n",
    "                    timemod = burnin #to offset algae mortality index\n",
    "                \n",
    "                    parameters_dict = {'nsp': nsp, \n",
    "                                        'size': size, \n",
    "                                        'time_steps': runtime, \n",
    "                                        'species_type': species_type, \n",
    "                                        'V': genetic_v_vec[l],  \n",
    "                                        'D0': D_no_restore, \n",
    "                                        'D1': D_restore,\n",
    "                                        'beta': beta,\n",
    "                                        'r_max': r_max,\n",
    "                                        'alphas': alphas,\n",
    "                                        'mortality_model': mortality_model,\n",
    "                                        'mpa_status': mpa_status,\n",
    "                                        'w': w,\n",
    "                                        'm_const': m_const,\n",
    "                                        'maxtemp': maxtemp,\n",
    "                                        'annual_temp_change': annual_temp_change,\n",
    "                                        'timemod': timemod,\n",
    "                                        'restoration_years': restoration_years,\n",
    "                                        'source_cover': source_cover,\n",
    "                                        'trait_strategy': trait_strategy,\n",
    "                                        'value': value,\n",
    "                                        'scaling_frac': scaling_frac,\n",
    "                                        'percentile': percentile,\n",
    "                                        'num_restore':num_restore,\n",
    "                                        'restore_array':restore_array\n",
    "                                        }\n",
    "                \n",
    "                    N1, Z1, SST_runtime = coral_restore_fun2(parameters_dict,N0[:,:,-1],Z0[:,:,-1],\n",
    "                                                       SST_burnin[:,-1],anomalies_run_restore,\n",
    "                                                       algaemort_restore,temp_change=\"sigmoid\",\n",
    "                                                       burnin=False)\n",
    "                    #Calls original coral_restore_fun() that does NOT set trait value using the percentile method\n",
    "                    #N1, Z1, SST_runtime = coral_restore_fun(parameters_dict,N0[:,:,-1],Z0[:,:,-1],\n",
    "                    #                                    SST_burnin[:,-1],anomalies_run_restore,algaemort_restore,\n",
    "                    #                                    temp_change=\"sigmoid\", trait_restore=trait_restore_val,\n",
    "                    #                                    burnin=False)\n",
    "                    #\n",
    "#Save runtime as csv ###################################################################################################\n",
    "                    runtime_N_sp1 = N1[:,0,:]\n",
    "                    runtime_N_sp2 = N1[:,1,:]\n",
    "                \n",
    "                    runtime_Z_sp1 = Z1[:,0,:]\n",
    "                    runtime_Z_sp2 = Z1[:,1,:]\n",
    "                \n",
    "                    #! Save each species as a separate file: species percent cover\n",
    "                    fname_template = \"runtime_N_sp1.{k}.{j}.{y}.{l}.{m}.{strategy}.{trait_strategy}.csv\"\n",
    "                    np.savetxt(fname_template.format(k=k, j=j, y=y, l=l, m=m, strategy=strategy, trait_strategy=trait_strategy), runtime_N_sp1, delimiter=',')\n",
    "                    fname_template = \"runtime_N_sp2.{k}.{j}.{y}.{l}.{m}.{strategy}.{trait_strategy}.csv\"\n",
    "                    np.savetxt(fname_template.format(k=k, j=j, y=y, l=l, m=m, strategy=strategy, trait_strategy=trait_strategy), runtime_N_sp2, delimiter=',')\n",
    "                \n",
    "                    #! Save each species as a separate file: species trait value\n",
    "                    fname_template = \"runtime_Z_sp1.{k}.{j}.{y}.{l}.{m}.{strategy}.{trait_strategy}.csv\"\n",
    "                    np.savetxt(fname_template.format(k=k, j=j, y=y, l=l, m=m, strategy=strategy, trait_strategy=trait_strategy), runtime_Z_sp1, delimiter=',')\n",
    "                    fname_template = \"runtime_Z_sp2.{k}.{j}.{y}.{l}.{m}.{strategy}.{trait_strategy}.csv\"\n",
    "                    np.savetxt(fname_template.format(k=k, j=j, y=y, l=l, m=m, strategy=strategy, trait_strategy=trait_strategy), runtime_Z_sp2, delimiter=',')\n",
    "                                \n",
    "                    print j\n",
    "                    print k\n",
    "                    print y\n",
    "                    print l\n",
    "                    print m\n",
    "\n",
    "\n"
   ]
  },
  {
   "cell_type": "code",
   "execution_count": null,
   "metadata": {},
   "outputs": [],
   "source": []
  },
  {
   "cell_type": "code",
   "execution_count": null,
   "metadata": {},
   "outputs": [],
   "source": []
  },
  {
   "cell_type": "code",
   "execution_count": null,
   "metadata": {},
   "outputs": [],
   "source": []
  },
  {
   "cell_type": "code",
   "execution_count": null,
   "metadata": {},
   "outputs": [],
   "source": []
  },
  {
   "cell_type": "code",
   "execution_count": null,
   "metadata": {},
   "outputs": [],
   "source": []
  },
  {
   "cell_type": "code",
   "execution_count": null,
   "metadata": {},
   "outputs": [],
   "source": []
  },
  {
   "cell_type": "code",
   "execution_count": null,
   "metadata": {},
   "outputs": [],
   "source": []
  }
 ],
 "metadata": {
  "kernelspec": {
   "display_name": "Python 2",
   "language": "python",
   "name": "python2"
  },
  "language_info": {
   "codemirror_mode": {
    "name": "ipython",
    "version": 2
   },
   "file_extension": ".py",
   "mimetype": "text/x-python",
   "name": "python",
   "nbconvert_exporter": "python",
   "pygments_lexer": "ipython2",
   "version": "2.7.15"
  }
 },
 "nbformat": 4,
 "nbformat_minor": 2
}
